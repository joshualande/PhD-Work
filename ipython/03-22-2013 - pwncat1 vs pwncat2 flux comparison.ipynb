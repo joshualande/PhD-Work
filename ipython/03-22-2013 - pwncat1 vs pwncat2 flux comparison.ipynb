{
 "metadata": {
  "name": "03-22-2013 - pwncat1 vs pwncat2 flux comparison"
 },
 "nbformat": 3,
 "nbformat_minor": 0,
 "worksheets": [
  {
   "cells": [
    {
     "cell_type": "code",
     "collapsed": false,
     "input": [
      "from uw.like.Models import PowerLaw"
     ],
     "language": "python",
     "metadata": {},
     "outputs": [],
     "prompt_number": 3
    },
    {
     "cell_type": "markdown",
     "metadata": {},
     "source": [
      "First, define Vela X from my off peak analysis:"
     ]
    },
    {
     "cell_type": "code",
     "collapsed": false,
     "input": [
      "my_vela_x=PowerLaw(index=2.113881942260009)\n",
      "my_vela_x.set_flux(flux=40.7, e_weight=1, emin=1e2, emax=10**5.5)"
     ],
     "language": "python",
     "metadata": {},
     "outputs": [],
     "prompt_number": 29
    },
    {
     "cell_type": "markdown",
     "metadata": {},
     "source": [
      "Make sure the flux is correct:"
     ]
    },
    {
     "cell_type": "code",
     "collapsed": false,
     "input": [
      "print my_vela_x.i_flux(e_weight=1, emin=100, emax=10**5) "
     ],
     "language": "python",
     "metadata": {},
     "outputs": [
      {
       "output_type": "stream",
       "stream": "stdout",
       "text": [
        "36.9081795079\n"
       ]
      }
     ],
     "prompt_number": 35
    },
    {
     "cell_type": "markdown",
     "metadata": {},
     "source": [
      "Now, ocmpute flux in the"
     ]
    },
    {
     "cell_type": "code",
     "collapsed": false,
     "input": [
      "my_vela_x.i_flux(e_weight=1, emin=200, emax=1e5) "
     ],
     "language": "python",
     "metadata": {},
     "outputs": [
      {
       "output_type": "pyout",
       "prompt_number": 33,
       "text": [
        "31.764609736227587"
       ]
      }
     ],
     "prompt_number": 33
    },
    {
     "cell_type": "code",
     "collapsed": false,
     "input": [],
     "language": "python",
     "metadata": {},
     "outputs": []
    }
   ],
   "metadata": {}
  }
 ]
}