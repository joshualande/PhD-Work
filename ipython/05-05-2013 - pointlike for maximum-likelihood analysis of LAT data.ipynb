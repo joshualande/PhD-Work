{
 "metadata": {
  "name": "05-05-2013 - pointlike for maximum-likelihood analysis of LAT data"
 },
 "nbformat": 3,
 "nbformat_minor": 0,
 "worksheets": [
  {
   "cells": [
    {
     "cell_type": "markdown",
     "metadata": {},
     "source": [
      "# The Fermi Gamma-ray Space Telescope Overview:\n",
      "\n",
      "<img src=\"http://www-public.slac.stanford.edu/glast/images/FGSTimage.jpg\">\n",
      "\n",
      "The LAT is composed of 3 sections: tracker, calorimiter, anit-coincidence detector\n",
      "\n",
      "<img src=\"http://www-glast.stanford.edu/images/LAT_cutaway.png\">\n",
      "\n",
      "<img src=\"http://www.slac.stanford.edu/exp/glast/groups/canda/lat_Performance_files/cAeffEnergy_P7SOURCE_V6.png\">\n",
      "\n",
      "<img src=\"http://www.slac.stanford.edu/exp/glast/groups/canda/lat_Performance_files/cPsfEnergy_P7SOURCE_V6.png\">"
     ]
    },
    {
     "cell_type": "markdown",
     "metadata": {},
     "source": [
      "Pointlike for maximum-likelihood analysis of LAT data\n",
      "\n",
      "* sadf\n",
      "* asdf\n",
      "\n",
      "My contributions to the code\n",
      "\n",
      "* asdf\n",
      "* asdf\n",
      "* http://arxiv.org/abs/1207.0027"
     ]
    },
    {
     "cell_type": "markdown",
     "metadata": {},
     "source": [
      "# Simulating pointlike data with gtobssim"
     ]
    },
    {
     "cell_type": "code",
     "collapsed": false,
     "input": [
      "# disble those annoying numpy errors\n",
      "np.seterr(all='ignore')"
     ],
     "language": "python",
     "metadata": {},
     "outputs": [
      {
       "output_type": "pyout",
       "prompt_number": 29,
       "text": [
        "{'divide': 'ignore', 'invalid': 'ignore', 'over': 'ignore', 'under': 'ignore'}"
       ]
      }
     ],
     "prompt_number": 29
    },
    {
     "cell_type": "code",
     "collapsed": false,
     "input": [
      "# First, make a temporary directory to work in\n",
      "from tempfile import mkdtemp\n",
      "#savedir=mkdtemp()\n",
      "\n",
      "from os.path import expandvars\n",
      "savedir=expandvars('$HOME/temp')\n",
      "\n",
      "savedir"
     ],
     "language": "python",
     "metadata": {},
     "outputs": [
      {
       "output_type": "pyout",
       "prompt_number": 30,
       "text": [
        "'/u/gl/lande/temp'"
       ]
      }
     ],
     "prompt_number": 30
    },
    {
     "cell_type": "markdown",
     "metadata": {},
     "source": [
      "Now we can define the background mdoel"
     ]
    },
    {
     "cell_type": "code",
     "collapsed": false,
     "input": [
      "from uw.like.pointspec_helpers import get_default_diffuse\n",
      "from lande.fermi.diffuse.background import get_sreekumar \n",
      "bg = get_sreekumar(diff_factor=100)\n"
     ],
     "language": "python",
     "metadata": {},
     "outputs": [],
     "prompt_number": 31
    },
    {
     "cell_type": "markdown",
     "metadata": {},
     "source": [
      "Now we create and simulate a point-like source\n",
      "\n",
      "Before simulating, we need to define a point-like source."
     ]
    },
    {
     "cell_type": "code",
     "collapsed": false,
     "input": [
      "from uw.like.pointspec_helpers import PointSource\n",
      "from uw.like.Models import PowerLaw\n",
      "from skymaps import SkyDir\n",
      "skydir = SkyDir(30,-60, SkyDir.GALACTIC)\n",
      "model = PowerLaw(norm=1e-9, index=2)\n",
      "ps=PointSource(name='ps', model=model, skydir=skydir)"
     ],
     "language": "python",
     "metadata": {},
     "outputs": [],
     "prompt_number": 32
    },
    {
     "cell_type": "markdown",
     "metadata": {},
     "source": [
      "Next we can create a spatially-extended source"
     ]
    },
    {
     "cell_type": "code",
     "collapsed": false,
     "input": [
      "from uw.like.roi_extended import ExtendedSource\n",
      "from uw.like.SpatialModels import Disk\n",
      "skydir = SkyDir(30 + 2,-60 + 2, SkyDir.GALACTIC) \n",
      "spatial_model = Disk(sigma=1, center=skydir)\n",
      "model = PowerLaw(norm=1e-9, index=2)\n",
      "ext=ExtendedSource(name='ext', model=model, spatial_model=spatial_model)\n",
      "ext"
     ],
     "language": "python",
     "metadata": {},
     "outputs": [
      {
       "output_type": "pyout",
       "prompt_number": 57,
       "text": [
        "<uw.like.roi_extended.ExtendedSource at 0x14032bd0>"
       ]
      }
     ],
     "prompt_number": 57
    },
    {
     "cell_type": "markdown",
     "metadata": {},
     "source": [
      "Now we run the simulation"
     ]
    },
    {
     "cell_type": "code",
     "collapsed": false,
     "input": [
      "# First define the simulated data\n",
      "from os.path import join\n",
      "ft1 = join(savedir, 'ft1.fits')\n",
      "ft2 = join(savedir, 'ft2.fits')"
     ],
     "language": "python",
     "metadata": {},
     "outputs": [],
     "prompt_number": 34
    },
    {
     "cell_type": "code",
     "collapsed": false,
     "input": [
      "from skymaps import SkyDir\n",
      "\n",
      "roi_dir = SkyDir(30, -60, SkyDir.GALACTIC)\n",
      "\n",
      "\n",
      "sources=[ps,bg,ext]\n",
      "\n",
      "from uw.like.roi_monte_carlo import MonteCarlo\n",
      "mc = MonteCarlo(\n",
      "    sources=sources,\n",
      "    seed=0,\n",
      "    emin=1e3,\n",
      "    emax=1e5,\n",
      "    roi_dir=roi_dir,\n",
      "    maxROI=5,\n",
      "    irf='P7SOURCE_V6',\n",
      "    ft1=ft1,\n",
      "    ft2=ft2,\n",
      "    tstart=0,\n",
      "    tstop=604800,\n",
      "    zmax=100,\n",
      "    savedir=savedir\n",
      ")\n",
      "mc.simulate()\n"
     ],
     "language": "python",
     "metadata": {},
     "outputs": [
      {
       "output_type": "stream",
       "stream": "stdout",
       "text": [
        "Simulating in energy range from 1000 MeV to 100000 MeV\n",
        "working in directory /u/gl/lande/temp\n",
        "Processing source ps\n",
        "Processing source Sreekumar Isotropic x100\n",
        "Processing source ext\n",
        "current pfile settings"
       ]
      },
      {
       "output_type": "stream",
       "stream": "stdout",
       "text": [
        " /u/gl/lande/temp;/nfs/farm/g/glast/u35/ReleaseManagerBuild/redhat6-x86_64-64bit-gcc44/Optimized/ScienceTools/09-31-01/syspfiles\n",
        "time -p gtobssim infile=/u/gl/lande/temp/source_library.xml srclist=/u/gl/lande/temp/source_list.txt scfile=none sctable=\"SC_DATA\" evroot=\"sim\" evtable=\"EVENTS\" simtime=604800.0 ltfrac=0.9 tstart=0.0 nevents=no maxtime=315500000.0 startdate=\"2001-01-01 00:00:00\" offset=0 rockangle=\"INDEF\" use_ac=yes ra=339.521406361 dec=-24.6868042342 radius=10.0 emin=1000.0 emax=100000.0 edisp=yes irfs=\"P7SOURCE_V6\" area=1.0 maxrows=200000000 seed=0 chatter=2 clobber=yes debug=no gui=no mode=\"ql\"\n",
        "added source \"ps\""
       ]
      },
      {
       "output_type": "stream",
       "stream": "stdout",
       "text": [
        "\n",
        "added source \"Sreekumar_Isotropic_x100\"\n",
        "added source \"ext\"\n",
        "Generating events for a simulation time of 604800 seconds....\n",
        "Done.\n",
        "real 75.41\n",
        "user 68.82\n",
        "sys 1.36\n",
        "Applying zenith angle cut (zmax=100) to simulated data\n",
        "time -p gtselect infile=/u/gl/lande/temp/sim_events_0000.fits outfile=/u/gl/lande/temp/ft1_zcut.fits ra=339.521406361 dec=-24.6868042342 rad=10.0 tmin=0.0 tmax=0.0 emin=1000.0 emax=100000.0 zmax=100.0 evclsmin=0 evclsmax=10 evclass=\"INDEF\" convtype=-1 phasemin=0.0 phasemax=1.0 evtable=\"EVENTS\" chatter=2 clobber=yes debug=no gui=no mode=\"ql\"\n",
        "Done."
       ]
      },
      {
       "output_type": "stream",
       "stream": "stdout",
       "text": [
        "\n",
        "real 2.94\n",
        "user 0.46\n",
        "sys 0.44\n"
       ]
      }
     ],
     "prompt_number": 35
    },
    {
     "cell_type": "markdown",
     "metadata": {},
     "source": [
      "# Explore the simulated data"
     ]
    },
    {
     "cell_type": "markdown",
     "metadata": {},
     "source": [
      "We can make a simple plot of the simulated data using the excelent <a href=\"http://leejjoon.github.io/pywcsgrid2/\">pywcsgrid2</a> module."
     ]
    },
    {
     "cell_type": "code",
     "collapsed": false,
     "input": [
      "import os\n",
      "cmap = join(savedir,\"cmap.fits\")\n",
      "os.system('gtbin evfile=%s scfile=%s outfile=%s algorithm=cmap  \\\n",
      "           nxpix=100 nypix=100 xref=30 yref=-60 coordsys=GAL binsz=0.1 proj=AIT axisrot=0'\n",
      "          % (ft1, ft2, cmap)\n",
      "      )"
     ],
     "language": "python",
     "metadata": {},
     "outputs": [
      {
       "output_type": "pyout",
       "prompt_number": 36,
       "text": [
        "0"
       ]
      }
     ],
     "prompt_number": 36
    },
    {
     "cell_type": "code",
     "collapsed": false,
     "input": [
      "import pywcsgrid2\n",
      "import pyfits\n",
      "f=pyfits.open(cmap)\n",
      "\n",
      "figure(None,(6,6))\n",
      "pywcsgrid2.subplot(111, header=f[0].header)\n",
      "plt.imshow(f[0].data, origin=\"lower\", interpolation='nearest')\n",
      "grid(color='white')"
     ],
     "language": "python",
     "metadata": {},
     "outputs": [
      {
       "output_type": "display_data",
       "png": "[encoded data removed]"
      }
     ],
     "prompt_number": 63
    },
    {
     "cell_type": "markdown",
     "metadata": {},
     "source": [
      "# Now, perform pointlike analysis"
     ]
    },
    {
     "cell_type": "code",
     "collapsed": false,
     "input": [
      "from skymaps import SkyDir\n",
      "\n",
      "from uw.like.pointspec import DataSpecification, SpectralAnalysis\n",
      "\n",
      "ltcube = join(savedir, 'ltcube.fits')\n",
      "binfile = join(savedir, 'binned.fits')\n",
      "\n",
      "ds=DataSpecification(binfile=binfile,\n",
      "                     ltcube=ltcube,\n",
      "                     ft1files=ft1,\n",
      "                     ft2files=ft2)\n",
      "\n",
      "center=SkyDir(30,-60,SkyDir.GALACTIC)\n",
      "\n",
      "sa=SpectralAnalysis(ds,\n",
      "                    binsperdec=2,\n",
      "                    event_class=2,\n",
      "                    emin=1e3,emax=1e5,\n",
      "                    irf=\"P7SOURCE_V6\",\n",
      "                    roi_dir=center,\n",
      "                    use_weighted_livetime=True,\n",
      "                    maxROI=5,\n",
      "                    minROI=5)\n",
      "roi = sa.roi(point_sources=[ps.copy()], \n",
      "             diffuse_sources=[ext.copy(), bg.copy()])"
     ],
     "language": "python",
     "metadata": {},
     "outputs": [
      {
       "output_type": "stream",
       "stream": "stdout",
       "text": [
        "LivetimeCube file /u/gl/lande/temp/ltcube.fits does not exist: will generate it from the ft2 files\n",
        "loading FT2 file /u/gl/lande/temp/ft2.fits"
       ]
      },
      {
       "output_type": "stream",
       "stream": "stdout",
       "text": [
        " no extension WEIGHTED_EXPOSURE in file /u/gl/lande/temp/ltcube.fits: will generate it from the ft2files\n",
        "loading FT2 file /u/gl/lande/temp/ft2.fits "
       ]
      },
      {
       "output_type": "stream",
       "stream": "stdout",
       "text": [
        "\n",
        "            ###################WARNING!!!##########################\n",
        "            It is STRONGLY recommended that you use a binning comm-\n",
        "            ensurate with CALDB binning.  This can be achieved by \n",
        "            making sure 100 MeV appears in the bin edges (an easy \n",
        "            way is to set emin=100) and that binsperdec is a multi-\n",
        "            ple of 4.  You can choose a subset of these bins in the\n",
        "            likelihood fitting if you want to narrow the energy\n",
        "            bounds.\n",
        "            #######################################################\n",
        "            \n",
        ".....set Data theta cut at 66.4 deg\n",
        "loading 1 FT1 file(s) /u/gl/lande/temp/ft1.fits.../u/gl/lande/temp/ft1.fits\n",
        "selecting event_class 2\n",
        ".....saving binfile /u/gl/lande/temp/binned.fits for subsequent use"
       ]
      },
      {
       "output_type": "stream",
       "stream": "stdout",
       "text": [
        "\n",
        ".....loading binfile /u/gl/lande/temp/binned.fits ..."
       ]
      },
      {
       "output_type": "stream",
       "stream": "stdout",
       "text": [
        " found 8 bands, energies 1000-100000 MeV\n",
        ".....setting up point sources (1 in ROI)..."
       ]
      },
      {
       "output_type": "stream",
       "stream": "stdout",
       "text": [
        " done!\n",
        ".....setting up diffuse/extended backgrounds for 8 bands...\n",
        ".......... ext"
       ]
      },
      {
       "output_type": "stream",
       "stream": "stdout",
       "text": [
        " ...convolving band  1/ 8"
       ]
      },
      {
       "output_type": "stream",
       "stream": "stdout",
       "text": [
        " \b\b\b\b\b\b\b\b\b\b\b\b\b\b\b\b\b\b\b\b\b\b\b\b\b\b"
       ]
      },
      {
       "output_type": "stream",
       "stream": "stdout",
       "text": [
        " ...convolving band  2/ 8"
       ]
      },
      {
       "output_type": "stream",
       "stream": "stdout",
       "text": [
        " \b\b\b\b\b\b\b\b\b\b\b\b\b\b\b\b\b\b\b\b\b\b\b\b\b\b"
       ]
      },
      {
       "output_type": "stream",
       "stream": "stdout",
       "text": [
        " ...convolving band  3/ 8"
       ]
      },
      {
       "output_type": "stream",
       "stream": "stdout",
       "text": [
        " \b\b\b\b\b\b\b\b\b\b\b\b\b\b\b\b\b\b\b\b\b\b\b\b\b\b"
       ]
      },
      {
       "output_type": "stream",
       "stream": "stdout",
       "text": [
        " ...convolving band  4/ 8"
       ]
      },
      {
       "output_type": "stream",
       "stream": "stdout",
       "text": [
        " \b\b\b\b\b\b\b\b\b\b\b\b\b\b\b\b\b\b\b\b\b\b\b\b\b\b"
       ]
      },
      {
       "output_type": "stream",
       "stream": "stdout",
       "text": [
        " ...convolving band  5/ 8"
       ]
      },
      {
       "output_type": "stream",
       "stream": "stdout",
       "text": [
        " \b\b\b\b\b\b\b\b\b\b\b\b\b\b\b\b\b\b\b\b\b\b\b\b\b\b"
       ]
      },
      {
       "output_type": "stream",
       "stream": "stdout",
       "text": [
        " ...convolving band  6/ 8"
       ]
      },
      {
       "output_type": "stream",
       "stream": "stdout",
       "text": [
        " \b\b\b\b\b\b\b\b\b\b\b\b\b\b\b\b\b\b\b\b\b\b\b\b\b\b"
       ]
      },
      {
       "output_type": "stream",
       "stream": "stdout",
       "text": [
        " ...convolving band  7/ 8"
       ]
      },
      {
       "output_type": "stream",
       "stream": "stdout",
       "text": [
        " \b\b\b\b\b\b\b\b\b\b\b\b\b\b\b\b\b\b\b\b\b\b\b\b\b\b"
       ]
      },
      {
       "output_type": "stream",
       "stream": "stdout",
       "text": [
        " ...convolving band  8/ 8"
       ]
      },
      {
       "output_type": "stream",
       "stream": "stdout",
       "text": [
        " \b\b\b\b\b\b\b\b\b\b\b\b\b\b\b\b\b\b\b\b\b\b\b\b\b\b"
       ]
      },
      {
       "output_type": "stream",
       "stream": "stdout",
       "text": [
        "\n",
        ".......... Sreekumar Isotropic x100"
       ]
      },
      {
       "output_type": "stream",
       "stream": "stdout",
       "text": [
        " ...convolving band  1/ 8"
       ]
      },
      {
       "output_type": "stream",
       "stream": "stdout",
       "text": [
        " \b\b\b\b\b\b\b\b\b\b\b\b\b\b\b\b\b\b\b\b\b\b\b\b\b\b"
       ]
      },
      {
       "output_type": "stream",
       "stream": "stdout",
       "text": [
        " ...convolving band  2/ 8"
       ]
      },
      {
       "output_type": "stream",
       "stream": "stdout",
       "text": [
        " \b\b\b\b\b\b\b\b\b\b\b\b\b\b\b\b\b\b\b\b\b\b\b\b\b\b"
       ]
      },
      {
       "output_type": "stream",
       "stream": "stdout",
       "text": [
        " ...convolving band  3/ 8"
       ]
      },
      {
       "output_type": "stream",
       "stream": "stdout",
       "text": [
        " \b\b\b\b\b\b\b\b\b\b\b\b\b\b\b\b\b\b\b\b\b\b\b\b\b\b"
       ]
      },
      {
       "output_type": "stream",
       "stream": "stdout",
       "text": [
        " ...convolving band  4/ 8"
       ]
      },
      {
       "output_type": "stream",
       "stream": "stdout",
       "text": [
        " \b\b\b\b\b\b\b\b\b\b\b\b\b\b\b\b\b\b\b\b\b\b\b\b\b\b"
       ]
      },
      {
       "output_type": "stream",
       "stream": "stdout",
       "text": [
        " ...convolving band  5/ 8"
       ]
      },
      {
       "output_type": "stream",
       "stream": "stdout",
       "text": [
        " \b\b\b\b\b\b\b\b\b\b\b\b\b\b\b\b\b\b\b\b\b\b\b\b\b\b"
       ]
      },
      {
       "output_type": "stream",
       "stream": "stdout",
       "text": [
        " ...convolving band  6/ 8"
       ]
      },
      {
       "output_type": "stream",
       "stream": "stdout",
       "text": [
        " \b\b\b\b\b\b\b\b\b\b\b\b\b\b\b\b\b\b\b\b\b\b\b\b\b\b"
       ]
      },
      {
       "output_type": "stream",
       "stream": "stdout",
       "text": [
        " ...convolving band  7/ 8"
       ]
      },
      {
       "output_type": "stream",
       "stream": "stdout",
       "text": [
        " \b\b\b\b\b\b\b\b\b\b\b\b\b\b\b\b\b\b\b\b\b\b\b\b\b\b"
       ]
      },
      {
       "output_type": "stream",
       "stream": "stdout",
       "text": [
        " ...convolving band  8/ 8"
       ]
      },
      {
       "output_type": "stream",
       "stream": "stdout",
       "text": [
        " \b\b\b\b\b\b\b\b\b\b\b\b\b\b\b\b\b\b\b\b\b\b\b\b\b\b"
       ]
      },
      {
       "output_type": "stream",
       "stream": "stdout",
       "text": [
        "\n"
       ]
      }
     ],
     "prompt_number": 38
    },
    {
     "cell_type": "code",
     "collapsed": false,
     "input": [
      "roi.print_summary()"
     ],
     "language": "python",
     "metadata": {},
     "outputs": [
      {
       "output_type": "stream",
       "stream": "stdout",
       "text": [
        " ------------------------------------------------------------------------------------------ \n",
        "\t Nearby sources within 5.0 degrees \n",
        " name               dist        ra       dec        TS     flux8     index      beta    cutoff\n",
        " ps                  0.0   339.521   -24.687      2109    999.90?     2.00?\n",
        " ext                 2.2   337.649   -23.227      1995    999.90?     2.00?\n",
        " ------------------------------------------------------------------------------------------\n",
        " \tDiffuse sources\n",
        " ------------------------------------------------------------------------------------------\n",
        " Sreekumar Isotropic x100      0.00?      2.10 \n",
        " ------------------------------------------------------------------------------------------\n",
        " logLikelihood =  -10857.6817507\n",
        " ------------------------------------------------------------------------------------------\n"
       ]
      }
     ],
     "prompt_number": 39
    },
    {
     "cell_type": "code",
     "collapsed": false,
     "input": [
      "roi.fit(use_gradient=False)"
     ],
     "language": "python",
     "metadata": {},
     "outputs": [
      {
       "output_type": "stream",
       "stream": "stdout",
       "text": [
        ".....performing likelihood maximization... "
       ]
      },
      {
       "output_type": "stream",
       "stream": "stdout",
       "text": [
        "Optimization terminated successfully.\n",
        "         Current function value: 10852.254334\n",
        "         Iterations: 91\n",
        "         Function evaluations: 167\n",
        "Function value at minimum: 10852.254\n",
        "Attempting to invert full hessian..."
       ]
      },
      {
       "output_type": "stream",
       "stream": "stdout",
       "text": [
        "\n"
       ]
      },
      {
       "output_type": "pyout",
       "prompt_number": 40,
       "text": [
        "-10852.254333521974"
       ]
      }
     ],
     "prompt_number": 40
    },
    {
     "cell_type": "code",
     "collapsed": false,
     "input": [
      "roi.print_summary()"
     ],
     "language": "python",
     "metadata": {},
     "outputs": [
      {
       "output_type": "stream",
       "stream": "stdout",
       "text": [
        " ------------------------------------------------------------------------------------------ \n",
        "\t Nearby sources within 5.0 degrees \n",
        " name               dist        ra       dec        TS     flux8     index      beta    cutoff\n",
        " ps                  0.0   339.521   -24.687      2108    929.92!     2.00!\n",
        " ext                 2.2   337.649   -23.227      1998    689.93!     1.88!\n",
        " ------------------------------------------------------------------------------------------\n",
        " \tDiffuse sources\n",
        " ------------------------------------------------------------------------------------------\n",
        " Sreekumar Isotropic x100      0.00!      2.10 \n",
        " ------------------------------------------------------------------------------------------\n",
        " logLikelihood =  -10852.2543335\n",
        " ------------------------------------------------------------------------------------------\n"
       ]
      }
     ],
     "prompt_number": 41
    },
    {
     "cell_type": "markdown",
     "metadata": {},
     "source": [
      "A 'SED' plot is a spectral energy distribution."
     ]
    },
    {
     "cell_type": "code",
     "collapsed": false,
     "input": [
      "from lande.fermi.spectra.pointlike import PointlikeSED\n",
      "sed = PointlikeSED(roi, name='ps')\n",
      "sed.plot(figsize=(6,6))"
     ],
     "language": "python",
     "metadata": {},
     "outputs": [
      {
       "output_type": "pyout",
       "prompt_number": 50,
       "text": [
        "<lande.fermi.likelihood.specplot.SpectralAxes at 0xd23a410>"
       ]
      },
      {
       "output_type": "display_data",
       "png": "[encoded data removed]"
      }
     ],
     "prompt_number": 50
    },
    {
     "cell_type": "code",
     "collapsed": false,
     "input": [
      "roi.plot_counts_map(size=5, figsize=(10,10))"
     ],
     "language": "python",
     "metadata": {},
     "outputs": [
      {
       "output_type": "pyout",
       "prompt_number": 54,
       "text": [
        "<uw.like.mapplots.ROIDisplay at 0x11a00fd0>"
       ]
      },
      {
       "output_type": "display_data",
       "png": "[encoded data removed]"
      }
     ],
     "prompt_number": 54
    },
    {
     "cell_type": "code",
     "collapsed": false,
     "input": [
      "roi.plot_sources(figsize=(6,6), size=5)"
     ],
     "language": "python",
     "metadata": {},
     "outputs": [
      {
       "output_type": "pyout",
       "prompt_number": 58,
       "text": [
        "<uw.like.mapplots.ROISmoothedSources at 0x140411d0>"
       ]
      },
      {
       "output_type": "display_data",
       "png": "[encoded data removed]"
      }
     ],
     "prompt_number": 58
    },
    {
     "cell_type": "markdown",
     "metadata": {},
     "source": [
      "You can fit the position of the source"
     ]
    },
    {
     "cell_type": "code",
     "collapsed": false,
     "input": [
      "roi.localize(which='ps')\n",
      "roi.print_ellipse()"
     ],
     "language": "python",
     "metadata": {},
     "outputs": [
      {
       "output_type": "pyout",
       "prompt_number": 60,
       "text": [
        "{'a': 0.008905677221364885,\n",
        " 'ang': -70.9830722249772,\n",
        " 'b': 0.00865872039312607,\n",
        " 'dec': -24.706726880047167,\n",
        " 'lsigma': 0.00882174937131998,\n",
        " 'qual': 0.15994964843747028,\n",
        " 'ra': 339.5351487442536}"
       ]
      },
      {
       "output_type": "stream",
       "stream": "stdout",
       "text": [
        "Localizing source ps, tolerance=1.0e-03...\n",
        "\t     moved     delta        ra       dec         a         b      qual\n",
        "\t    0.0000    0.0000  339.5214  -24.6868\n",
        "\t    0.0182    0.0182  339.5322  -24.7022    0.0018    0.0018   16.7528\n",
        "\t    0.0052    0.0234  339.5349  -24.7067    0.0083    0.0081    2.3498"
       ]
      },
      {
       "output_type": "stream",
       "stream": "stdout",
       "text": [
        "\n",
        "\t    0.0002    0.0235  339.5351  -24.7067    0.0089    0.0087    0.1599"
       ]
      },
      {
       "output_type": "stream",
       "stream": "stdout",
       "text": [
        "\n",
        "TS change: 7.03"
       ]
      },
      {
       "output_type": "stream",
       "stream": "stdout",
       "text": [
        "\n",
        "        ra       dec         a         b       ang      qual\n",
        "  339.5351  -24.7067    0.0089    0.0087  -70.9831    0.1599    0.0030\n"
       ]
      }
     ],
     "prompt_number": 61
    },
    {
     "cell_type": "markdown",
     "metadata": {},
     "source": [
      "You can fit the extension of extended sources"
     ]
    },
    {
     "cell_type": "code",
     "collapsed": false,
     "input": [
      "roi.fit_extension(which='ext')"
     ],
     "language": "python",
     "metadata": {},
     "outputs": [
      {
       "output_type": "stream",
       "stream": "stdout",
       "text": [
        "Localizing Disk source ext Using Spectral Fits\n",
        "center = [ 337.649d, -23.227d ], ext = [ 0.200d ], logL = -10852.254, dlogL = 0.000"
       ]
      },
      {
       "output_type": "stream",
       "stream": "stdout",
       "text": [
        "\n",
        "center = [ 337.649d, -23.227d ], ext = [ 0.200d ], logL = -10852.254, dlogL = 0.000"
       ]
      },
      {
       "output_type": "stream",
       "stream": "stdout",
       "text": [
        "\n",
        "center = [ 337.757d, -23.227d ], ext = [ 0.200d ], logL = -10884.487, dlogL = -32.232"
       ]
      },
      {
       "output_type": "stream",
       "stream": "stdout",
       "text": [
        "\n",
        "center = [ 337.605d, -23.227d ], ext = [ 0.200d ], logL = -10859.800, dlogL = -7.546"
       ]
      },
      {
       "output_type": "stream",
       "stream": "stdout",
       "text": [
        "\n",
        "center = [ 337.666d, -23.227d ], ext = [ 0.200d ], logL = -10852.771, dlogL = -0.517"
       ]
      },
      {
       "output_type": "stream",
       "stream": "stdout",
       "text": [
        "\n",
        "center = [ 337.666d, -23.127d ], ext = [ 0.200d ], logL = -10896.438, dlogL = -44.184"
       ]
      },
      {
       "output_type": "stream",
       "stream": "stdout",
       "text": [
        "\n",
        "center = [ 337.666d, -23.267d ], ext = [ 0.200d ], logL = -10856.044, dlogL = -3.790"
       ]
      },
      {
       "output_type": "stream",
       "stream": "stdout",
       "text": [
        "\n",
        "center = [ 337.666d, -23.211d ], ext = [ 0.200d ], logL = -10854.876, dlogL = -2.621"
       ]
      },
      {
       "output_type": "stream",
       "stream": "stdout",
       "text": [
        "\n",
        "center = [ 337.666d, -23.211d ], ext = [ 0.219d ], logL = -10855.129, dlogL = -2.875"
       ]
      },
      {
       "output_type": "stream",
       "stream": "stdout",
       "text": [
        "\n",
        "center = [ 337.666d, -23.211d ], ext = [ 0.193d ], logL = -10855.096, dlogL = -2.842"
       ]
      },
      {
       "output_type": "stream",
       "stream": "stdout",
       "text": [
        "\n",
        "center = [ 337.666d, -23.211d ], ext = [ 0.203d ], logL = -10854.834, dlogL = -2.580"
       ]
      },
      {
       "output_type": "stream",
       "stream": "stdout",
       "text": [
        "\n",
        "center = [ 337.655d, -23.232d ], ext = [ 0.202d ], logL = -10851.948, dlogL = 0.306"
       ]
      }
     ],
     "prompt_number": "*"
    },
    {
     "cell_type": "code",
     "collapsed": false,
     "input": [],
     "language": "python",
     "metadata": {},
     "outputs": []
    }
   ],
   "metadata": {}
  }
 ]
}