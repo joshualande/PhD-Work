{
 "metadata": {
  "name": "05-05-2013 - pointlike for maximum-likelihood analysis of LAT data"
 },
 "nbformat": 3,
 "nbformat_minor": 0,
 "worksheets": [
  {
   "cells": [
    {
     "cell_type": "markdown",
     "metadata": {},
     "source": [
      "# The Fermi Gamma-ray Space Telescope Overview:\n",
      "\n",
      "<img src=\"http://www-public.slac.stanford.edu/glast/images/FGSTimage.jpg\">\n",
      "\n",
      "The LAT is composed of 3 sections: tracker, calorimiter, anit-coincidence detector\n",
      "\n",
      "<img src=\"http://www-glast.stanford.edu/images/LAT_cutaway.png\">\n"
     ]
    },
    {
     "cell_type": "markdown",
     "metadata": {},
     "source": [
      "# Simulating pointlike data with gtobssim"
     ]
    },
    {
     "cell_type": "code",
     "collapsed": false,
     "input": [
      "# disble those annoying numpy errors\n",
      "np.seterr(all='ignore')"
     ],
     "language": "python",
     "metadata": {},
     "outputs": [
      {
       "output_type": "pyout",
       "prompt_number": 1,
       "text": [
        "{'divide': 'warn', 'invalid': 'warn', 'over': 'warn', 'under': 'ignore'}"
       ]
      }
     ],
     "prompt_number": 1
    },
    {
     "cell_type": "code",
     "collapsed": false,
     "input": [
      "# First, make a temporary directory to work in\n",
      "from tempfile import mkdtemp\n",
      "#savedir=mkdtemp()\n",
      "\n",
      "from os.path import expandvars\n",
      "savedir=expandvars('$HOME/temp')\n",
      "\n",
      "savedir"
     ],
     "language": "python",
     "metadata": {},
     "outputs": [
      {
       "output_type": "pyout",
       "prompt_number": 2,
       "text": [
        "'/u/gl/lande/temp'"
       ]
      }
     ],
     "prompt_number": 2
    },
    {
     "cell_type": "markdown",
     "metadata": {},
     "source": [
      "Now we can define the background mdoel"
     ]
    },
    {
     "cell_type": "code",
     "collapsed": false,
     "input": [
      "from uw.like.pointspec_helpers import get_default_diffuse\n",
      "from lande.fermi.diffuse.background import get_sreekumar \n",
      "bg = get_sreekumar(diff_factor=100)\n"
     ],
     "language": "python",
     "metadata": {},
     "outputs": [],
     "prompt_number": 3
    },
    {
     "cell_type": "markdown",
     "metadata": {},
     "source": [
      "Now we create and simulate a point-like source\n",
      "\n",
      "Before simulating, we need to define a point-like source."
     ]
    },
    {
     "cell_type": "code",
     "collapsed": false,
     "input": [
      "from uw.like.pointspec_helpers import PointSource\n",
      "from uw.like.Models import PowerLaw\n",
      "from skymaps import SkyDir\n",
      "skydir = SkyDir(30,-60, SkyDir.GALACTIC)\n",
      "model = PowerLaw(norm=1e-9, index=2)\n",
      "ps=PointSource(name='ps', model=model, skydir=skydir)"
     ],
     "language": "python",
     "metadata": {},
     "outputs": [],
     "prompt_number": 4
    },
    {
     "cell_type": "markdown",
     "metadata": {},
     "source": [
      "Next we can create a spatially-extended source"
     ]
    },
    {
     "cell_type": "code",
     "collapsed": false,
     "input": [
      "from uw.like.roi_extended import ExtendedSource\n",
      "from uw.like.SpatialModels import Disk\n",
      "skydir = SkyDir(30 + 2,-60 + 2, SkyDir.GALACTIC) \n",
      "spatial_model = Disk(sigma=0.2, center=skydir)\n",
      "model = PowerLaw(norm=1e-9, index=2)\n",
      "ext=ExtendedSource(name='ext', model=model, spatial_model=spatial_model)"
     ],
     "language": "python",
     "metadata": {},
     "outputs": [],
     "prompt_number": 5
    },
    {
     "cell_type": "markdown",
     "metadata": {},
     "source": [
      "Now we run the simulation"
     ]
    },
    {
     "cell_type": "code",
     "collapsed": false,
     "input": [
      "# First define the simulated data\n",
      "from os.path import join\n",
      "ft1 = join(savedir, 'ft1.fits')\n",
      "ft2 = join(savedir, 'ft2.fits')"
     ],
     "language": "python",
     "metadata": {},
     "outputs": [],
     "prompt_number": "*"
    },
    {
     "cell_type": "code",
     "collapsed": false,
     "input": [
      "from skymaps import SkyDir\n",
      "\n",
      "roi_dir = SkyDir(30, -60, SkyDir.GALACTIC)\n",
      "\n",
      "\n",
      "sources=[ps,bg,ext]\n",
      "\n",
      "from uw.like.roi_monte_carlo import MonteCarlo\n",
      "mc = MonteCarlo(\n",
      "    sources=sources,\n",
      "    seed=0,\n",
      "    emin=1e3,\n",
      "    emax=1e5,\n",
      "    roi_dir=roi_dir,\n",
      "    maxROI=5,\n",
      "    irf='P7SOURCE_V6',\n",
      "    ft1=ft1,\n",
      "    ft2=ft2,\n",
      "    tstart=0,\n",
      "    tstop=604800,\n",
      "    zmax=100,\n",
      "    savedir=savedir\n",
      ")\n",
      "mc.simulate()\n"
     ],
     "language": "python",
     "metadata": {},
     "outputs": [
      {
       "output_type": "stream",
       "stream": "stdout",
       "text": [
        "Simulating in energy range from 1000 MeV to 100000 MeV\n",
        "working in directory /u/gl/lande/temp\n",
        "Processing source ps\n",
        "Processing source Sreekumar Isotropic x100\n",
        "Processing source ext\n",
        "current pfile settings"
       ]
      }
     ],
     "prompt_number": "*"
    },
    {
     "cell_type": "markdown",
     "metadata": {},
     "source": [
      "# Explore the simulated data"
     ]
    },
    {
     "cell_type": "markdown",
     "metadata": {},
     "source": [
      "We can make a simple plot of the simulated data."
     ]
    },
    {
     "cell_type": "code",
     "collapsed": false,
     "input": [
      "import os\n",
      "cmap = join(savedir,\"cmap.fits\")\n",
      "os.system('gtbin evfile=%s scfile=%s outfile=%s algorithm=cmap  \\\n",
      "           nxpix=100 nypix=100 xref=30 yref=-60 coordsys=GAL binsz=0.1 proj=AIT axisrot=0'\n",
      "          % (ft1, ft2, cmap)\n",
      "      )"
     ],
     "language": "python",
     "metadata": {},
     "outputs": [],
     "prompt_number": "*"
    },
    {
     "cell_type": "code",
     "collapsed": false,
     "input": [
      "import pywcsgrid2\n",
      "import pyfits\n",
      "f=pyfits.open(cmap)\n",
      "\n",
      "pywcsgrid2.subplot(111, header=f[0].header)\n",
      "plt.imshow(f[0].data, origin=\"lower\", interpolation='nearest')\n",
      "grid(color='white')"
     ],
     "language": "python",
     "metadata": {},
     "outputs": [],
     "prompt_number": "*"
    },
    {
     "cell_type": "markdown",
     "metadata": {},
     "source": [
      "# Now, perform pointlike analysis"
     ]
    },
    {
     "cell_type": "code",
     "collapsed": false,
     "input": [
      "from skymaps import SkyDir\n",
      "\n",
      "from uw.like.pointspec import DataSpecification, SpectralAnalysis\n",
      "\n",
      "ltcube = join(savedir, 'ltcube.fits')\n",
      "binfile = join(savedir, 'binned.fits')\n",
      "\n",
      "ds=DataSpecification(binfile=binfile,\n",
      "                     ltcube=ltcube,\n",
      "                     ft1files=ft1,\n",
      "                     ft2files=ft2)\n",
      "\n",
      "center=SkyDir(30,-60,SkyDir.GALACTIC)\n",
      "\n",
      "sa=SpectralAnalysis(ds,\n",
      "                    binsperdec=2,\n",
      "                    event_class=2,\n",
      "                    emin=1e3,emax=1e5,\n",
      "                    irf=\"P7SOURCE_V6\",\n",
      "                    roi_dir=center,\n",
      "                    use_weighted_livetime=True,\n",
      "                    maxROI=5,\n",
      "                    minROI=5)\n",
      "roi = sa.roi(point_sources=[ps.copy()], \n",
      "             diffuse_sources=[ext.copy(), bg.copy()])"
     ],
     "language": "python",
     "metadata": {},
     "outputs": [],
     "prompt_number": "*"
    },
    {
     "cell_type": "code",
     "collapsed": false,
     "input": [
      "roi.print_summary()"
     ],
     "language": "python",
     "metadata": {},
     "outputs": [],
     "prompt_number": "*"
    },
    {
     "cell_type": "code",
     "collapsed": false,
     "input": [
      "roi.fit(use_gradient=False)"
     ],
     "language": "python",
     "metadata": {},
     "outputs": [],
     "prompt_number": "*"
    },
    {
     "cell_type": "code",
     "collapsed": false,
     "input": [
      "roi.print_summary()"
     ],
     "language": "python",
     "metadata": {},
     "outputs": [],
     "prompt_number": "*"
    },
    {
     "cell_type": "code",
     "collapsed": false,
     "input": [
      "roi.plot_sed(which='ps')"
     ],
     "language": "python",
     "metadata": {},
     "outputs": [],
     "prompt_number": "*"
    },
    {
     "cell_type": "code",
     "collapsed": false,
     "input": [
      "roi.plot_counts_map()"
     ],
     "language": "python",
     "metadata": {},
     "outputs": [],
     "prompt_number": "*"
    },
    {
     "cell_type": "code",
     "collapsed": false,
     "input": [
      "roi.fit(use_gradient=False)"
     ],
     "language": "python",
     "metadata": {},
     "outputs": [],
     "prompt_number": "*"
    },
    {
     "cell_type": "code",
     "collapsed": false,
     "input": [
      "roi.print_summary()"
     ],
     "language": "python",
     "metadata": {},
     "outputs": [],
     "prompt_number": "*"
    },
    {
     "cell_type": "code",
     "collapsed": false,
     "input": [
      "roi.plot_counts_map()"
     ],
     "language": "python",
     "metadata": {},
     "outputs": [],
     "prompt_number": "*"
    },
    {
     "cell_type": "code",
     "collapsed": false,
     "input": [],
     "language": "python",
     "metadata": {},
     "outputs": [],
     "prompt_number": "*"
    },
    {
     "cell_type": "code",
     "collapsed": false,
     "input": [],
     "language": "python",
     "metadata": {},
     "outputs": [],
     "prompt_number": "*"
    }
   ],
   "metadata": {}
  }
 ]
}