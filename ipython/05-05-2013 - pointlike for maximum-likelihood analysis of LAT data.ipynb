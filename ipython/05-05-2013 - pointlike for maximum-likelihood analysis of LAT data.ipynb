{
 "metadata": {
  "name": "05-05-2013 - pointlike for maximum-likelihood analysis of LAT data"
 },
 "nbformat": 3,
 "nbformat_minor": 0,
 "worksheets": [
  {
   "cells": [
    {
     "cell_type": "markdown",
     "metadata": {},
     "source": [
      "# The Fermi Gamma-ray Space Telescope Overview:\n",
      "\n",
      "<img src=\"http://www-public.slac.stanford.edu/glast/images/FGSTimage.jpg\">\n",
      "\n",
      "The LAT is composed of 3 sections: the tracker, the calorimiter, and the anit-coincidence detector. This detector allows for single-gamma-ray imaging.\n",
      "\n",
      "<img src=\"http://www-glast.stanford.edu/images/LAT_cutaway.png\">\n",
      "\n",
      "What makes analysis of LAT data complicated is the non-linear response of the LAT to gamma rays. Below are the effective area and the PSF of the LAT, which both strongly vary as a function of energy.\n",
      "\n",
      "<img src=\"http://www.slac.stanford.edu/exp/glast/groups/canda/lat_Performance_files/cAeffEnergy_P7SOURCE_V6.png\">\n",
      "<img src=\"http://www.slac.stanford.edu/exp/glast/groups/canda/lat_Performance_files/cPsfEnergy_P7SOURCE_V6.png\">"
     ]
    },
    {
     "cell_type": "markdown",
     "metadata": {},
     "source": [
      "To analyze LAT data and handle the detailed model of the LAT, we use a maximum-likelihood analysis. We assume model of the sky\n",
      "\n",
      "$$\\mathcal{L} = P(\\text{data}|\\text{model}) = \\prod_i \\frac{\\lambda_i^{k_i} e^{-\\lambda_i}}{k_i!}.$$\n",
      "\n",
      "Here, $\\mathcal{L}$ is the likelihood of observing the data given the model. We assume that the sky is binned in position and enrgy. $i$ referes to each bin, $\\lambda_i$ is the model predicted counts in bin $i$, and $k_i$ are the observed counts in each bin.\n",
      "\n",
      "<a href=http://fermi.gsfc.nasa.gov/ssc/data/analysis/scitools/help/gtlike.txt>gtlike</a> is the standard tool for maximum-likelihood analysis of LAT data. But it is slow, difficult to use, and lacks many features needed in day-to-day ALT analysis.\n",
      "\n",
      "I have been involved with the development of pointlike, an alternative package for maximum-likelihood analysis of LAT data. Pointlike was developed\n",
      "\n",
      "* Mostly in python, with unceryling \n",
      "\n",
      "My contributions to the code\n",
      "\n",
      "* asdf\n",
      "* asdf\n",
      "* http://arxiv.org/abs/1207.0027"
     ]
    },
    {
     "cell_type": "markdown",
     "metadata": {},
     "source": [
      "# Simulating pointlike data with gtobssim"
     ]
    },
    {
     "cell_type": "markdown",
     "metadata": {},
     "source": [
      "Given a model of the sky, LAT data can be simulated using <a href=\"http://polywww.in2p3.fr/activites/physique/glast/workbook/pages/sciTools_gtobssim/sciTools_gtobssim.htm\">gtobssim</a>. But for a variety of reasons, gtobssim is very unweildly, difficult to use, error prone, and slow.\n",
      "\n",
      "I wrote a wrapper called uw.like.roi_monte_carlo which wraps gtobssim. Most importantly, roi_monte_carlo will automatically generate the gtobssim-style XML file, builds any necessary spectral and spatial files, and performs a mapcube-cutting function which vastly speeds up simulating the background.\n",
      "\n",
      "I wil run a simple example which simulates two sources and an isotropic background."
     ]
    },
    {
     "cell_type": "code",
     "collapsed": false,
     "input": [
      "# disble those annoying numpy errors\n",
      "np.seterr(all='ignore')"
     ],
     "language": "python",
     "metadata": {},
     "outputs": [
      {
       "output_type": "pyout",
       "prompt_number": 1,
       "text": [
        "{'divide': 'warn', 'invalid': 'warn', 'over': 'warn', 'under': 'ignore'}"
       ]
      }
     ],
     "prompt_number": 1
    },
    {
     "cell_type": "code",
     "collapsed": false,
     "input": [
      "# First, define a temporary directory to work in\n",
      "from os.path import expandvars\n",
      "savedir=expandvars('$HOME/temp')\n",
      "savedir"
     ],
     "language": "python",
     "metadata": {},
     "outputs": [
      {
       "output_type": "pyout",
       "prompt_number": 4,
       "text": [
        "'/u/gl/lande/temp'"
       ]
      }
     ],
     "prompt_number": 4
    },
    {
     "cell_type": "markdown",
     "metadata": {},
     "source": [
      "Now we can define the background model to thecanonical isotropic background (x100 to predict a reasonable number of photons)."
     ]
    },
    {
     "cell_type": "code",
     "collapsed": false,
     "input": [
      "from uw.like.pointspec_helpers import get_default_diffuse\n",
      "from lande.fermi.diffuse.background import get_sreekumar \n",
      "bg = get_sreekumar(diff_factor=100)"
     ],
     "language": "python",
     "metadata": {},
     "outputs": [],
     "prompt_number": 5
    },
    {
     "cell_type": "markdown",
     "metadata": {},
     "source": [
      "Now we define a point-like source."
     ]
    },
    {
     "cell_type": "code",
     "collapsed": false,
     "input": [
      "from uw.like.pointspec_helpers import PointSource\n",
      "from uw.like.Models import PowerLaw\n",
      "from skymaps import SkyDir\n",
      "skydir = SkyDir(30,-60, SkyDir.GALACTIC)\n",
      "model = PowerLaw(norm=1e-9, index=2.5)\n",
      "ps=PointSource(name='ps', model=model, skydir=skydir)\n",
      "print ps"
     ],
     "language": "python",
     "metadata": {},
     "outputs": [
      {
       "output_type": "stream",
       "stream": "stdout",
       "text": [
        "\n",
        "\n",
        "============================================================\n",
        "Name:\t\tps\n",
        "R.A. (J2000):\t339.52141\n",
        "Dec. (J2000):\t-24.68680\n",
        "Model:\t\tPowerLaw, e0=1000\n",
        "\tNorm      : 1e-09 \n",
        "\tIndex     : 2.5 \n",
        "\tPh. Flux  : 2.11e-05 (DERIVED)\n",
        "\tEn. Flux  : 9.81e-09 (DERIVED)\n"
       ]
      }
     ],
     "prompt_number": 10
    },
    {
     "cell_type": "markdown",
     "metadata": {},
     "source": [
      "Next we can create a spatially-extended source"
     ]
    },
    {
     "cell_type": "code",
     "collapsed": false,
     "input": [
      "from uw.like.roi_extended import ExtendedSource\n",
      "from uw.like.SpatialModels import Disk\n",
      "skydir = SkyDir(30 + 2,-60 + 2, SkyDir.GALACTIC) \n",
      "spatial_model = Disk(sigma=1, center=skydir)\n",
      "model = PowerLaw(norm=1e-9, index=1.5)\n",
      "ext=ExtendedSource(name='ext', model=model, spatial_model=spatial_model)\n",
      "print ext"
     ],
     "language": "python",
     "metadata": {},
     "outputs": [
      {
       "output_type": "stream",
       "stream": "stdout",
       "text": [
        "\n",
        "\n",
        "============================================================\n",
        "Name:\t\text\n",
        "R.A. (J2000):\t\t337.64885\n",
        "Dec. (J2000):\t\t-23.22669\n",
        "Model:\t\tPowerLaw, e0=1000\n",
        "\tNorm      : 1e-09 \n",
        "\tIndex     : 1.5 \n",
        "\tPh. Flux  : 6.12e-06 (DERIVED)\n",
        "\tEn. Flux  : 3.1e-08 (DERIVED)\n",
        "SpatialModel:\tDisk\n",
        "\tRA        : 337.6\n",
        "\tDEC       : -23.23\n",
        "\tSigma     : 1\n"
       ]
      }
     ],
     "prompt_number": 11
    },
    {
     "cell_type": "markdown",
     "metadata": {},
     "source": [
      "Now we run the simulation. \n",
      "\n",
      "First, we define the simulated data"
     ]
    },
    {
     "cell_type": "code",
     "collapsed": false,
     "input": [
      "from os.path import join\n",
      "ft1 = join(savedir, 'ft1.fits')\n",
      "ft2 = join(savedir, 'ft2.fits')"
     ],
     "language": "python",
     "metadata": {},
     "outputs": [],
     "prompt_number": 12
    },
    {
     "cell_type": "markdown",
     "metadata": {},
     "source": [
      "Next, we run the simulation."
     ]
    },
    {
     "cell_type": "code",
     "collapsed": false,
     "input": [
      "from skymaps import SkyDir\n",
      "\n",
      "roi_dir = SkyDir(30, -60, SkyDir.GALACTIC)\n",
      "\n",
      "\n",
      "sources=[ps,bg,ext]\n",
      "\n",
      "from uw.like.roi_monte_carlo import MonteCarlo\n",
      "mc = MonteCarlo(\n",
      "    sources=sources,\n",
      "    seed=0,\n",
      "    emin=1e3,\n",
      "    emax=1e5,\n",
      "    roi_dir=roi_dir,\n",
      "    maxROI=5,\n",
      "    irf='P7SOURCE_V6',\n",
      "    ft1=ft1,\n",
      "    ft2=ft2,\n",
      "    tstart=0,\n",
      "    tstop=604800,\n",
      "    zmax=100,\n",
      "    savedir=savedir\n",
      ")\n",
      "mc.simulate()"
     ],
     "language": "python",
     "metadata": {},
     "outputs": [
      {
       "output_type": "stream",
       "stream": "stdout",
       "text": [
        "Simulating in energy range from 1000 MeV to 100000 MeV\n",
        "working in directory /u/gl/lande/temp\n",
        "Processing source ps\n",
        "Processing source Sreekumar Isotropic x100\n",
        "Processing source ext\n",
        "current pfile settings"
       ]
      },
      {
       "output_type": "stream",
       "stream": "stdout",
       "text": [
        " /u/gl/lande/temp;/nfs/farm/g/glast/u35/ReleaseManagerBuild/redhat6-x86_64-64bit-gcc44/Optimized/ScienceTools/09-31-01/syspfiles\n",
        "time -p gtobssim infile=/u/gl/lande/temp/source_library.xml srclist=/u/gl/lande/temp/source_list.txt scfile=none sctable=\"SC_DATA\" evroot=\"sim\" evtable=\"EVENTS\" simtime=604800.0 ltfrac=0.9 tstart=0.0 nevents=no maxtime=315500000.0 startdate=\"2001-01-01 00:00:00\" offset=0 rockangle=\"INDEF\" use_ac=yes ra=339.521406361 dec=-24.6868042342 radius=10.0 emin=1000.0 emax=100000.0 edisp=yes irfs=\"P7SOURCE_V6\" area=1.0 maxrows=200000000 seed=0 chatter=2 clobber=yes debug=no gui=no mode=\"ql\""
       ]
      },
      {
       "output_type": "stream",
       "stream": "stdout",
       "text": [
        "\n",
        "added source \"ps\""
       ]
      },
      {
       "output_type": "stream",
       "stream": "stdout",
       "text": [
        "\n",
        "added source \"Sreekumar_Isotropic_x100\"\n",
        "added source \"ext\"\n",
        "Generating events for a simulation time of 604800 seconds....\n",
        "Done.\n",
        "real 80.53\n",
        "user 73.03\n",
        "sys 1.49\n",
        "Applying zenith angle cut (zmax=100) to simulated data\n",
        "time -p gtselect infile=/u/gl/lande/temp/sim_events_0000.fits outfile=/u/gl/lande/temp/ft1_zcut.fits ra=339.521406361 dec=-24.6868042342 rad=10.0 tmin=0.0 tmax=0.0 emin=1000.0 emax=100000.0 zmax=100.0 evclsmin=0 evclsmax=10 evclass=\"INDEF\" convtype=-1 phasemin=0.0 phasemax=1.0 evtable=\"EVENTS\" chatter=2 clobber=yes debug=no gui=no mode=\"ql\"\n",
        "Done."
       ]
      },
      {
       "output_type": "stream",
       "stream": "stdout",
       "text": [
        "\n",
        "real 2.38\n",
        "user 0.46\n",
        "sys 0.47\n"
       ]
      }
     ],
     "prompt_number": 14
    },
    {
     "cell_type": "markdown",
     "metadata": {},
     "source": [
      "# Explore the simulated data"
     ]
    },
    {
     "cell_type": "markdown",
     "metadata": {},
     "source": [
      "We can make a simple plot of the simulated data using the excelent <a href=\"http://leejjoon.github.io/pywcsgrid2/\">pywcsgrid2</a> module.\n",
      "\n",
      "\n",
      "First we have to bin the data in the sky."
     ]
    },
    {
     "cell_type": "code",
     "collapsed": false,
     "input": [
      "import os\n",
      "cmap = join(savedir,\"cmap.fits\")\n",
      "os.system('gtbin evfile=%s scfile=%s outfile=%s algorithm=cmap  \\\n",
      "           nxpix=100 nypix=100 xref=30 yref=-60 coordsys=GAL binsz=0.1 proj=AIT axisrot=0'\n",
      "          % (ft1, ft2, cmap)\n",
      "      )"
     ],
     "language": "python",
     "metadata": {},
     "outputs": [
      {
       "output_type": "pyout",
       "prompt_number": 15,
       "text": [
        "0"
       ]
      }
     ],
     "prompt_number": 15
    },
    {
     "cell_type": "markdown",
     "metadata": {},
     "source": [
      "Next we can plot the skymap using pywcsgrid2. Note the two sources, one point source in the center and one extended source on the top left."
     ]
    },
    {
     "cell_type": "code",
     "collapsed": false,
     "input": [
      "import pyfits\n",
      "f=pyfits.open(cmap)\n",
      "\n",
      "import pylab as P\n",
      "import pywcsgrid2\n",
      "P.figure(None,(6,6))\n",
      "pywcsgrid2.subplot(111, header=f[0].header)\n",
      "plt.imshow(f[0].data, origin=\"lower\", interpolation='nearest')\n",
      "grid(color='white')"
     ],
     "language": "python",
     "metadata": {},
     "outputs": [
      {
       "output_type": "display_data",
       "png": "[encoded data removed]"
      }
     ],
     "prompt_number": 16
    },
    {
     "cell_type": "markdown",
     "metadata": {},
     "source": [
      "# Now, perform pointlike analysis\n",
      "\n",
      "We can use pointlike to perform the full forward-folding LAT analysis.\n",
      "\n",
      "The first step to a LAT analysis is always to define a ROI (region of interest)."
     ]
    },
    {
     "cell_type": "code",
     "collapsed": false,
     "input": [
      "from skymaps import SkyDir\n",
      "\n",
      "from uw.like.pointspec import DataSpecification, SpectralAnalysis\n",
      "\n",
      "ltcube = join(savedir, 'ltcube.fits')\n",
      "binfile = join(savedir, 'binned.fits')\n",
      "\n",
      "ds=DataSpecification(binfile=binfile,\n",
      "                     ltcube=ltcube,\n",
      "                     ft1files=ft1,\n",
      "                     ft2files=ft2)\n",
      "\n",
      "center=SkyDir(30,-60,SkyDir.GALACTIC)\n",
      "\n",
      "sa=SpectralAnalysis(ds,\n",
      "                    binsperdec=2,\n",
      "                    event_class=2,\n",
      "                    emin=1e3,emax=1e5,\n",
      "                    irf=\"P7SOURCE_V6\",\n",
      "                    roi_dir=center,\n",
      "                    use_weighted_livetime=True,\n",
      "                    maxROI=5,\n",
      "                    minROI=5)\n",
      "roi = sa.roi(point_sources=[ps.copy()], \n",
      "             diffuse_sources=[ext.copy(), bg.copy()])"
     ],
     "language": "python",
     "metadata": {},
     "outputs": [
      {
       "output_type": "stream",
       "stream": "stdout",
       "text": [
        " \b\b\b\b\b\b\b\b\b\b\b\b\b\b\b\b\b\b\b\b\b\b\b\b\b\b"
       ]
      },
      {
       "output_type": "stream",
       "stream": "stdout",
       "text": [
        " ...convolving band  5/ 8"
       ]
      },
      {
       "output_type": "stream",
       "stream": "stdout",
       "text": [
        " \b\b\b\b\b\b\b\b\b\b\b\b\b\b\b\b\b\b\b\b\b\b\b\b\b\b"
       ]
      },
      {
       "output_type": "stream",
       "stream": "stdout",
       "text": [
        " ...convolving band  6/ 8"
       ]
      },
      {
       "output_type": "stream",
       "stream": "stdout",
       "text": [
        " \b\b\b\b\b\b\b\b\b\b\b\b\b\b\b\b\b\b\b\b\b\b\b\b\b\b"
       ]
      },
      {
       "output_type": "stream",
       "stream": "stdout",
       "text": [
        " ...convolving band  7/ 8"
       ]
      },
      {
       "output_type": "stream",
       "stream": "stdout",
       "text": [
        " \b\b\b\b\b\b\b\b\b\b\b\b\b\b\b\b\b\b\b\b\b\b\b\b\b\b"
       ]
      },
      {
       "output_type": "stream",
       "stream": "stdout",
       "text": [
        " ...convolving band  8/ 8"
       ]
      },
      {
       "output_type": "stream",
       "stream": "stdout",
       "text": [
        " \b\b\b\b\b\b\b\b\b\b\b\b\b\b\b\b\b\b\b\b\b\b\b\b\b\b"
       ]
      },
      {
       "output_type": "stream",
       "stream": "stdout",
       "text": [
        "\n",
        ".......... Sreekumar Isotropic x100"
       ]
      },
      {
       "output_type": "stream",
       "stream": "stdout",
       "text": [
        " ...convolving band  1/ 8"
       ]
      },
      {
       "output_type": "stream",
       "stream": "stdout",
       "text": [
        " \b\b\b\b\b\b\b\b\b\b\b\b\b\b\b\b\b\b\b\b\b\b\b\b\b\b"
       ]
      },
      {
       "output_type": "stream",
       "stream": "stdout",
       "text": [
        " ...convolving band  2/ 8"
       ]
      },
      {
       "output_type": "stream",
       "stream": "stdout",
       "text": [
        " \b\b\b\b\b\b\b\b\b\b\b\b\b\b\b\b\b\b\b\b\b\b\b\b\b\b"
       ]
      },
      {
       "output_type": "stream",
       "stream": "stdout",
       "text": [
        " ...convolving band  3/ 8"
       ]
      },
      {
       "output_type": "stream",
       "stream": "stdout",
       "text": [
        " \b\b\b\b\b\b\b\b\b\b\b\b\b\b\b\b\b\b\b\b\b\b\b\b\b\b"
       ]
      },
      {
       "output_type": "stream",
       "stream": "stdout",
       "text": [
        " ...convolving band  4/ 8"
       ]
      },
      {
       "output_type": "stream",
       "stream": "stdout",
       "text": [
        " \b\b\b\b\b\b\b\b\b\b\b\b\b\b\b\b\b\b\b\b\b\b\b\b\b\b"
       ]
      },
      {
       "output_type": "stream",
       "stream": "stdout",
       "text": [
        " ...convolving band  5/ 8"
       ]
      },
      {
       "output_type": "stream",
       "stream": "stdout",
       "text": [
        " \b\b\b\b\b\b\b\b\b\b\b\b\b\b\b\b\b\b\b\b\b\b\b\b\b\b"
       ]
      },
      {
       "output_type": "stream",
       "stream": "stdout",
       "text": [
        " ...convolving band  6/ 8"
       ]
      },
      {
       "output_type": "stream",
       "stream": "stdout",
       "text": [
        " \b\b\b\b\b\b\b\b\b\b\b\b\b\b\b\b\b\b\b\b\b\b\b\b\b\b"
       ]
      },
      {
       "output_type": "stream",
       "stream": "stdout",
       "text": [
        " ...convolving band  7/ 8"
       ]
      },
      {
       "output_type": "stream",
       "stream": "stdout",
       "text": [
        " \b\b\b\b\b\b\b\b\b\b\b\b\b\b\b\b\b\b\b\b\b\b\b\b\b\b"
       ]
      },
      {
       "output_type": "stream",
       "stream": "stdout",
       "text": [
        " ...convolving band  8/ 8"
       ]
      },
      {
       "output_type": "stream",
       "stream": "stdout",
       "text": [
        " \b\b\b\b\b\b\b\b\b\b\b\b\b\b\b\b\b\b\b\b\b\b\b\b\b\b"
       ]
      },
      {
       "output_type": "stream",
       "stream": "stdout",
       "text": [
        "\n"
       ]
      },
      {
       "output_type": "stream",
       "stream": "stdout",
       "text": [
        "Using gti from /u/gl/lande/temp/ltcube.fits\n",
        "loaded LivetimeCube /u/gl/lande/temp/ltcube.fits "
       ]
      },
      {
       "output_type": "stream",
       "stream": "stdout",
       "text": [
        "\n",
        "loaded LivetimeCube /u/gl/lande/temp/ltcube.fits "
       ]
      },
      {
       "output_type": "stream",
       "stream": "stdout",
       "text": [
        "\n",
        ".....loading binfile /u/gl/lande/temp/binned.fits ... found 8 bands, energies 1000-100000 MeV\n",
        ".....setting up point sources (1 in ROI)..."
       ]
      },
      {
       "output_type": "stream",
       "stream": "stdout",
       "text": [
        " done!\n",
        ".....setting up diffuse/extended backgrounds for 8 bands...\n",
        ".......... ext"
       ]
      },
      {
       "output_type": "stream",
       "stream": "stdout",
       "text": [
        " ...convolving band  1/ 8"
       ]
      },
      {
       "output_type": "stream",
       "stream": "stdout",
       "text": [
        " \b\b\b\b\b\b\b\b\b\b\b\b\b\b\b\b\b\b\b\b\b\b\b\b\b\b"
       ]
      },
      {
       "output_type": "stream",
       "stream": "stdout",
       "text": [
        " ...convolving band  2/ 8"
       ]
      },
      {
       "output_type": "stream",
       "stream": "stdout",
       "text": [
        " \b\b\b\b\b\b\b\b\b\b\b\b\b\b\b\b\b\b\b\b\b\b\b\b\b\b"
       ]
      },
      {
       "output_type": "stream",
       "stream": "stdout",
       "text": [
        " ...convolving band  3/ 8"
       ]
      },
      {
       "output_type": "stream",
       "stream": "stdout",
       "text": [
        " \b\b\b\b\b\b\b\b\b\b\b\b\b\b\b\b\b\b\b\b\b\b\b\b\b\b"
       ]
      },
      {
       "output_type": "stream",
       "stream": "stdout",
       "text": [
        " ...convolving band  4/ 8"
       ]
      },
      {
       "output_type": "stream",
       "stream": "stdout",
       "text": [
        " \b\b\b\b\b\b\b\b\b\b\b\b\b\b\b\b\b\b\b\b\b\b\b\b\b\b"
       ]
      },
      {
       "output_type": "stream",
       "stream": "stdout",
       "text": [
        " ...convolving band  5/ 8"
       ]
      },
      {
       "output_type": "stream",
       "stream": "stdout",
       "text": [
        " \b\b\b\b\b\b\b\b\b\b\b\b\b\b\b\b\b\b\b\b\b\b\b\b\b\b"
       ]
      },
      {
       "output_type": "stream",
       "stream": "stdout",
       "text": [
        " ...convolving band  6/ 8"
       ]
      },
      {
       "output_type": "stream",
       "stream": "stdout",
       "text": [
        " \b\b\b\b\b\b\b\b\b\b\b\b\b\b\b\b\b\b\b\b\b\b\b\b\b\b"
       ]
      },
      {
       "output_type": "stream",
       "stream": "stdout",
       "text": [
        " ...convolving band  7/ 8"
       ]
      },
      {
       "output_type": "stream",
       "stream": "stdout",
       "text": [
        " \b\b\b\b\b\b\b\b\b\b\b\b\b\b\b\b\b\b\b\b\b\b\b\b\b\b"
       ]
      },
      {
       "output_type": "stream",
       "stream": "stdout",
       "text": [
        " ...convolving band  8/ 8"
       ]
      },
      {
       "output_type": "stream",
       "stream": "stdout",
       "text": [
        " \b\b\b\b\b\b\b\b\b\b\b\b\b\b\b\b\b\b\b\b\b\b\b\b\b\b"
       ]
      },
      {
       "output_type": "stream",
       "stream": "stdout",
       "text": [
        "\n",
        ".......... Sreekumar Isotropic x100"
       ]
      },
      {
       "output_type": "stream",
       "stream": "stdout",
       "text": [
        " ...convolving band  1/ 8"
       ]
      },
      {
       "output_type": "stream",
       "stream": "stdout",
       "text": [
        " \b\b\b\b\b\b\b\b\b\b\b\b\b\b\b\b\b\b\b\b\b\b\b\b\b\b"
       ]
      },
      {
       "output_type": "stream",
       "stream": "stdout",
       "text": [
        " ...convolving band  2/ 8"
       ]
      },
      {
       "output_type": "stream",
       "stream": "stdout",
       "text": [
        " \b\b\b\b\b\b\b\b\b\b\b\b\b\b\b\b\b\b\b\b\b\b\b\b\b\b"
       ]
      },
      {
       "output_type": "stream",
       "stream": "stdout",
       "text": [
        " ...convolving band  3/ 8"
       ]
      },
      {
       "output_type": "stream",
       "stream": "stdout",
       "text": [
        " \b\b\b\b\b\b\b\b\b\b\b\b\b\b\b\b\b\b\b\b\b\b\b\b\b\b"
       ]
      },
      {
       "output_type": "stream",
       "stream": "stdout",
       "text": [
        " ...convolving band  4/ 8"
       ]
      },
      {
       "output_type": "stream",
       "stream": "stdout",
       "text": [
        " \b\b\b\b\b\b\b\b\b\b\b\b\b\b\b\b\b\b\b\b\b\b\b\b\b\b"
       ]
      },
      {
       "output_type": "stream",
       "stream": "stdout",
       "text": [
        " ...convolving band  5/ 8"
       ]
      },
      {
       "output_type": "stream",
       "stream": "stdout",
       "text": [
        " \b\b\b\b\b\b\b\b\b\b\b\b\b\b\b\b\b\b\b\b\b\b\b\b\b\b"
       ]
      },
      {
       "output_type": "stream",
       "stream": "stdout",
       "text": [
        " ...convolving band  6/ 8"
       ]
      },
      {
       "output_type": "stream",
       "stream": "stdout",
       "text": [
        " \b\b\b\b\b\b\b\b\b\b\b\b\b\b\b\b\b\b\b\b\b\b\b\b\b\b"
       ]
      },
      {
       "output_type": "stream",
       "stream": "stdout",
       "text": [
        " ...convolving band  7/ 8"
       ]
      },
      {
       "output_type": "stream",
       "stream": "stdout",
       "text": [
        " \b\b\b\b\b\b\b\b\b\b\b\b\b\b\b\b\b\b\b\b\b\b\b\b\b\b"
       ]
      },
      {
       "output_type": "stream",
       "stream": "stdout",
       "text": [
        " ...convolving band  8/ 8"
       ]
      },
      {
       "output_type": "stream",
       "stream": "stdout",
       "text": [
        " \b\b\b\b\b\b\b\b\b\b\b\b\b\b\b\b\b\b\b\b\b\b\b\b\b\b"
       ]
      },
      {
       "output_type": "stream",
       "stream": "stdout",
       "text": [
        "\n"
       ]
      }
     ],
     "prompt_number": 18
    },
    {
     "cell_type": "markdown",
     "metadata": {},
     "source": [
      "The first thing we can do i sprint otu a summary of the ROI. Note the three sources in our model (a point source, an extended source, and the isotropic background)."
     ]
    },
    {
     "cell_type": "code",
     "collapsed": false,
     "input": [
      "roi.print_summary()"
     ],
     "language": "python",
     "metadata": {},
     "outputs": [
      {
       "output_type": "stream",
       "stream": "stdout",
       "text": [
        " ------------------------------------------------------------------------------------------ \n",
        "\t Nearby sources within 5.0 degrees \n",
        " name               dist        ra       dec        TS     flux8     index      beta    cutoff\n",
        " ps                  0.0   339.521   -24.687       900   2108.18?     2.50?\n",
        " ext                 2.2   337.649   -23.227      3253    626.13?     1.50?\n",
        " ------------------------------------------------------------------------------------------\n",
        " \tDiffuse sources\n",
        " ------------------------------------------------------------------------------------------\n",
        " Sreekumar Isotropic x100      0.00?      2.10 \n",
        " ------------------------------------------------------------------------------------------\n",
        " logLikelihood =  -13193.3908788\n",
        " ------------------------------------------------------------------------------------------\n"
       ]
      }
     ],
     "prompt_number": 20
    },
    {
     "cell_type": "markdown",
     "metadata": {},
     "source": [
      "# Fitting the Data\n"
     ]
    },
    {
     "cell_type": "markdown",
     "metadata": {},
     "source": [
      "The next thing we can do is perform a spectral fit of the region. \n",
      "\n",
      "To perform a spectral analysis, we take the poisson likelihood $\\mathcal{L}(\\vec{\\lambda})$ and maximize it by varying the spectral parameters $\\vec{\\lambda}$ of our model.\n",
      "\n",
      "$$\\vec{\\lambda}_\\text{max} = \\underset{}{\\text{arg }}\\underset{\\vec{\\lambda}}{\\text{max}} \\mathcal{L}(\\vec{\\lambda}) $$\n",
      "\n",
      "Doing this spectral fit in pointlike is easy:"
     ]
    },
    {
     "cell_type": "code",
     "collapsed": false,
     "input": [
      "roi.fit(use_gradient=False)"
     ],
     "language": "python",
     "metadata": {},
     "outputs": [
      {
       "output_type": "stream",
       "stream": "stdout",
       "text": [
        ".....performing likelihood maximization... "
       ]
      },
      {
       "output_type": "stream",
       "stream": "stdout",
       "text": [
        "Optimization terminated successfully.\n",
        "         Current function value: 13188.259024\n",
        "         Iterations: 121\n",
        "         Function evaluations: 205\n",
        "Function value at minimum: 13188.259\n",
        "Attempting to invert full hessian..."
       ]
      },
      {
       "output_type": "stream",
       "stream": "stdout",
       "text": [
        "\n"
       ]
      },
      {
       "output_type": "pyout",
       "prompt_number": 22,
       "text": [
        "-13188.259023520732"
       ]
      }
     ],
     "prompt_number": 22
    },
    {
     "cell_type": "markdown",
     "metadata": {},
     "source": [
      "Note that after the fit, the spectral parameters and the likelihood have changed:"
     ]
    },
    {
     "cell_type": "code",
     "collapsed": false,
     "input": [
      "roi.print_summary()"
     ],
     "language": "python",
     "metadata": {},
     "outputs": [
      {
       "output_type": "stream",
       "stream": "stdout",
       "text": [
        " ------------------------------------------------------------------------------------------ \n",
        "\t Nearby sources within 5.0 degrees \n",
        " name               dist        ra       dec        TS     flux8     index      beta    cutoff\n",
        " ps                  0.0   339.521   -24.687       905   2134.66*     2.59!\n",
        " ext                 2.2   337.649   -23.227      3244    605.68!     1.50!\n",
        " ------------------------------------------------------------------------------------------\n",
        " \tDiffuse sources\n",
        " ------------------------------------------------------------------------------------------\n",
        " Sreekumar Isotropic x100      0.00!      2.10 \n",
        " ------------------------------------------------------------------------------------------\n",
        " logLikelihood =  -13188.2590235\n",
        " ------------------------------------------------------------------------------------------\n"
       ]
      }
     ],
     "prompt_number": 23
    },
    {
     "cell_type": "markdown",
     "metadata": {},
     "source": [
      "We define the test statistic for the detection of a source:\n",
      "\n",
      "$$\\text{TS} = 2 ( \\log \\mathcal{L}_1 - \\log \\mathcal{L}_0)$$\n",
      "\n",
      "where $\\mathcal{L}_1$ is the likelihood assuming a model with the source and background and $\\mathcal{L}_0$ is the likelihood assuming just the background.\n",
      "\n",
      "We can compute the likelihood in gtlike easily:"
     ]
    },
    {
     "cell_type": "code",
     "collapsed": false,
     "input": [
      "ts = roi.TS(which='ps')"
     ],
     "language": "python",
     "metadata": {},
     "outputs": [],
     "prompt_number": 49
    },
    {
     "cell_type": "markdown",
     "metadata": {},
     "source": [
      "You can fit the position of the source:"
     ]
    },
    {
     "cell_type": "code",
     "collapsed": false,
     "input": [
      "roi.localize(which='ps')\n",
      "roi.print_ellipse()"
     ],
     "language": "python",
     "metadata": {},
     "outputs": [
      {
       "output_type": "stream",
       "stream": "stdout",
       "text": [
        "Localizing source ps, tolerance=1.0e-03...\n",
        "\t     moved     delta        ra       dec         a         b      qual\n",
        "\t    0.0000    0.0000  339.5214  -24.6868\n",
        "\t    0.0209    0.0209  339.5010  -24.6772    0.0047    0.0045   15.9562\n",
        "\t    0.0031    0.0232  339.4999  -24.6743    0.0142    0.0137    1.4015"
       ]
      },
      {
       "output_type": "stream",
       "stream": "stdout",
       "text": [
        "\n",
        "\t    0.0001    0.0233  339.4998  -24.6743    0.0147    0.0142    0.1191"
       ]
      },
      {
       "output_type": "stream",
       "stream": "stdout",
       "text": [
        "\n",
        "TS change: 2.57"
       ]
      },
      {
       "output_type": "stream",
       "stream": "stdout",
       "text": [
        "\n",
        "        ra       dec         a         b       ang      qual\n",
        "  339.4998  -24.6743    0.0147    0.0142   89.2193    0.1191    0.0083\n"
       ]
      }
     ],
     "prompt_number": 35
    },
    {
     "cell_type": "markdown",
     "metadata": {},
     "source": [
      "You can fit the extension of extended sources"
     ]
    },
    {
     "cell_type": "code",
     "collapsed": false,
     "input": [
      "roi.fit_extension(which='ext')"
     ],
     "language": "python",
     "metadata": {},
     "outputs": [
      {
       "output_type": "stream",
       "stream": "stdout",
       "text": [
        "Localizing Disk source ext Using Spectral Fits\n",
        "center = [ 337.649d, -23.227d ], ext = [ 1.000d ], logL = -13188.259, dlogL = 0.000"
       ]
      },
      {
       "output_type": "stream",
       "stream": "stdout",
       "text": [
        "\n",
        "center = [ 337.649d, -23.227d ], ext = [ 1.000d ], logL = -13188.259, dlogL = 0.000"
       ]
      },
      {
       "output_type": "stream",
       "stream": "stdout",
       "text": [
        "\n",
        "center = [ 337.757d, -23.227d ], ext = [ 1.000d ], logL = -13204.977, dlogL = -16.718"
       ]
      },
      {
       "output_type": "stream",
       "stream": "stdout",
       "text": [
        "\n",
        "center = [ 337.605d, -23.227d ], ext = [ 1.000d ], logL = -13190.239, dlogL = -1.980"
       ]
      },
      {
       "output_type": "stream",
       "stream": "stdout",
       "text": [
        "\n",
        "center = [ 337.666d, -23.227d ], ext = [ 1.000d ], logL = -13188.877, dlogL = -0.618"
       ]
      },
      {
       "output_type": "stream",
       "stream": "stdout",
       "text": [
        "\n",
        "center = [ 337.666d, -23.127d ], ext = [ 1.000d ], logL = -13204.353, dlogL = -16.094"
       ]
      },
      {
       "output_type": "stream",
       "stream": "stdout",
       "text": [
        "\n",
        "center = [ 337.666d, -23.267d ], ext = [ 1.000d ], logL = -13191.367, dlogL = -3.108"
       ]
      },
      {
       "output_type": "stream",
       "stream": "stdout",
       "text": [
        "\n",
        "center = [ 337.666d, -23.211d ], ext = [ 1.000d ], logL = -13189.213, dlogL = -0.954"
       ]
      },
      {
       "output_type": "stream",
       "stream": "stdout",
       "text": [
        "\n",
        "center = [ 337.666d, -23.211d ], ext = [ 1.094d ], logL = -13190.834, dlogL = -2.575"
       ]
      },
      {
       "output_type": "stream",
       "stream": "stdout",
       "text": [
        "\n",
        "center = [ 337.666d, -23.211d ], ext = [ 0.964d ], logL = -13197.662, dlogL = -9.403"
       ]
      },
      {
       "output_type": "stream",
       "stream": "stdout",
       "text": [
        "\n",
        "center = [ 337.666d, -23.211d ], ext = [ 1.015d ], logL = -13187.371, dlogL = 0.888"
       ]
      },
      {
       "output_type": "stream",
       "stream": "stdout",
       "text": [
        "\n",
        "center = [ 337.666d, -23.211d ], ext = [ 1.060d ], logL = -13186.820, dlogL = 1.439"
       ]
      },
      {
       "output_type": "stream",
       "stream": "stdout",
       "text": [
        "\n",
        "center = [ 337.666d, -23.211d ], ext = [ 1.202d ], logL = -13220.905, dlogL = -32.646"
       ]
      },
      {
       "output_type": "stream",
       "stream": "stdout",
       "text": [
        "\n",
        "center = [ 337.655d, -23.232d ], ext = [ 1.040d ], logL = -13185.500, dlogL = 2.759"
       ]
      },
      {
       "output_type": "stream",
       "stream": "stdout",
       "text": [
        "\n",
        "center = [ 337.649d, -23.243d ], ext = [ 1.060d ], logL = -13186.277, dlogL = 1.982"
       ]
      }
     ],
     "prompt_number": 36
    },
    {
     "cell_type": "markdown",
     "metadata": {},
     "source": [
      "# SED Plots"
     ]
    },
    {
     "cell_type": "markdown",
     "metadata": {},
     "source": [
      "We can compute the an SED for the sources. An 'SED' plot is a spectral energy distribution."
     ]
    },
    {
     "cell_type": "code",
     "collapsed": false,
     "input": [
      "from lande.fermi.spectra.pointlike import PointlikeSED\n",
      "sed = PointlikeSED(roi, name='ps')\n",
      "sed.plot()"
     ],
     "language": "python",
     "metadata": {},
     "outputs": [],
     "prompt_number": 44
    },
    {
     "cell_type": "markdown",
     "metadata": {},
     "source": [
      "What is nice about this code is that the output format is just a YAML dictionary which can be easly loaded later."
     ]
    },
    {
     "cell_type": "code",
     "collapsed": false,
     "input": [
      "sedfile = join(savedir, 'sed_ps.yaml')\n",
      "sed.save(sedfile)"
     ],
     "language": "python",
     "metadata": {},
     "outputs": [],
     "prompt_number": 40
    },
    {
     "cell_type": "markdown",
     "metadata": {},
     "source": [
      "Note that the file format is very simple and portable"
     ]
    },
    {
     "cell_type": "code",
     "collapsed": false,
     "input": [
      "print open(sedfile).read()"
     ],
     "language": "python",
     "metadata": {},
     "outputs": [],
     "prompt_number": 42
    },
    {
     "cell_type": "markdown",
     "metadata": {},
     "source": [
      "# Iterative analysis in pointlike"
     ]
    },
    {
     "cell_type": "markdown",
     "metadata": {},
     "source": [
      "One of the primary benefits of pointlike is the ability to perform fast iterative analyses. This is often necessary to repidly improve the model of the sky."
     ]
    },
    {
     "cell_type": "code",
     "collapsed": false,
     "input": [
      "savename = join(savedir, 'roi.dat')\n",
      "roi.save('roi.dat')"
     ],
     "language": "python",
     "metadata": {},
     "outputs": [],
     "prompt_number": 46
    },
    {
     "cell_type": "code",
     "collapsed": false,
     "input": [
      "from uw.like.roi_save import load\n",
      "\n",
      "roi = load('roi.dat')"
     ],
     "language": "python",
     "metadata": {},
     "outputs": [],
     "prompt_number": 47
    },
    {
     "cell_type": "markdown",
     "metadata": {},
     "source": [
      "Adding/removing sources to an ROI"
     ]
    },
    {
     "cell_type": "markdown",
     "metadata": {},
     "source": [
      "Changing the spectral model"
     ]
    },
    {
     "cell_type": "markdown",
     "metadata": {},
     "source": [
      "# Making plots"
     ]
    },
    {
     "cell_type": "markdown",
     "metadata": {},
     "source": []
    },
    {
     "cell_type": "code",
     "collapsed": false,
     "input": [
      "sed.plot(figsize=(6,6))"
     ],
     "language": "python",
     "metadata": {},
     "outputs": [],
     "prompt_number": "*"
    },
    {
     "cell_type": "code",
     "collapsed": false,
     "input": [
      "roi.plot_counts_map(size=5, figsize=(10,10))"
     ],
     "language": "python",
     "metadata": {},
     "outputs": [],
     "prompt_number": "*"
    },
    {
     "cell_type": "code",
     "collapsed": false,
     "input": [
      "roi.plot_sources(figsize=(6,6), size=5)"
     ],
     "language": "python",
     "metadata": {},
     "outputs": [],
     "prompt_number": "*"
    },
    {
     "cell_type": "markdown",
     "metadata": {},
     "source": [
      "# Gallery of Published plots:"
     ]
    },
    {
     "cell_type": "heading",
     "level": 4,
     "metadata": {},
     "source": [
      "<img src=\"files/pointlike_description/allsky_cubes.png\">\n",
      "\n"
     ]
    },
    {
     "cell_type": "code",
     "collapsed": false,
     "input": [],
     "language": "python",
     "metadata": {},
     "outputs": [],
     "prompt_number": 50
    },
    {
     "cell_type": "code",
     "collapsed": false,
     "input": [],
     "language": "python",
     "metadata": {},
     "outputs": []
    }
   ],
   "metadata": {}
  }
 ]
}