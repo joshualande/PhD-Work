{
 "metadata": {
  "name": "05-05-2013 - pointlike for maximum-likelihood analysis of LAT data"
 },
 "nbformat": 3,
 "nbformat_minor": 0,
 "worksheets": [
  {
   "cells": [
    {
     "cell_type": "markdown",
     "metadata": {},
     "source": [
      "# The Fermi Gamma-ray Space Telescope Overview:\n",
      "\n",
      "<img src=\"http://www-public.slac.stanford.edu/glast/images/FGSTimage.jpg\">\n",
      "\n",
      "The LAT observes the sky in gamma rays, and produces a beautiful image of the sky\n",
      "\n",
      "<img width=500 src=\"http://www.nasa.gov/images/content/317876main_Fermi_3_month_unlabeled_new.jpg\">\n",
      "\n",
      "Interesting science is to understand the individual sources of gamma-rays.\n",
      "### The LAT is composed of 3 sections\n",
      "\n",
      "* the tracker\n",
      "* the calorimiter\n",
      "* the anit-coincidence detector.\n",
      "\n",
      "<img src=\"http://www-glast.stanford.edu/images/LAT_cutaway.png\">\n",
      "\n",
      "### What makes analysis of LAT data complicated\n",
      "\n",
      "* The non-linear response of the LAT to gamma rays. \n",
      "* Faint signals, poisson statistics\n",
      "* Hard to model diffuse backgrounds\n",
      "\n",
      "### the LAT instrument response \n",
      "\n",
      "Below are the effective area and the PSF of the LAT, which both strongly vary as a function of energy.\n",
      "\n",
      "<img width=400 src=\"http://www.slac.stanford.edu/exp/glast/groups/canda/lat_Performance_files/cAeffEnergy_P7SOURCE_V6.png\">\n",
      "<img width=400 src=\"http://www.slac.stanford.edu/exp/glast/groups/canda/lat_Performance_files/cPsfEnergy_P7SOURCE_V6.png\">"
     ]
    },
    {
     "cell_type": "markdown",
     "metadata": {},
     "source": [
      "To analyze LAT data and handle the detailed model of the LAT, we use a maximum-likelihood analysis. We assume model of the sky\n",
      "\n",
      "$$\\mathcal{L} = P(\\text{data}|\\text{model}) = \\prod_i \\frac{\\lambda_i^{k_i} e^{-\\lambda_i}}{k_i!}.$$\n",
      "\n",
      "Here, $\\mathcal{L}$ is the likelihood of observing the data given the model. We assume that the sky is binned in position and enrgy. $i$ referes to each bin, $\\lambda_i$ is the model predicted counts in bin $i$, and $k_i$ are the observed counts in each bin.\n",
      "\n",
      "<a href=http://fermi.gsfc.nasa.gov/ssc/data/analysis/scitools/help/gtlike.txt>gtlike</a> is the standard tool for maximum-likelihood analysis of LAT data. But it is slow, difficult to use, and lacks many features needed in day-to-day ALT analysis.\n",
      "\n",
      "I have been involved with the development of pointlike, an alternative package for maximum-likelihood analysis of LAT data:\n",
      "\n",
      "* Pointlike was developed with speed and efficiency in mind -> more important to be fast than right\n",
      "* Developed mostly in python, some underlying/legacy libraries written in C++ and wrapped with SWIG\n",
      "* Extensive use of numpy, scipy, matplotlib, pyfits, PyYAML\n",
      "* Use case is iterative analysis, quickly change aspects of the analysis to asses important systematics.\n",
      "\n",
      "My contributions to the code:\n",
      "\n",
      "* Development of extended source functionality in code\n",
      "* Development of significant plotting capability inside code.\n",
      "* Major improvements to input/output of code, interface to objects\n",
      "* Vastly expand documentation/testing of code\n",
      "* Development and validation of pointlike written up in <a href=\"http://arxiv.org/abs/1207.0027\">Lande et al 2012</a>.\n",
      "\n",
      "Extensivly used analysis code in thesis."
     ]
    },
    {
     "cell_type": "markdown",
     "metadata": {},
     "source": [
      "# Simulating pointlike data with gtobssim"
     ]
    },
    {
     "cell_type": "markdown",
     "metadata": {},
     "source": [
      "Given a model of the sky, LAT data can be simulated using <a href=\"http://polywww.in2p3.fr/activites/physique/glast/workbook/pages/sciTools_gtobssim/sciTools_gtobssim.htm\">gtobssim</a>. But for a variety of reasons, gtobssim is very unweildly, difficult to use, error prone, and slow.\n",
      "\n",
      "I wrote a wrapper called uw.like.roi_monte_carlo which wraps gtobssim. Most importantly, roi_monte_carlo will automatically generate the gtobssim-style XML file, builds any necessary spectral and spatial files, and performs a mapcube-cutting function which vastly speeds up simulating the background."
     ]
    },
    {
     "cell_type": "markdown",
     "metadata": {},
     "source": [
      "I will run a simple example which simulates two sources and an isotropic background."
     ]
    },
    {
     "cell_type": "code",
     "collapsed": false,
     "input": [
      "# disble those annoying numpy errors\n",
      "np.seterr(all='ignore')"
     ],
     "language": "python",
     "metadata": {},
     "outputs": [
      {
       "output_type": "pyout",
       "prompt_number": 1,
       "text": [
        "{'divide': 'warn', 'invalid': 'warn', 'over': 'warn', 'under': 'ignore'}"
       ]
      }
     ],
     "prompt_number": 1
    },
    {
     "cell_type": "code",
     "collapsed": true,
     "input": [
      "# First, define a temporary directory to work in\n",
      "from os.path import expandvars\n",
      "savedir=expandvars('$HOME/temp')\n",
      "savedir"
     ],
     "language": "python",
     "metadata": {},
     "outputs": [
      {
       "output_type": "pyout",
       "prompt_number": 2,
       "text": [
        "'/u/gl/lande/temp'"
       ]
      }
     ],
     "prompt_number": 2
    },
    {
     "cell_type": "markdown",
     "metadata": {},
     "source": [
      "Now we can define the background model to be the canonical isotropic background (x100 to predict a reasonable number of photons)."
     ]
    },
    {
     "cell_type": "code",
     "collapsed": false,
     "input": [
      "from uw.like.pointspec_helpers import get_default_diffuse\n",
      "from lande.fermi.diffuse.background import get_sreekumar \n",
      "bg = get_sreekumar(diff_factor=100)"
     ],
     "language": "python",
     "metadata": {},
     "outputs": [],
     "prompt_number": 3
    },
    {
     "cell_type": "markdown",
     "metadata": {},
     "source": [
      "Now we define a point-like source."
     ]
    },
    {
     "cell_type": "code",
     "collapsed": false,
     "input": [
      "from uw.like.pointspec_helpers import PointSource\n",
      "from uw.like.Models import PowerLaw\n",
      "from skymaps import SkyDir\n",
      "skydir = SkyDir(30,-60, SkyDir.GALACTIC)\n",
      "model = PowerLaw(norm=1e-9, index=2.5)\n",
      "ps=PointSource(name='ps', model=model, skydir=skydir)\n",
      "print ps"
     ],
     "language": "python",
     "metadata": {},
     "outputs": [
      {
       "output_type": "stream",
       "stream": "stdout",
       "text": [
        "\n",
        "\n",
        "============================================================\n",
        "Name:\t\tps\n",
        "R.A. (J2000):\t339.52141\n",
        "Dec. (J2000):\t-24.68680\n",
        "Model:\t\tPowerLaw, e0=1000\n",
        "\tNorm      : 1e-09 \n",
        "\tIndex     : 2.5 \n",
        "\tPh. Flux  : 2.11e-05 (DERIVED)\n",
        "\tEn. Flux  : 9.81e-09 (DERIVED)\n"
       ]
      }
     ],
     "prompt_number": 4
    },
    {
     "cell_type": "markdown",
     "metadata": {},
     "source": [
      "Next we can create a spatially-extended source"
     ]
    },
    {
     "cell_type": "code",
     "collapsed": false,
     "input": [
      "from uw.like.roi_extended import ExtendedSource\n",
      "from uw.like.SpatialModels import Disk\n",
      "skydir = SkyDir(30 + 2,-60 + 2, SkyDir.GALACTIC) \n",
      "spatial_model = Disk(sigma=1, center=skydir)\n",
      "model = PowerLaw(norm=1e-9, index=1.5)\n",
      "ext=ExtendedSource(name='ext', model=model, spatial_model=spatial_model)\n",
      "print ext"
     ],
     "language": "python",
     "metadata": {},
     "outputs": [
      {
       "output_type": "stream",
       "stream": "stdout",
       "text": [
        "\n",
        "\n",
        "============================================================\n",
        "Name:\t\text\n",
        "R.A. (J2000):\t\t337.64885\n",
        "Dec. (J2000):\t\t-23.22669\n",
        "Model:\t\tPowerLaw, e0=1000\n",
        "\tNorm      : 1e-09 \n",
        "\tIndex     : 1.5 \n",
        "\tPh. Flux  : 6.12e-06 (DERIVED)\n",
        "\tEn. Flux  : 3.1e-08 (DERIVED)\n",
        "SpatialModel:\tDisk\n",
        "\tRA        : 337.6\n",
        "\tDEC       : -23.23\n",
        "\tSigma     : 1\n"
       ]
      }
     ],
     "prompt_number": 5
    },
    {
     "cell_type": "markdown",
     "metadata": {},
     "source": [
      "First, we define the simulated data"
     ]
    },
    {
     "cell_type": "code",
     "collapsed": false,
     "input": [
      "from os.path import join\n",
      "ft1 = join(savedir, 'ft1.fits')\n",
      "ft2 = join(savedir, 'ft2.fits')"
     ],
     "language": "python",
     "metadata": {},
     "outputs": [],
     "prompt_number": 6
    },
    {
     "cell_type": "markdown",
     "metadata": {},
     "source": [
      "Then, we simulate the data"
     ]
    },
    {
     "cell_type": "code",
     "collapsed": false,
     "input": [
      "from skymaps import SkyDir\n",
      "\n",
      "roi_dir = SkyDir(30, -60, SkyDir.GALACTIC)\n",
      "\n",
      "sources=[ps,bg,ext]\n",
      "\n",
      "from uw.like.roi_monte_carlo import MonteCarlo\n",
      "mc = MonteCarlo(\n",
      "    sources=sources,\n",
      "    seed=0,\n",
      "    emin=1e3,\n",
      "    emax=1e5,\n",
      "    roi_dir=roi_dir,\n",
      "    maxROI=5,\n",
      "    irf='P7SOURCE_V6',\n",
      "    ft1=ft1,\n",
      "    ft2=ft2,\n",
      "    tstart=0,\n",
      "    tstop=604800,\n",
      "    zmax=100,\n",
      "    savedir=savedir\n",
      ")\n",
      "mc.simulate()"
     ],
     "language": "python",
     "metadata": {},
     "outputs": [
      {
       "output_type": "stream",
       "stream": "stdout",
       "text": [
        "Simulating in energy range from 1000 MeV to 100000 MeV\n",
        "working in directory /u/gl/lande/temp\n",
        "Processing source ps\n",
        "Processing source Sreekumar Isotropic x100\n",
        "Processing source ext\n",
        "current pfile settings"
       ]
      },
      {
       "output_type": "stream",
       "stream": "stdout",
       "text": [
        " /u/gl/lande/temp;/nfs/farm/g/glast/u35/ReleaseManagerBuild/redhat6-x86_64-64bit-gcc44/Optimized/ScienceTools/09-31-01/syspfiles\n",
        "time -p gtobssim infile=/u/gl/lande/temp/source_library.xml srclist=/u/gl/lande/temp/source_list.txt scfile=none sctable=\"SC_DATA\" evroot=\"sim\" evtable=\"EVENTS\" simtime=604800.0 ltfrac=0.9 tstart=0.0 nevents=no maxtime=315500000.0 startdate=\"2001-01-01 00:00:00\" offset=0 rockangle=\"INDEF\" use_ac=yes ra=339.521406361 dec=-24.6868042342 radius=10.0 emin=1000.0 emax=100000.0 edisp=yes irfs=\"P7SOURCE_V6\" area=1.0 maxrows=200000000 seed=0 chatter=2 clobber=yes debug=no gui=no mode=\"ql\"\n",
        "added source \"ps\""
       ]
      },
      {
       "output_type": "stream",
       "stream": "stdout",
       "text": [
        "\n",
        "added source \"Sreekumar_Isotropic_x100\"\n",
        "added source \"ext\"\n",
        "Generating events for a simulation time of 604800 seconds....\n",
        "Done.\n",
        "real 77.01\n",
        "user 71.67\n",
        "sys 1.41\n",
        "Applying zenith angle cut (zmax=100) to simulated data\n",
        "time -p gtselect infile=/u/gl/lande/temp/sim_events_0000.fits outfile=/u/gl/lande/temp/ft1_zcut.fits ra=339.521406361 dec=-24.6868042342 rad=10.0 tmin=0.0 tmax=0.0 emin=1000.0 emax=100000.0 zmax=100.0 evclsmin=0 evclsmax=10 evclass=\"INDEF\" convtype=-1 phasemin=0.0 phasemax=1.0 evtable=\"EVENTS\" chatter=2 clobber=yes debug=no gui=no mode=\"ql\"\n",
        "Done."
       ]
      },
      {
       "output_type": "stream",
       "stream": "stdout",
       "text": [
        "\n",
        "real 2.17\n",
        "user 0.46\n",
        "sys 0.45\n"
       ]
      }
     ],
     "prompt_number": 7
    },
    {
     "cell_type": "markdown",
     "metadata": {},
     "source": [
      "# Explore the simulated data"
     ]
    },
    {
     "cell_type": "markdown",
     "metadata": {},
     "source": [
      "We can make a simple plot of the simulated data using the excelent <a href=\"http://leejjoon.github.io/pywcsgrid2/\">pywcsgrid2</a> module.\n",
      "\n",
      "\n",
      "First we have to bin the data in the sky."
     ]
    },
    {
     "cell_type": "code",
     "collapsed": false,
     "input": [
      "import os\n",
      "cmap = join(savedir,\"cmap.fits\")\n",
      "os.system('gtbin evfile=%s scfile=%s outfile=%s algorithm=cmap  \\\n",
      "           nxpix=100 nypix=100 xref=30 yref=-60 coordsys=GAL binsz=0.1 proj=AIT axisrot=0'\n",
      "          % (ft1, ft2, cmap)\n",
      "      )"
     ],
     "language": "python",
     "metadata": {},
     "outputs": [
      {
       "output_type": "pyout",
       "prompt_number": 8,
       "text": [
        "0"
       ]
      }
     ],
     "prompt_number": 8
    },
    {
     "cell_type": "markdown",
     "metadata": {},
     "source": [
      "Next we can plot the skymap using pywcsgrid2. Note the two sources, one point source in the center and one extended source on the top left."
     ]
    },
    {
     "cell_type": "code",
     "collapsed": false,
     "input": [
      "import pyfits\n",
      "f=pyfits.open(cmap)\n",
      "\n",
      "import pylab as P\n",
      "import pywcsgrid2\n",
      "P.figure(None,(6,6))\n",
      "pywcsgrid2.subplot(111, header=f[0].header)\n",
      "plt.imshow(f[0].data, origin=\"lower\", interpolation='nearest')\n",
      "grid(color='white', linestyle='-')"
     ],
     "language": "python",
     "metadata": {},
     "outputs": [
      {
       "output_type": "display_data",
       "png": "[encoded data removed]"
      }
     ],
     "prompt_number": 9
    },
    {
     "cell_type": "markdown",
     "metadata": {},
     "source": [
      "# Now, perform pointlike analysis\n",
      "\n",
      "We can use pointlike to perform the full forward-folding LAT analysis.\n",
      "\n",
      "The first step to a LAT analysis is always to define a ROI (region of interest)."
     ]
    },
    {
     "cell_type": "code",
     "collapsed": false,
     "input": [
      "from skymaps import SkyDir\n",
      "\n",
      "from uw.like.pointspec import DataSpecification, SpectralAnalysis\n",
      "\n",
      "ltcube = join(savedir, 'ltcube.fits')\n",
      "binfile = join(savedir, 'binned.fits')\n",
      "\n",
      "ds=DataSpecification(binfile=binfile,\n",
      "                     ltcube=ltcube,\n",
      "                     ft1files=ft1,\n",
      "                     ft2files=ft2)\n",
      "\n",
      "center=SkyDir(30,-60,SkyDir.GALACTIC)\n",
      "\n",
      "sa=SpectralAnalysis(ds,\n",
      "                    binsperdec=2,\n",
      "                    event_class=2,\n",
      "                    emin=1e3,emax=1e5,\n",
      "                    irf=\"P7SOURCE_V6\",\n",
      "                    roi_dir=center,\n",
      "                    use_weighted_livetime=True,\n",
      "                    maxROI=5,\n",
      "                    minROI=5)\n",
      "roi = sa.roi(point_sources=[ps.copy()], \n",
      "             diffuse_sources=[ext.copy(), bg.copy()])"
     ],
     "language": "python",
     "metadata": {},
     "outputs": [
      {
       "output_type": "stream",
       "stream": "stdout",
       "text": [
        "LivetimeCube file /u/gl/lande/temp/ltcube.fits does not exist: will generate it from the ft2 files\n",
        "loading FT2 file /u/gl/lande/temp/ft2.fits"
       ]
      },
      {
       "output_type": "stream",
       "stream": "stdout",
       "text": [
        " no extension WEIGHTED_EXPOSURE in file /u/gl/lande/temp/ltcube.fits: will generate it from the ft2files\n",
        "loading FT2 file /u/gl/lande/temp/ft2.fits "
       ]
      },
      {
       "output_type": "stream",
       "stream": "stdout",
       "text": [
        "\n",
        "            ###################WARNING!!!##########################\n",
        "            It is STRONGLY recommended that you use a binning comm-\n",
        "            ensurate with CALDB binning.  This can be achieved by \n",
        "            making sure 100 MeV appears in the bin edges (an easy \n",
        "            way is to set emin=100) and that binsperdec is a multi-\n",
        "            ple of 4.  You can choose a subset of these bins in the\n",
        "            likelihood fitting if you want to narrow the energy\n",
        "            bounds.\n",
        "            #######################################################\n",
        "            \n",
        ".....set Data theta cut at 66.4 deg\n",
        "loading 1 FT1 file(s) /u/gl/lande/temp/ft1.fits.../u/gl/lande/temp/ft1.fits\n",
        "selecting event_class 2\n",
        ".....saving binfile /u/gl/lande/temp/binned.fits for subsequent use"
       ]
      },
      {
       "output_type": "stream",
       "stream": "stdout",
       "text": [
        "\n",
        ".....loading binfile /u/gl/lande/temp/binned.fits ..."
       ]
      },
      {
       "output_type": "stream",
       "stream": "stdout",
       "text": [
        " found 8 bands, energies 1000-100000 MeV\n",
        ".....setting up point sources (1 in ROI)..."
       ]
      },
      {
       "output_type": "stream",
       "stream": "stdout",
       "text": [
        " done!\n",
        ".....setting up diffuse/extended backgrounds for 8 bands...\n",
        ".......... ext"
       ]
      },
      {
       "output_type": "stream",
       "stream": "stdout",
       "text": [
        " ...convolving band  1/ 8"
       ]
      },
      {
       "output_type": "stream",
       "stream": "stdout",
       "text": [
        " \b\b\b\b\b\b\b\b\b\b\b\b\b\b\b\b\b\b\b\b\b\b\b\b\b\b"
       ]
      },
      {
       "output_type": "stream",
       "stream": "stdout",
       "text": [
        " ...convolving band  2/ 8"
       ]
      },
      {
       "output_type": "stream",
       "stream": "stdout",
       "text": [
        " \b\b\b\b\b\b\b\b\b\b\b\b\b\b\b\b\b\b\b\b\b\b\b\b\b\b"
       ]
      },
      {
       "output_type": "stream",
       "stream": "stdout",
       "text": [
        " ...convolving band  3/ 8"
       ]
      },
      {
       "output_type": "stream",
       "stream": "stdout",
       "text": [
        " \b\b\b\b\b\b\b\b\b\b\b\b\b\b\b\b\b\b\b\b\b\b\b\b\b\b"
       ]
      },
      {
       "output_type": "stream",
       "stream": "stdout",
       "text": [
        " ...convolving band  4/ 8"
       ]
      },
      {
       "output_type": "stream",
       "stream": "stdout",
       "text": [
        " \b\b\b\b\b\b\b\b\b\b\b\b\b\b\b\b\b\b\b\b\b\b\b\b\b\b"
       ]
      },
      {
       "output_type": "stream",
       "stream": "stdout",
       "text": [
        " ...convolving band  5/ 8"
       ]
      },
      {
       "output_type": "stream",
       "stream": "stdout",
       "text": [
        " \b\b\b\b\b\b\b\b\b\b\b\b\b\b\b\b\b\b\b\b\b\b\b\b\b\b"
       ]
      },
      {
       "output_type": "stream",
       "stream": "stdout",
       "text": [
        " ...convolving band  6/ 8"
       ]
      },
      {
       "output_type": "stream",
       "stream": "stdout",
       "text": [
        " \b\b\b\b\b\b\b\b\b\b\b\b\b\b\b\b\b\b\b\b\b\b\b\b\b\b"
       ]
      },
      {
       "output_type": "stream",
       "stream": "stdout",
       "text": [
        " ...convolving band  7/ 8"
       ]
      },
      {
       "output_type": "stream",
       "stream": "stdout",
       "text": [
        " \b\b\b\b\b\b\b\b\b\b\b\b\b\b\b\b\b\b\b\b\b\b\b\b\b\b"
       ]
      },
      {
       "output_type": "stream",
       "stream": "stdout",
       "text": [
        " ...convolving band  8/ 8"
       ]
      },
      {
       "output_type": "stream",
       "stream": "stdout",
       "text": [
        " \b\b\b\b\b\b\b\b\b\b\b\b\b\b\b\b\b\b\b\b\b\b\b\b\b\b"
       ]
      },
      {
       "output_type": "stream",
       "stream": "stdout",
       "text": [
        "\n",
        ".......... Sreekumar Isotropic x100"
       ]
      },
      {
       "output_type": "stream",
       "stream": "stdout",
       "text": [
        " ...convolving band  1/ 8"
       ]
      },
      {
       "output_type": "stream",
       "stream": "stdout",
       "text": [
        " \b\b\b\b\b\b\b\b\b\b\b\b\b\b\b\b\b\b\b\b\b\b\b\b\b\b"
       ]
      },
      {
       "output_type": "stream",
       "stream": "stdout",
       "text": [
        " ...convolving band  2/ 8"
       ]
      },
      {
       "output_type": "stream",
       "stream": "stdout",
       "text": [
        " \b\b\b\b\b\b\b\b\b\b\b\b\b\b\b\b\b\b\b\b\b\b\b\b\b\b"
       ]
      },
      {
       "output_type": "stream",
       "stream": "stdout",
       "text": [
        " ...convolving band  3/ 8"
       ]
      },
      {
       "output_type": "stream",
       "stream": "stdout",
       "text": [
        " \b\b\b\b\b\b\b\b\b\b\b\b\b\b\b\b\b\b\b\b\b\b\b\b\b\b"
       ]
      },
      {
       "output_type": "stream",
       "stream": "stdout",
       "text": [
        " ...convolving band  4/ 8"
       ]
      },
      {
       "output_type": "stream",
       "stream": "stdout",
       "text": [
        " \b\b\b\b\b\b\b\b\b\b\b\b\b\b\b\b\b\b\b\b\b\b\b\b\b\b"
       ]
      },
      {
       "output_type": "stream",
       "stream": "stdout",
       "text": [
        " ...convolving band  5/ 8"
       ]
      },
      {
       "output_type": "stream",
       "stream": "stdout",
       "text": [
        " \b\b\b\b\b\b\b\b\b\b\b\b\b\b\b\b\b\b\b\b\b\b\b\b\b\b"
       ]
      },
      {
       "output_type": "stream",
       "stream": "stdout",
       "text": [
        " ...convolving band  6/ 8"
       ]
      },
      {
       "output_type": "stream",
       "stream": "stdout",
       "text": [
        " \b\b\b\b\b\b\b\b\b\b\b\b\b\b\b\b\b\b\b\b\b\b\b\b\b\b"
       ]
      },
      {
       "output_type": "stream",
       "stream": "stdout",
       "text": [
        " ...convolving band  7/ 8"
       ]
      },
      {
       "output_type": "stream",
       "stream": "stdout",
       "text": [
        " \b\b\b\b\b\b\b\b\b\b\b\b\b\b\b\b\b\b\b\b\b\b\b\b\b\b"
       ]
      },
      {
       "output_type": "stream",
       "stream": "stdout",
       "text": [
        " ...convolving band  8/ 8"
       ]
      },
      {
       "output_type": "stream",
       "stream": "stdout",
       "text": [
        " \b\b\b\b\b\b\b\b\b\b\b\b\b\b\b\b\b\b\b\b\b\b\b\b\b\b"
       ]
      },
      {
       "output_type": "stream",
       "stream": "stdout",
       "text": [
        "\n"
       ]
      }
     ],
     "prompt_number": 10
    },
    {
     "cell_type": "markdown",
     "metadata": {},
     "source": [
      "The first thing we can do is print out a summary of the ROI. \n",
      "\n",
      "Note the three sources in our model (a point source, an extended source, and the isotropic background)."
     ]
    },
    {
     "cell_type": "code",
     "collapsed": false,
     "input": [
      "roi.print_summary()"
     ],
     "language": "python",
     "metadata": {},
     "outputs": [
      {
       "output_type": "stream",
       "stream": "stdout",
       "text": [
        " ------------------------------------------------------------------------------------------ \n",
        "\t Nearby sources within 5.0 degrees \n",
        " name               dist        ra       dec        TS     flux8     index      beta    cutoff\n",
        " ps                  0.0   339.521   -24.687       900   2108.18?     2.50?\n",
        " ext                 2.2   337.649   -23.227      3253    626.13?     1.50?\n",
        " ------------------------------------------------------------------------------------------\n",
        " \tDiffuse sources\n",
        " ------------------------------------------------------------------------------------------\n",
        " Sreekumar Isotropic x100      0.00?      2.10 \n",
        " ------------------------------------------------------------------------------------------\n",
        " logLikelihood =  -13193.3908788\n",
        " ------------------------------------------------------------------------------------------\n"
       ]
      }
     ],
     "prompt_number": 12
    },
    {
     "cell_type": "markdown",
     "metadata": {},
     "source": [
      "# Fitting the Data\n"
     ]
    },
    {
     "cell_type": "markdown",
     "metadata": {},
     "source": [
      "The next thing we can do is perform a spectral fit of the region. \n",
      "\n",
      "To perform a spectral analysis, we take the poisson likelihood $\\mathcal{L}(\\vec{\\lambda})$ and maximize it by varying the spectral parameters $\\vec{\\lambda}$ of our model.\n",
      "\n",
      "$$\\vec{\\lambda}_\\text{max} = \\underset{}{\\text{arg }}\\underset{\\vec{\\lambda}}{\\text{max}} \\mathcal{L}(\\vec{\\lambda}) $$\n",
      "\n",
      "Doing this spectral fit in pointlike is easy:"
     ]
    },
    {
     "cell_type": "code",
     "collapsed": false,
     "input": [
      "roi.fit(use_gradient=False)"
     ],
     "language": "python",
     "metadata": {},
     "outputs": [
      {
       "output_type": "stream",
       "stream": "stdout",
       "text": [
        ".....performing likelihood maximization... "
       ]
      },
      {
       "output_type": "stream",
       "stream": "stdout",
       "text": [
        "Optimization terminated successfully.\n",
        "         Current function value: 13188.259024\n",
        "         Iterations: 121\n",
        "         Function evaluations: 205\n",
        "Function value at minimum: 13188.259\n",
        "Attempting to invert full hessian..."
       ]
      },
      {
       "output_type": "stream",
       "stream": "stdout",
       "text": [
        "\n"
       ]
      },
      {
       "output_type": "pyout",
       "prompt_number": 13,
       "text": [
        "-13188.259023520732"
       ]
      }
     ],
     "prompt_number": 13
    },
    {
     "cell_type": "markdown",
     "metadata": {},
     "source": [
      "Note that after the fit, the spectral parameters and the likelihood have changed:"
     ]
    },
    {
     "cell_type": "code",
     "collapsed": false,
     "input": [
      "roi.print_summary()"
     ],
     "language": "python",
     "metadata": {},
     "outputs": [
      {
       "output_type": "stream",
       "stream": "stdout",
       "text": [
        " ------------------------------------------------------------------------------------------ \n",
        "\t Nearby sources within 5.0 degrees \n",
        " name               dist        ra       dec        TS     flux8     index      beta    cutoff\n",
        " ps                  0.0   339.521   -24.687       905   2134.66*     2.59!\n",
        " ext                 2.2   337.649   -23.227      3244    605.68!     1.50!\n",
        " ------------------------------------------------------------------------------------------\n",
        " \tDiffuse sources\n",
        " ------------------------------------------------------------------------------------------\n",
        " Sreekumar Isotropic x100      0.00!      2.10 \n",
        " ------------------------------------------------------------------------------------------\n",
        " logLikelihood =  -13188.2590235\n",
        " ------------------------------------------------------------------------------------------\n"
       ]
      }
     ],
     "prompt_number": 14
    },
    {
     "cell_type": "markdown",
     "metadata": {},
     "source": [
      "We define the test statistic for the detection of a source as:\n",
      "\n",
      "$$\\text{TS} = 2 ( \\log \\mathcal{L}_1 - \\log \\mathcal{L}_0)$$\n",
      "\n",
      "where $\\mathcal{L}_1$ is the likelihood assuming a model with the source and background and $\\mathcal{L}_0$ is the likelihood assuming just the background.\n",
      "\n",
      "We can compute the likelihood in gtlike easily:"
     ]
    },
    {
     "cell_type": "code",
     "collapsed": false,
     "input": [
      "ts = roi.TS(which='ps')\n",
      "ts"
     ],
     "language": "python",
     "metadata": {},
     "outputs": [
      {
       "output_type": "pyout",
       "prompt_number": 15,
       "text": [
        "905.47524935379988"
       ]
      }
     ],
     "prompt_number": 15
    },
    {
     "cell_type": "markdown",
     "metadata": {},
     "source": [
      "You can fit the position of the source:"
     ]
    },
    {
     "cell_type": "code",
     "collapsed": false,
     "input": [
      "roi.localize(which='ps')\n",
      "roi.print_ellipse()"
     ],
     "language": "python",
     "metadata": {},
     "outputs": [
      {
       "output_type": "stream",
       "stream": "stdout",
       "text": [
        "Localizing source ps, tolerance=1.0e-03...\n",
        "\t     moved     delta        ra       dec         a         b      qual\n",
        "\t    0.0000    0.0000  339.5214  -24.6868\n",
        "\t    0.0209    0.0209  339.5010  -24.6772    0.0047    0.0045   15.9562\n",
        "\t    0.0031    0.0232  339.4999  -24.6743    0.0142    0.0137    1.4015"
       ]
      },
      {
       "output_type": "stream",
       "stream": "stdout",
       "text": [
        "\n",
        "\t    0.0001    0.0233  339.4998  -24.6743    0.0147    0.0142    0.1191"
       ]
      },
      {
       "output_type": "stream",
       "stream": "stdout",
       "text": [
        "\n",
        "TS change: 2.57"
       ]
      },
      {
       "output_type": "stream",
       "stream": "stdout",
       "text": [
        "\n",
        "        ra       dec         a         b       ang      qual\n",
        "  339.4998  -24.6743    0.0147    0.0142   89.2193    0.1191    0.0083\n"
       ]
      }
     ],
     "prompt_number": 16
    },
    {
     "cell_type": "markdown",
     "metadata": {},
     "source": [
      "You can fit the extension of extended sources"
     ]
    },
    {
     "cell_type": "code",
     "collapsed": false,
     "input": [
      "roi.fit_extension(which='ext')"
     ],
     "language": "python",
     "metadata": {},
     "outputs": [
      {
       "output_type": "stream",
       "stream": "stdout",
       "text": [
        "Localizing Disk source ext Using Spectral Fits\n",
        "center = [ 337.649d, -23.227d ], ext = [ 1.000d ], logL = -13188.259, dlogL = 0.000"
       ]
      },
      {
       "output_type": "stream",
       "stream": "stdout",
       "text": [
        "\n",
        "center = [ 337.649d, -23.227d ], ext = [ 1.000d ], logL = -13188.259, dlogL = 0.000"
       ]
      },
      {
       "output_type": "stream",
       "stream": "stdout",
       "text": [
        "\n",
        "center = [ 337.757d, -23.227d ], ext = [ 1.000d ], logL = -13204.977, dlogL = -16.718"
       ]
      },
      {
       "output_type": "stream",
       "stream": "stdout",
       "text": [
        "\n",
        "center = [ 337.605d, -23.227d ], ext = [ 1.000d ], logL = -13190.239, dlogL = -1.980"
       ]
      },
      {
       "output_type": "stream",
       "stream": "stdout",
       "text": [
        "\n",
        "center = [ 337.666d, -23.227d ], ext = [ 1.000d ], logL = -13188.877, dlogL = -0.618"
       ]
      },
      {
       "output_type": "stream",
       "stream": "stdout",
       "text": [
        "\n",
        "center = [ 337.666d, -23.127d ], ext = [ 1.000d ], logL = -13204.353, dlogL = -16.094"
       ]
      },
      {
       "output_type": "stream",
       "stream": "stdout",
       "text": [
        "\n",
        "center = [ 337.666d, -23.267d ], ext = [ 1.000d ], logL = -13191.367, dlogL = -3.108"
       ]
      },
      {
       "output_type": "stream",
       "stream": "stdout",
       "text": [
        "\n",
        "center = [ 337.666d, -23.211d ], ext = [ 1.000d ], logL = -13189.213, dlogL = -0.954"
       ]
      },
      {
       "output_type": "stream",
       "stream": "stdout",
       "text": [
        "\n",
        "center = [ 337.666d, -23.211d ], ext = [ 1.094d ], logL = -13190.834, dlogL = -2.575"
       ]
      },
      {
       "output_type": "stream",
       "stream": "stdout",
       "text": [
        "\n",
        "center = [ 337.666d, -23.211d ], ext = [ 0.964d ], logL = -13197.662, dlogL = -9.403"
       ]
      },
      {
       "output_type": "stream",
       "stream": "stdout",
       "text": [
        "\n",
        "center = [ 337.666d, -23.211d ], ext = [ 1.015d ], logL = -13187.371, dlogL = 0.888"
       ]
      },
      {
       "output_type": "stream",
       "stream": "stdout",
       "text": [
        "\n",
        "center = [ 337.666d, -23.211d ], ext = [ 1.060d ], logL = -13186.820, dlogL = 1.439"
       ]
      },
      {
       "output_type": "stream",
       "stream": "stdout",
       "text": [
        "\n",
        "center = [ 337.666d, -23.211d ], ext = [ 1.202d ], logL = -13220.905, dlogL = -32.646"
       ]
      },
      {
       "output_type": "stream",
       "stream": "stdout",
       "text": [
        "\n",
        "center = [ 337.655d, -23.232d ], ext = [ 1.040d ], logL = -13185.500, dlogL = 2.759"
       ]
      },
      {
       "output_type": "stream",
       "stream": "stdout",
       "text": [
        "\n",
        "center = [ 337.649d, -23.243d ], ext = [ 1.060d ], logL = -13186.277, dlogL = 1.982"
       ]
      },
      {
       "output_type": "stream",
       "stream": "stdout",
       "text": [
        "\n",
        "center = [ 337.643d, -23.227d ], ext = [ 1.080d ], logL = -13187.906, dlogL = 0.353"
       ]
      },
      {
       "output_type": "stream",
       "stream": "stdout",
       "text": [
        "\n",
        "center = [ 337.657d, -23.227d ], ext = [ 1.136d ], logL = -13198.858, dlogL = -10.599"
       ]
      },
      {
       "output_type": "stream",
       "stream": "stdout",
       "text": [
        "\n",
        "center = [ 337.651d, -23.227d ], ext = [ 1.033d ], logL = -13185.462, dlogL = 2.797"
       ]
      },
      {
       "output_type": "stream",
       "stream": "stdout",
       "text": [
        "\n",
        "center = [ 337.668d, -23.227d ], ext = [ 1.022d ], logL = -13186.571, dlogL = 1.688"
       ]
      },
      {
       "output_type": "stream",
       "stream": "stdout",
       "text": [
        "\n",
        "center = [ 337.645d, -23.253d ], ext = [ 1.017d ], logL = -13187.423, dlogL = 0.836"
       ]
      },
      {
       "output_type": "stream",
       "stream": "stdout",
       "text": [
        "\n",
        "center = [ 337.661d, -23.221d ], ext = [ 1.049d ], logL = -13185.787, dlogL = 2.472"
       ]
      },
      {
       "output_type": "stream",
       "stream": "stdout",
       "text": [
        "\n",
        "center = [ 337.640d, -23.234d ], ext = [ 1.073d ], logL = -13187.116, dlogL = 1.143"
       ]
      },
      {
       "output_type": "stream",
       "stream": "stdout",
       "text": [
        "\n",
        "center = [ 337.661d, -23.228d ], ext = [ 1.035d ], logL = -13185.696, dlogL = 2.563"
       ]
      },
      {
       "output_type": "stream",
       "stream": "stdout",
       "text": [
        "\n",
        "center = [ 337.666d, -23.208d ], ext = [ 1.018d ], logL = -13187.174, dlogL = 1.085"
       ]
      },
      {
       "output_type": "stream",
       "stream": "stdout",
       "text": [
        "\n",
        "center = [ 337.653d, -23.234d ], ext = [ 1.049d ], logL = -13185.627, dlogL = 2.632"
       ]
      },
      {
       "output_type": "stream",
       "stream": "stdout",
       "text": [
        "\n",
        "center = [ 337.649d, -23.238d ], ext = [ 1.029d ], logL = -13185.802, dlogL = 2.457"
       ]
      },
      {
       "output_type": "stream",
       "stream": "stdout",
       "text": [
        "\n",
        "center = [ 337.658d, -23.226d ], ext = [ 1.044d ], logL = -13185.551, dlogL = 2.708"
       ]
      },
      {
       "output_type": "stream",
       "stream": "stdout",
       "text": [
        "\n",
        "center = [ 337.647d, -23.229d ], ext = [ 1.050d ], logL = -13185.495, dlogL = 2.764"
       ]
      },
      {
       "output_type": "stream",
       "stream": "stdout",
       "text": [
        "\n",
        "center = [ 337.651d, -23.220d ], ext = [ 1.035d ], logL = -13185.450, dlogL = 2.809"
       ]
      },
      {
       "output_type": "stream",
       "stream": "stdout",
       "text": [
        "\n",
        "center = [ 337.650d, -23.213d ], ext = [ 1.028d ], logL = -13185.808, dlogL = 2.451"
       ]
      },
      {
       "output_type": "stream",
       "stream": "stdout",
       "text": [
        "\n",
        "center = [ 337.641d, -23.225d ], ext = [ 1.035d ], logL = -13185.383, dlogL = 2.876"
       ]
      },
      {
       "output_type": "stream",
       "stream": "stdout",
       "text": [
        "\n",
        "center = [ 337.633d, -23.225d ], ext = [ 1.030d ], logL = -13185.648, dlogL = 2.611"
       ]
      },
      {
       "output_type": "stream",
       "stream": "stdout",
       "text": [
        "\n",
        "center = [ 337.648d, -23.219d ], ext = [ 1.019d ], logL = -13186.190, dlogL = 2.069"
       ]
      },
      {
       "output_type": "stream",
       "stream": "stdout",
       "text": [
        "\n",
        "center = [ 337.648d, -23.227d ], ext = [ 1.042d ], logL = -13185.339, dlogL = 2.920"
       ]
      },
      {
       "output_type": "stream",
       "stream": "stdout",
       "text": [
        "\n",
        "center = [ 337.642d, -23.221d ], ext = [ 1.041d ], logL = -13185.353, dlogL = 2.906"
       ]
      },
      {
       "output_type": "stream",
       "stream": "stdout",
       "text": [
        "\n",
        "center = [ 337.637d, -23.228d ], ext = [ 1.043d ], logL = -13185.411, dlogL = 2.848"
       ]
      },
      {
       "output_type": "stream",
       "stream": "stdout",
       "text": [
        "\n",
        "center = [ 337.640d, -23.226d ], ext = [ 1.041d ], logL = -13185.341, dlogL = 2.918"
       ]
      },
      {
       "output_type": "stream",
       "stream": "stdout",
       "text": [
        "\n",
        "center = [ 337.645d, -23.224d ], ext = [ 1.049d ], logL = -13185.449, dlogL = 2.810"
       ]
      },
      {
       "output_type": "stream",
       "stream": "stdout",
       "text": [
        "\n",
        "center = [ 337.642d, -23.225d ], ext = [ 1.038d ], logL = -13185.332, dlogL = 2.927"
       ]
      },
      {
       "output_type": "stream",
       "stream": "stdout",
       "text": [
        "\n",
        "center = [ 337.643d, -23.226d ], ext = [ 1.040d ], logL = -13185.321, dlogL = 2.938"
       ]
      },
      {
       "output_type": "stream",
       "stream": "stdout",
       "text": [
        "\n",
        "center = [ 337.643d, -23.226d ], ext = [ 1.040d ], logL = -13185.321, dlogL = 2.938"
       ]
      },
      {
       "output_type": "stream",
       "stream": "stdout",
       "text": [
        "\n",
        "Calculating Covariance Matrix\n",
        "center = [ 337.752d, -23.226d ], ext = [ 1.040d ], logL = -13198.345, dlogL = -10.086"
       ]
      },
      {
       "output_type": "stream",
       "stream": "stdout",
       "text": [
        "\n",
        "center = [ 337.698d, -23.226d ], ext = [ 1.040d ], logL = -13188.520, dlogL = -0.261"
       ]
      },
      {
       "output_type": "stream",
       "stream": "stdout",
       "text": [
        "\n",
        "center = [ 337.683d, -23.226d ], ext = [ 1.040d ], logL = -13186.986, dlogL = 1.273"
       ]
      },
      {
       "output_type": "stream",
       "stream": "stdout",
       "text": [
        "\n",
        "center = [ 337.672d, -23.226d ], ext = [ 1.040d ], logL = -13186.153, dlogL = 2.106"
       ]
      },
      {
       "output_type": "stream",
       "stream": "stdout",
       "text": [
        "\n",
        "center = [ 337.667d, -23.226d ], ext = [ 1.040d ], logL = -13185.901, dlogL = 2.358"
       ]
      },
      {
       "output_type": "stream",
       "stream": "stdout",
       "text": [
        "\n",
        "center = [ 337.666d, -23.226d ], ext = [ 1.040d ], logL = -13185.831, dlogL = 2.428"
       ]
      },
      {
       "output_type": "stream",
       "stream": "stdout",
       "text": [
        "\n",
        "center = [ 337.665d, -23.226d ], ext = [ 1.040d ], logL = -13185.822, dlogL = 2.437"
       ]
      },
      {
       "output_type": "stream",
       "stream": "stdout",
       "text": [
        "\n",
        "center = [ 337.535d, -23.226d ], ext = [ 1.040d ], logL = -13199.154, dlogL = -10.895"
       ]
      },
      {
       "output_type": "stream",
       "stream": "stdout",
       "text": [
        "\n",
        "center = [ 337.589d, -23.226d ], ext = [ 1.040d ], logL = -13188.769, dlogL = -0.510"
       ]
      },
      {
       "output_type": "stream",
       "stream": "stdout",
       "text": [
        "\n",
        "center = [ 337.604d, -23.226d ], ext = [ 1.040d ], logL = -13187.119, dlogL = 1.141"
       ]
      },
      {
       "output_type": "stream",
       "stream": "stdout",
       "text": [
        "\n",
        "center = [ 337.617d, -23.226d ], ext = [ 1.040d ], logL = -13186.188, dlogL = 2.071"
       ]
      },
      {
       "output_type": "stream",
       "stream": "stdout",
       "text": [
        "\n",
        "center = [ 337.621d, -23.226d ], ext = [ 1.040d ], logL = -13185.914, dlogL = 2.345"
       ]
      },
      {
       "output_type": "stream",
       "stream": "stdout",
       "text": [
        "\n",
        "center = [ 337.623d, -23.226d ], ext = [ 1.040d ], logL = -13185.833, dlogL = 2.426"
       ]
      },
      {
       "output_type": "stream",
       "stream": "stdout",
       "text": [
        "\n",
        "center = [ 337.623d, -23.226d ], ext = [ 1.040d ], logL = -13185.822, dlogL = 2.437"
       ]
      },
      {
       "output_type": "stream",
       "stream": "stdout",
       "text": [
        "\n",
        "center = [ 337.643d, -23.126d ], ext = [ 1.040d ], logL = -13199.265, dlogL = -11.006"
       ]
      },
      {
       "output_type": "stream",
       "stream": "stdout",
       "text": [
        "\n",
        "center = [ 337.643d, -23.176d ], ext = [ 1.040d ], logL = -13188.701, dlogL = -0.442"
       ]
      },
      {
       "output_type": "stream",
       "stream": "stdout",
       "text": [
        "\n",
        "center = [ 337.643d, -23.190d ], ext = [ 1.040d ], logL = -13187.095, dlogL = 1.164"
       ]
      },
      {
       "output_type": "stream",
       "stream": "stdout",
       "text": [
        "\n",
        "center = [ 337.643d, -23.200d ], ext = [ 1.040d ], logL = -13186.183, dlogL = 2.076"
       ]
      },
      {
       "output_type": "stream",
       "stream": "stdout",
       "text": [
        "\n",
        "center = [ 337.643d, -23.205d ], ext = [ 1.040d ], logL = -13185.913, dlogL = 2.346"
       ]
      },
      {
       "output_type": "stream",
       "stream": "stdout",
       "text": [
        "\n",
        "center = [ 337.643d, -23.206d ], ext = [ 1.040d ], logL = -13185.833, dlogL = 2.426"
       ]
      },
      {
       "output_type": "stream",
       "stream": "stdout",
       "text": [
        "\n",
        "center = [ 337.643d, -23.206d ], ext = [ 1.040d ], logL = -13185.822, dlogL = 2.437"
       ]
      },
      {
       "output_type": "stream",
       "stream": "stdout",
       "text": [
        "\n",
        "center = [ 337.643d, -23.326d ], ext = [ 1.040d ], logL = -13197.901, dlogL = -9.642"
       ]
      },
      {
       "output_type": "stream",
       "stream": "stdout",
       "text": [
        "\n",
        "center = [ 337.643d, -23.276d ], ext = [ 1.040d ], logL = -13188.555, dlogL = -0.296"
       ]
      },
      {
       "output_type": "stream",
       "stream": "stdout",
       "text": [
        "\n",
        "center = [ 337.643d, -23.261d ], ext = [ 1.040d ], logL = -13186.968, dlogL = 1.291"
       ]
      },
      {
       "output_type": "stream",
       "stream": "stdout",
       "text": [
        "\n",
        "center = [ 337.643d, -23.251d ], ext = [ 1.040d ], logL = -13186.145, dlogL = 2.114"
       ]
      },
      {
       "output_type": "stream",
       "stream": "stdout",
       "text": [
        "\n",
        "center = [ 337.643d, -23.247d ], ext = [ 1.040d ], logL = -13185.897, dlogL = 2.362"
       ]
      },
      {
       "output_type": "stream",
       "stream": "stdout",
       "text": [
        "\n",
        "center = [ 337.643d, -23.245d ], ext = [ 1.040d ], logL = -13185.830, dlogL = 2.429"
       ]
      },
      {
       "output_type": "stream",
       "stream": "stdout",
       "text": [
        "\n",
        "center = [ 337.643d, -23.245d ], ext = [ 1.040d ], logL = -13185.822, dlogL = 2.437"
       ]
      },
      {
       "output_type": "stream",
       "stream": "stdout",
       "text": [
        "\n",
        "center = [ 337.643d, -23.226d ], ext = [ 1.141d ], logL = -13200.228, dlogL = -11.969"
       ]
      },
      {
       "output_type": "stream",
       "stream": "stdout",
       "text": [
        "\n",
        "center = [ 337.643d, -23.226d ], ext = [ 1.090d ], logL = -13189.169, dlogL = -0.910"
       ]
      },
      {
       "output_type": "stream",
       "stream": "stdout",
       "text": [
        "\n",
        "center = [ 337.643d, -23.226d ], ext = [ 1.074d ], logL = -13187.231, dlogL = 1.028"
       ]
      },
      {
       "output_type": "stream",
       "stream": "stdout",
       "text": [
        "\n",
        "center = [ 337.643d, -23.226d ], ext = [ 1.064d ], logL = -13186.234, dlogL = 2.025"
       ]
      },
      {
       "output_type": "stream",
       "stream": "stdout",
       "text": [
        "\n",
        "center = [ 337.643d, -23.226d ], ext = [ 1.059d ], logL = -13185.925, dlogL = 2.334"
       ]
      },
      {
       "output_type": "stream",
       "stream": "stdout",
       "text": [
        "\n",
        "center = [ 337.643d, -23.226d ], ext = [ 1.058d ], logL = -13185.835, dlogL = 2.424"
       ]
      },
      {
       "output_type": "stream",
       "stream": "stdout",
       "text": [
        "\n",
        "center = [ 337.643d, -23.226d ], ext = [ 1.057d ], logL = -13185.822, dlogL = 2.437"
       ]
      },
      {
       "output_type": "stream",
       "stream": "stdout",
       "text": [
        "\n",
        "center = [ 337.643d, -23.226d ], ext = [ 0.949d ], logL = -13201.271, dlogL = -13.012"
       ]
      },
      {
       "output_type": "stream",
       "stream": "stdout",
       "text": [
        "\n",
        "center = [ 337.643d, -23.226d ], ext = [ 0.994d ], logL = -13189.243, dlogL = -0.984"
       ]
      },
      {
       "output_type": "stream",
       "stream": "stdout",
       "text": [
        "\n",
        "center = [ 337.643d, -23.226d ], ext = [ 1.007d ], logL = -13187.322, dlogL = 0.937"
       ]
      },
      {
       "output_type": "stream",
       "stream": "stdout",
       "text": [
        "\n",
        "center = [ 337.643d, -23.226d ], ext = [ 1.017d ], logL = -13186.266, dlogL = 1.993"
       ]
      },
      {
       "output_type": "stream",
       "stream": "stdout",
       "text": [
        "\n",
        "center = [ 337.643d, -23.226d ], ext = [ 1.021d ], logL = -13185.938, dlogL = 2.321"
       ]
      },
      {
       "output_type": "stream",
       "stream": "stdout",
       "text": [
        "\n",
        "center = [ 337.643d, -23.226d ], ext = [ 1.023d ], logL = -13185.838, dlogL = 2.421"
       ]
      },
      {
       "output_type": "stream",
       "stream": "stdout",
       "text": [
        "\n",
        "center = [ 337.643d, -23.226d ], ext = [ 1.023d ], logL = -13185.822, dlogL = 2.437"
       ]
      },
      {
       "output_type": "stream",
       "stream": "stdout",
       "text": [
        "\n",
        "setting source to best fit parameters\n",
        "center = [ 337.643d, -23.226d ], ext = [ 1.040d ], logL = -13185.321, dlogL = 2.938"
       ]
      },
      {
       "output_type": "stream",
       "stream": "stdout",
       "text": [
        "\n"
       ]
      },
      {
       "output_type": "pyout",
       "prompt_number": 17,
       "text": [
        "(SkyDir(337.643,-23.226), 0, 0.005072824632821416, 5.8752894736680901)"
       ]
      }
     ],
     "prompt_number": 17
    },
    {
     "cell_type": "markdown",
     "metadata": {},
     "source": [
      "The best-fit spatial model is:"
     ]
    },
    {
     "cell_type": "code",
     "collapsed": false,
     "input": [
      "print roi.get_source('ext').spatial_model"
     ],
     "language": "python",
     "metadata": {},
     "outputs": [
      {
       "output_type": "stream",
       "stream": "stdout",
       "text": [
        "The history saving thread hit an unexpected error (DatabaseError('database disk image is malformed',)).History will not be written to the database.\n",
        "RA        : 337.6 +/- 0.0194\n",
        "DEC       : -23.23 +/- 0.0194\n",
        "Sigma     : (1 + 0.017 - 0.016) (avg = 0.016) 1.04"
       ]
      },
      {
       "output_type": "stream",
       "stream": "stdout",
       "text": [
        "\n"
       ]
      }
     ],
     "prompt_number": 19
    },
    {
     "cell_type": "markdown",
     "metadata": {},
     "source": [
      "We can also compute extension significance using $\\text{TS}_\\text{ext}$:"
     ]
    },
    {
     "cell_type": "code",
     "collapsed": false,
     "input": [
      "ts_ext = roi.TS_ext(which='ext')"
     ],
     "language": "python",
     "metadata": {},
     "outputs": [
      {
       "output_type": "stream",
       "stream": "stdout",
       "text": [
        "...convolving band  1/ 8"
       ]
      },
      {
       "output_type": "stream",
       "stream": "stdout",
       "text": [
        " \b\b\b\b\b\b\b\b\b\b\b\b\b\b\b\b\b\b\b\b\b\b\b\b\b\b"
       ]
      },
      {
       "output_type": "stream",
       "stream": "stdout",
       "text": [
        " ...convolving band  2/ 8"
       ]
      },
      {
       "output_type": "stream",
       "stream": "stdout",
       "text": [
        " \b\b\b\b\b\b\b\b\b\b\b\b\b\b\b\b\b\b\b\b\b\b\b\b\b\b"
       ]
      },
      {
       "output_type": "stream",
       "stream": "stdout",
       "text": [
        " ...convolving band  3/ 8"
       ]
      },
      {
       "output_type": "stream",
       "stream": "stdout",
       "text": [
        " \b\b\b\b\b\b\b\b\b\b\b\b\b\b\b\b\b\b\b\b\b\b\b\b\b\b"
       ]
      },
      {
       "output_type": "stream",
       "stream": "stdout",
       "text": [
        " ...convolving band  4/ 8"
       ]
      },
      {
       "output_type": "stream",
       "stream": "stdout",
       "text": [
        " \b\b\b\b\b\b\b\b\b\b\b\b\b\b\b\b\b\b\b\b\b\b\b\b\b\b"
       ]
      },
      {
       "output_type": "stream",
       "stream": "stdout",
       "text": [
        " ...convolving band  5/ 8"
       ]
      },
      {
       "output_type": "stream",
       "stream": "stdout",
       "text": [
        " \b\b\b\b\b\b\b\b\b\b\b\b\b\b\b\b\b\b\b\b\b\b\b\b\b\b"
       ]
      },
      {
       "output_type": "stream",
       "stream": "stdout",
       "text": [
        " ...convolving band  6/ 8"
       ]
      },
      {
       "output_type": "stream",
       "stream": "stdout",
       "text": [
        " \b\b\b\b\b\b\b\b\b\b\b\b\b\b\b\b\b\b\b\b\b\b\b\b\b\b"
       ]
      },
      {
       "output_type": "stream",
       "stream": "stdout",
       "text": [
        " ...convolving band  7/ 8"
       ]
      },
      {
       "output_type": "stream",
       "stream": "stdout",
       "text": [
        " \b\b\b\b\b\b\b\b\b\b\b\b\b\b\b\b\b\b\b\b\b\b\b\b\b\b"
       ]
      },
      {
       "output_type": "stream",
       "stream": "stdout",
       "text": [
        " ...convolving band  8/ 8"
       ]
      },
      {
       "output_type": "stream",
       "stream": "stdout",
       "text": [
        " \b\b\b\b\b\b\b\b\b\b\b\b\b\b\b\b\b\b\b\b\b\b\b\b\b\b"
       ]
      },
      {
       "output_type": "stream",
       "stream": "stdout",
       "text": [
        "\n",
        "Refitting position for the null hypothesis\n",
        ".....performing likelihood maximization... "
       ]
      },
      {
       "output_type": "stream",
       "stream": "stdout",
       "text": [
        "Function value at minimum: 14068.184\n",
        "Attempting to invert full hessian..."
       ]
      },
      {
       "output_type": "stream",
       "stream": "stdout",
       "text": [
        "\n",
        "Localizing Disk source ext Using Spectral Fits"
       ]
      },
      {
       "output_type": "stream",
       "stream": "stdout",
       "text": [
        "\n",
        "center = [ 337.643d, -23.226d ], ext = [ 0.000d ], logL = -14068.184, dlogL = 0.000"
       ]
      },
      {
       "output_type": "stream",
       "stream": "stdout",
       "text": [
        "\n",
        "center = [ 337.643d, -23.226d ], ext = [ 0.000d ], logL = -14068.184, dlogL = 0.000"
       ]
      },
      {
       "output_type": "stream",
       "stream": "stdout",
       "text": [
        "\n",
        "center = [ 337.752d, -23.226d ], ext = [ 0.000d ], logL = -14077.101, dlogL = -8.917"
       ]
      },
      {
       "output_type": "stream",
       "stream": "stdout",
       "text": [
        "\n",
        "center = [ 337.600d, -23.226d ], ext = [ 0.000d ], logL = -14067.481, dlogL = 0.703"
       ]
      },
      {
       "output_type": "stream",
       "stream": "stdout",
       "text": [
        "\n",
        "center = [ 337.470d, -23.226d ], ext = [ 0.000d ], logL = -14072.946, dlogL = -4.762"
       ]
      },
      {
       "output_type": "stream",
       "stream": "stdout",
       "text": [
        "\n",
        "center = [ 337.600d, -23.126d ], ext = [ 0.000d ], logL = -14067.353, dlogL = 0.831"
       ]
      },
      {
       "output_type": "stream",
       "stream": "stdout",
       "text": [
        "\n",
        "center = [ 337.600d, -22.836d ], ext = [ 0.000d ], logL = -14108.545, dlogL = -40.361"
       ]
      },
      {
       "output_type": "stream",
       "stream": "stdout",
       "text": [
        "\n",
        "center = [ 337.557d, -23.126d ], ext = [ 0.000d ], logL = -14068.714, dlogL = -0.530"
       ]
      },
      {
       "output_type": "stream",
       "stream": "stdout",
       "text": [
        "\n",
        "center = [ 337.622d, -23.201d ], ext = [ 0.000d ], logL = -14067.001, dlogL = 1.184"
       ]
      },
      {
       "output_type": "stream",
       "stream": "stdout",
       "text": [
        "\n",
        "center = [ 337.622d, -23.101d ], ext = [ 0.000d ], logL = -14068.462, dlogL = -0.278"
       ]
      },
      {
       "output_type": "stream",
       "stream": "stdout",
       "text": [
        "\n",
        "center = [ 337.605d, -23.195d ], ext = [ 0.000d ], logL = -14066.857, dlogL = 1.327"
       ]
      },
      {
       "output_type": "stream",
       "stream": "stdout",
       "text": [
        "\n",
        "center = [ 337.627d, -23.270d ], ext = [ 0.000d ], logL = -14068.747, dlogL = -0.562"
       ]
      },
      {
       "output_type": "stream",
       "stream": "stdout",
       "text": [
        "\n",
        "center = [ 337.607d, -23.162d ], ext = [ 0.000d ], logL = -14066.573, dlogL = 1.611"
       ]
      },
      {
       "output_type": "stream",
       "stream": "stdout",
       "text": [
        "\n",
        "center = [ 337.590d, -23.156d ], ext = [ 0.000d ], logL = -14066.885, dlogL = 1.299"
       ]
      },
      {
       "output_type": "stream",
       "stream": "stdout",
       "text": [
        "\n",
        "center = [ 337.598d, -23.167d ], ext = [ 0.000d ], logL = -14066.681, dlogL = 1.503"
       ]
      },
      {
       "output_type": "stream",
       "stream": "stdout",
       "text": [
        "\n",
        "center = [ 337.600d, -23.134d ], ext = [ 0.000d ], logL = -14067.098, dlogL = 1.086"
       ]
      },
      {
       "output_type": "stream",
       "stream": "stdout",
       "text": [
        "\n",
        "center = [ 337.604d, -23.180d ], ext = [ 0.000d ], logL = -14066.663, dlogL = 1.521"
       ]
      },
      {
       "output_type": "stream",
       "stream": "stdout",
       "text": [
        "\n",
        "center = [ 337.612d, -23.174d ], ext = [ 0.000d ], logL = -14066.553, dlogL = 1.631"
       ]
      },
      {
       "output_type": "stream",
       "stream": "stdout",
       "text": [
        "\n",
        "center = [ 337.619d, -23.178d ], ext = [ 0.000d ], logL = -14066.574, dlogL = 1.610"
       ]
      },
      {
       "output_type": "stream",
       "stream": "stdout",
       "text": [
        "\n",
        "center = [ 337.615d, -23.157d ], ext = [ 0.000d ], logL = -14066.536, dlogL = 1.648"
       ]
      },
      {
       "output_type": "stream",
       "stream": "stdout",
       "text": [
        "\n",
        "center = [ 337.621d, -23.145d ], ext = [ 0.000d ], logL = -14066.672, dlogL = 1.512"
       ]
      },
      {
       "output_type": "stream",
       "stream": "stdout",
       "text": [
        "\n",
        "center = [ 337.621d, -23.169d ], ext = [ 0.000d ], logL = -14066.507, dlogL = 1.677"
       ]
      },
      {
       "output_type": "stream",
       "stream": "stdout",
       "text": [
        "\n",
        "center = [ 337.628d, -23.173d ], ext = [ 0.000d ], logL = -14066.564, dlogL = 1.620"
       ]
      },
      {
       "output_type": "stream",
       "stream": "stdout",
       "text": [
        "\n",
        "center = [ 337.618d, -23.163d ], ext = [ 0.000d ], logL = -14066.499, dlogL = 1.685"
       ]
      },
      {
       "output_type": "stream",
       "stream": "stdout",
       "text": [
        "\n",
        "center = [ 337.618d, -23.163d ], ext = [ 0.000d ], logL = -14066.499, dlogL = 1.685"
       ]
      },
      {
       "output_type": "stream",
       "stream": "stdout",
       "text": [
        "\n",
        "setting source to best fit parameters\n",
        "center = [ 337.618d, -23.163d ], ext = [ 0.000d ], logL = -14066.499, dlogL = 1.685"
       ]
      },
      {
       "output_type": "stream",
       "stream": "stdout",
       "text": [
        "\n",
        "Redoing spectral fit in the null hypothesis"
       ]
      },
      {
       "output_type": "stream",
       "stream": "stdout",
       "text": [
        "\n",
        ".....performing likelihood maximization... "
       ]
      },
      {
       "output_type": "stream",
       "stream": "stdout",
       "text": [
        "Function value at minimum: 14066.499\n",
        "Attempting to invert full hessian..."
       ]
      },
      {
       "output_type": "stream",
       "stream": "stdout",
       "text": [
        "\n",
        "...convolving band  1/ 8"
       ]
      },
      {
       "output_type": "stream",
       "stream": "stdout",
       "text": [
        " \b\b\b\b\b\b\b\b\b\b\b\b\b\b\b\b\b\b\b\b\b\b\b\b\b\b"
       ]
      },
      {
       "output_type": "stream",
       "stream": "stdout",
       "text": [
        " ...convolving band  2/ 8"
       ]
      },
      {
       "output_type": "stream",
       "stream": "stdout",
       "text": [
        " \b\b\b\b\b\b\b\b\b\b\b\b\b\b\b\b\b\b\b\b\b\b\b\b\b\b"
       ]
      },
      {
       "output_type": "stream",
       "stream": "stdout",
       "text": [
        " ...convolving band  3/ 8"
       ]
      },
      {
       "output_type": "stream",
       "stream": "stdout",
       "text": [
        " \b\b\b\b\b\b\b\b\b\b\b\b\b\b\b\b\b\b\b\b\b\b\b\b\b\b"
       ]
      },
      {
       "output_type": "stream",
       "stream": "stdout",
       "text": [
        " ...convolving band  4/ 8"
       ]
      },
      {
       "output_type": "stream",
       "stream": "stdout",
       "text": [
        " \b\b\b\b\b\b\b\b\b\b\b\b\b\b\b\b\b\b\b\b\b\b\b\b\b\b"
       ]
      },
      {
       "output_type": "stream",
       "stream": "stdout",
       "text": [
        " ...convolving band  5/ 8"
       ]
      },
      {
       "output_type": "stream",
       "stream": "stdout",
       "text": [
        " \b\b\b\b\b\b\b\b\b\b\b\b\b\b\b\b\b\b\b\b\b\b\b\b\b\b"
       ]
      },
      {
       "output_type": "stream",
       "stream": "stdout",
       "text": [
        " ...convolving band  6/ 8"
       ]
      },
      {
       "output_type": "stream",
       "stream": "stdout",
       "text": [
        " \b\b\b\b\b\b\b\b\b\b\b\b\b\b\b\b\b\b\b\b\b\b\b\b\b\b"
       ]
      },
      {
       "output_type": "stream",
       "stream": "stdout",
       "text": [
        " ...convolving band  7/ 8"
       ]
      },
      {
       "output_type": "stream",
       "stream": "stdout",
       "text": [
        " \b\b\b\b\b\b\b\b\b\b\b\b\b\b\b\b\b\b\b\b\b\b\b\b\b\b"
       ]
      },
      {
       "output_type": "stream",
       "stream": "stdout",
       "text": [
        " ...convolving band  8/ 8"
       ]
      },
      {
       "output_type": "stream",
       "stream": "stdout",
       "text": [
        " \b\b\b\b\b\b\b\b\b\b\b\b\b\b\b\b\b\b\b\b\b\b\b\b\b\b"
       ]
      },
      {
       "output_type": "stream",
       "stream": "stdout",
       "text": [
        "\n",
        "Attempting to invert full hessian..."
       ]
      },
      {
       "output_type": "stream",
       "stream": "stdout",
       "text": [
        "\n"
       ]
      }
     ],
     "prompt_number": 20
    },
    {
     "cell_type": "code",
     "collapsed": false,
     "input": [
      "print ts_ext"
     ],
     "language": "python",
     "metadata": {},
     "outputs": [
      {
       "output_type": "stream",
       "stream": "stdout",
       "text": [
        "1762.35609947\n"
       ]
      }
     ],
     "prompt_number": 21
    },
    {
     "cell_type": "markdown",
     "metadata": {},
     "source": [
      "# SED Plots"
     ]
    },
    {
     "cell_type": "markdown",
     "metadata": {},
     "source": [
      "We can compute the an SED for the sources. An 'SED' plot is a spectral energy distribution."
     ]
    },
    {
     "cell_type": "code",
     "collapsed": false,
     "input": [
      "from lande.fermi.spectra.pointlike import PointlikeSED\n",
      "sed1 = PointlikeSED(roi, name='ps')\n",
      "sed2 = PointlikeSED(roi, name='ext')\n",
      "axes=sed1.plot(spectral_kwargs=dict(color='red'), spectral_error_kwargs=dict(color='red'))\n",
      "sed2.plot(axes=axes,  spectral_kwargs=dict(color='blue'), spectral_error_kwargs=dict(color='blue'))"
     ],
     "language": "python",
     "metadata": {},
     "outputs": [
      {
       "output_type": "pyout",
       "prompt_number": 30,
       "text": [
        "<lande.fermi.likelihood.specplot.SpectralAxes at 0x8a32790>"
       ]
      },
      {
       "output_type": "display_data",
       "png": "[encoded data removed]"
      }
     ],
     "prompt_number": 30
    },
    {
     "cell_type": "markdown",
     "metadata": {},
     "source": [
      "What is nice about this code is that the output format is just a YAML dictionary which can be easly loaded later."
     ]
    },
    {
     "cell_type": "code",
     "collapsed": false,
     "input": [
      "sedfile = join(savedir, 'sed_ps.yaml')\n",
      "sed1.save(sedfile)"
     ],
     "language": "python",
     "metadata": {},
     "outputs": [],
     "prompt_number": 33
    },
    {
     "cell_type": "markdown",
     "metadata": {},
     "source": [
      "Note that the file format is very simple and portable"
     ]
    },
    {
     "cell_type": "code",
     "collapsed": false,
     "input": [
      "print open(sedfile).read()"
     ],
     "language": "python",
     "metadata": {},
     "outputs": [
      {
       "output_type": "stream",
       "stream": "stdout",
       "text": [
        "Energy:\n",
        "  Lower: [1000.0, 3162.2776601683795, 10000.0, 31622.776601683792]\n",
        "  Units: MeV\n",
        "  Upper: [3162.2776601683795, 10000.0, 31622.776601683792, 100000.0]\n",
        "  Value: [1778.2794100389228, 5623.413251903491, 17782.794100389227, 56234.13251903491]\n",
        "Significant: [true, true, true, false]\n",
        "dNdE:\n",
        "  Average_Error: [9.85098033687854e-06, 1.160769189640937e-06, 1.31729202377583e-07,\n",
        "    .nan]\n",
        "  Lower_Error: [9.85098033687855e-06, 1.1607691896409366e-06, 1.31729202377583e-07,\n",
        "    .nan]\n",
        "  Units: ph/cm^2/s/erg\n",
        "  Upper_Error: [9.85098033687853e-06, 1.1607691896409377e-06, 1.31729202377583e-07,\n",
        "    .nan]\n",
        "  Upper_Limit: [.nan, .nan, .nan, 6.731633401262103e-08]\n",
        "  Value: [0.0001313789329069429, 7.39275803235696e-06, 3.255407201953549e-07, .nan]\n",
        "spectrum:\n",
        "  Index: 2.584093935456502\n",
        "  Index_err: 0.11311632883506464\n",
        "  Norm: 8.782825309986602e-10\n",
        "  Norm_err: 9.084397613498932e-11\n",
        "  covariance_matrix:\n",
        "  - [8.25262800001451e-21, 7.830086149938147e-12]\n",
        "  - [7.830086149938147e-12, 0.012795303849122476]\n",
        "  e0: 1000.0\n",
        "  method: pointlike\n",
        "  name: PowerLaw\n",
        "\n"
       ]
      }
     ],
     "prompt_number": 34
    },
    {
     "cell_type": "markdown",
     "metadata": {},
     "source": [
      "# Iterative analysis in pointlike"
     ]
    },
    {
     "cell_type": "markdown",
     "metadata": {},
     "source": [
      "One of the primary benefits of pointlike is the ability to perform fast iterative analyses. This is often necessary to repidly improve the model of the sky."
     ]
    },
    {
     "cell_type": "code",
     "collapsed": false,
     "input": [
      "savename = join(savedir, 'roi.dat')\n",
      "roi.save('roi.dat')"
     ],
     "language": "python",
     "metadata": {},
     "outputs": [],
     "prompt_number": 35
    },
    {
     "cell_type": "code",
     "collapsed": false,
     "input": [
      "from uw.like.roi_save import load\n",
      "\n",
      "roi = load('roi.dat')"
     ],
     "language": "python",
     "metadata": {},
     "outputs": [
      {
       "output_type": "stream",
       "stream": "stdout",
       "text": [
        "Using gti from /u/gl/lande/temp/ltcube.fits\n",
        "loaded LivetimeCube /u/gl/lande/temp/ltcube.fits "
       ]
      },
      {
       "output_type": "stream",
       "stream": "stdout",
       "text": [
        "\n",
        "loaded LivetimeCube /u/gl/lande/temp/ltcube.fits "
       ]
      },
      {
       "output_type": "stream",
       "stream": "stdout",
       "text": [
        "\n",
        ".....loading binfile /u/gl/lande/temp/binned.fits ... found 8 bands, energies 1000-100000 MeV\n",
        ".....setting up point sources (1 in ROI)..."
       ]
      },
      {
       "output_type": "stream",
       "stream": "stdout",
       "text": [
        " done!\n",
        ".....setting up diffuse/extended backgrounds for 8 bands...\n",
        ".......... ext"
       ]
      },
      {
       "output_type": "stream",
       "stream": "stdout",
       "text": [
        " ...convolving band  1/ 8"
       ]
      },
      {
       "output_type": "stream",
       "stream": "stdout",
       "text": [
        " \b\b\b\b\b\b\b\b\b\b\b\b\b\b\b\b\b\b\b\b\b\b\b\b\b\b"
       ]
      },
      {
       "output_type": "stream",
       "stream": "stdout",
       "text": [
        " ...convolving band  2/ 8"
       ]
      },
      {
       "output_type": "stream",
       "stream": "stdout",
       "text": [
        " \b\b\b\b\b\b\b\b\b\b\b\b\b\b\b\b\b\b\b\b\b\b\b\b\b\b"
       ]
      },
      {
       "output_type": "stream",
       "stream": "stdout",
       "text": [
        " ...convolving band  3/ 8"
       ]
      },
      {
       "output_type": "stream",
       "stream": "stdout",
       "text": [
        " \b\b\b\b\b\b\b\b\b\b\b\b\b\b\b\b\b\b\b\b\b\b\b\b\b\b"
       ]
      },
      {
       "output_type": "stream",
       "stream": "stdout",
       "text": [
        " ...convolving band  4/ 8"
       ]
      },
      {
       "output_type": "stream",
       "stream": "stdout",
       "text": [
        " \b\b\b\b\b\b\b\b\b\b\b\b\b\b\b\b\b\b\b\b\b\b\b\b\b\b"
       ]
      },
      {
       "output_type": "stream",
       "stream": "stdout",
       "text": [
        " ...convolving band  5/ 8"
       ]
      },
      {
       "output_type": "stream",
       "stream": "stdout",
       "text": [
        " \b\b\b\b\b\b\b\b\b\b\b\b\b\b\b\b\b\b\b\b\b\b\b\b\b\b"
       ]
      },
      {
       "output_type": "stream",
       "stream": "stdout",
       "text": [
        " ...convolving band  6/ 8"
       ]
      },
      {
       "output_type": "stream",
       "stream": "stdout",
       "text": [
        " \b\b\b\b\b\b\b\b\b\b\b\b\b\b\b\b\b\b\b\b\b\b\b\b\b\b"
       ]
      },
      {
       "output_type": "stream",
       "stream": "stdout",
       "text": [
        " ...convolving band  7/ 8"
       ]
      },
      {
       "output_type": "stream",
       "stream": "stdout",
       "text": [
        " \b\b\b\b\b\b\b\b\b\b\b\b\b\b\b\b\b\b\b\b\b\b\b\b\b\b"
       ]
      },
      {
       "output_type": "stream",
       "stream": "stdout",
       "text": [
        " ...convolving band  8/ 8"
       ]
      },
      {
       "output_type": "stream",
       "stream": "stdout",
       "text": [
        " \b\b\b\b\b\b\b\b\b\b\b\b\b\b\b\b\b\b\b\b\b\b\b\b\b\b"
       ]
      },
      {
       "output_type": "stream",
       "stream": "stdout",
       "text": [
        "\n",
        ".......... Sreekumar Isotropic x100"
       ]
      },
      {
       "output_type": "stream",
       "stream": "stdout",
       "text": [
        " ...convolving band  1/ 8"
       ]
      },
      {
       "output_type": "stream",
       "stream": "stdout",
       "text": [
        " \b\b\b\b\b\b\b\b\b\b\b\b\b\b\b\b\b\b\b\b\b\b\b\b\b\b"
       ]
      },
      {
       "output_type": "stream",
       "stream": "stdout",
       "text": [
        " ...convolving band  2/ 8"
       ]
      },
      {
       "output_type": "stream",
       "stream": "stdout",
       "text": [
        " \b\b\b\b\b\b\b\b\b\b\b\b\b\b\b\b\b\b\b\b\b\b\b\b\b\b"
       ]
      },
      {
       "output_type": "stream",
       "stream": "stdout",
       "text": [
        " ...convolving band  3/ 8"
       ]
      },
      {
       "output_type": "stream",
       "stream": "stdout",
       "text": [
        " \b\b\b\b\b\b\b\b\b\b\b\b\b\b\b\b\b\b\b\b\b\b\b\b\b\b"
       ]
      },
      {
       "output_type": "stream",
       "stream": "stdout",
       "text": [
        " ...convolving band  4/ 8"
       ]
      },
      {
       "output_type": "stream",
       "stream": "stdout",
       "text": [
        " \b\b\b\b\b\b\b\b\b\b\b\b\b\b\b\b\b\b\b\b\b\b\b\b\b\b"
       ]
      },
      {
       "output_type": "stream",
       "stream": "stdout",
       "text": [
        " ...convolving band  5/ 8"
       ]
      },
      {
       "output_type": "stream",
       "stream": "stdout",
       "text": [
        " \b\b\b\b\b\b\b\b\b\b\b\b\b\b\b\b\b\b\b\b\b\b\b\b\b\b"
       ]
      },
      {
       "output_type": "stream",
       "stream": "stdout",
       "text": [
        " ...convolving band  6/ 8"
       ]
      },
      {
       "output_type": "stream",
       "stream": "stdout",
       "text": [
        " \b\b\b\b\b\b\b\b\b\b\b\b\b\b\b\b\b\b\b\b\b\b\b\b\b\b"
       ]
      },
      {
       "output_type": "stream",
       "stream": "stdout",
       "text": [
        " ...convolving band  7/ 8"
       ]
      },
      {
       "output_type": "stream",
       "stream": "stdout",
       "text": [
        " \b\b\b\b\b\b\b\b\b\b\b\b\b\b\b\b\b\b\b\b\b\b\b\b\b\b"
       ]
      },
      {
       "output_type": "stream",
       "stream": "stdout",
       "text": [
        " ...convolving band  8/ 8"
       ]
      },
      {
       "output_type": "stream",
       "stream": "stdout",
       "text": [
        " \b\b\b\b\b\b\b\b\b\b\b\b\b\b\b\b\b\b\b\b\b\b\b\b\b\b"
       ]
      },
      {
       "output_type": "stream",
       "stream": "stdout",
       "text": [
        "\n"
       ]
      }
     ],
     "prompt_number": 36
    },
    {
     "cell_type": "markdown",
     "metadata": {},
     "source": [
      "Remove a source from the ROI"
     ]
    },
    {
     "cell_type": "code",
     "collapsed": false,
     "input": [
      "ps = roi.del_source(which='ps')"
     ],
     "language": "python",
     "metadata": {},
     "outputs": [
      {
       "output_type": "stream",
       "stream": "stdout",
       "text": [
        ".....setting up point sources (0 in ROI)... done!\n"
       ]
      }
     ],
     "prompt_number": 37
    },
    {
     "cell_type": "markdown",
     "metadata": {},
     "source": [
      "Add the source to the ROI"
     ]
    },
    {
     "cell_type": "code",
     "collapsed": false,
     "input": [
      "roi.add_source(ps)"
     ],
     "language": "python",
     "metadata": {},
     "outputs": [
      {
       "output_type": "stream",
       "stream": "stdout",
       "text": [
        ".....setting up point sources (1 in ROI)... done!\n"
       ]
      }
     ],
     "prompt_number": 38
    },
    {
     "cell_type": "markdown",
     "metadata": {},
     "source": [
      "Changing the spectral model:"
     ]
    },
    {
     "cell_type": "code",
     "collapsed": false,
     "input": [
      "from uw.like.Models import BrokenPowerLaw\n",
      "roi.modify(which='ext', model=BrokenPowerLaw(index_1=1, index_2=3, e_break=10000))\n",
      "sed = PointlikeSED(roi, name='ext')\n",
      "sed.plot()"
     ],
     "language": "python",
     "metadata": {},
     "outputs": [
      {
       "output_type": "pyout",
       "prompt_number": 53,
       "text": [
        "<lande.fermi.likelihood.specplot.SpectralAxes at 0xc99e450>"
       ]
      },
      {
       "output_type": "display_data",
       "png": "[encoded data removed]"
      }
     ],
     "prompt_number": 53
    },
    {
     "cell_type": "markdown",
     "metadata": {},
     "source": [
      "# Making plots"
     ]
    },
    {
     "cell_type": "markdown",
     "metadata": {},
     "source": [
      "It is easy to make counts and test statistic maps to inspect a region of interest."
     ]
    },
    {
     "cell_type": "code",
     "collapsed": false,
     "input": [
      "roi.plot_counts_map(size=5, figsize=(10,10))"
     ],
     "language": "python",
     "metadata": {},
     "outputs": [
      {
       "output_type": "pyout",
       "prompt_number": 50,
       "text": [
        "<uw.like.mapplots.ROIDisplay at 0xb197950>"
       ]
      },
      {
       "output_type": "display_data",
       "png": "[encoded data removed]"
      }
     ],
     "prompt_number": 50
    },
    {
     "cell_type": "code",
     "collapsed": false,
     "input": [
      "roi.plot_sources(figsize=(6,6), size=5)"
     ],
     "language": "python",
     "metadata": {},
     "outputs": [
      {
       "output_type": "pyout",
       "prompt_number": 51,
       "text": [
        "<uw.like.mapplots.ROISmoothedSources at 0xb177910>"
       ]
      },
      {
       "output_type": "display_data",
       "png": "[encoded data removed]"
      }
     ]
    },
    {
     "cell_type": "code",
     "collapsed": false,
     "input": [
      "roi.plot_tsmap(pixelsize=0.5, size=4)"
     ],
     "language": "python",
     "metadata": {},
     "outputs": [
      {
       "output_type": "pyout",
       "prompt_number": 57,
       "text": [
        "<uw.like.mapplots.ROITSMapPlotter at 0xd0ef410>"
       ]
      },
      {
       "output_type": "display_data",
       "png": "[encoded data removed]"
      }
     ],
     "prompt_number": 57
    },
    {
     "cell_type": "markdown",
     "metadata": {},
     "source": [
      "# Extended Source Analysis in pointlike"
     ]
    },
    {
     "cell_type": "markdown",
     "metadata": {},
     "source": [
      "In <a href=\"http://arxiv.org/abs/1207.0027\">Lande et al 2012</a>, I studied spatially-extended LAT sources.\n",
      "\n",
      "I devloped a detailed Monte-Carlo simulation to demonstrate the effecacy of htis tool.\n",
      "\n",
      "<img src=\"files/pointlike_description/ts_ext_cdf.jpg\">\n",
      "\n",
      "I then ran a search for new spatially-extended sources. This search increased the number of extended LAT soruces from 14 to 21.\n",
      "\n",
      "Here is a map in the sky of all spatially-extended sources\n",
      "\n",
      "<img src=\"files/pointlike_description/allsky_extended_sources_color-580x356.jpg\">\n",
      "\n",
      "And here is plots of three sources we found:\n",
      "\n",
      "<img src=\"files/pointlike_description/rx_j1713.jpg\">\n",
      "\n",
      "\n",
      "<img src=\"files/pointlike_description/hess_j1614_j1616.jpg\">\n",
      "\n",
      "<img src=\"files/pointlike_description/spectra.jpg\">"
     ]
    }
   ],
   "metadata": {}
  }
 ]
}