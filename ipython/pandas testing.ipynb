{
 "metadata": {
  "name": "pandas testing"
 },
 "nbformat": 3,
 "nbformat_minor": 0,
 "worksheets": [
  {
   "cells": [
    {
     "cell_type": "markdown",
     "metadata": {},
     "source": [
      "# Pandas notes\n",
      "\n",
      "I am following chapter 5 in \"Python for Data Analysis\" by Mckinney 2012."
     ]
    },
    {
     "cell_type": "markdown",
     "metadata": {},
     "source": [
      "How to import pandas"
     ]
    },
    {
     "cell_type": "code",
     "collapsed": false,
     "input": [
      "from pandas import Series, DataFrame\n",
      "import pandas as pd"
     ],
     "language": "python",
     "metadata": {},
     "outputs": [],
     "prompt_number": 46
    },
    {
     "cell_type": "markdown",
     "metadata": {},
     "source": [
      "# Series\n",
      "\n",
      "Series are one of the basic building blocks:"
     ]
    },
    {
     "cell_type": "code",
     "collapsed": false,
     "input": [
      "obj = Series([4, 7, -5, 3])\n",
      "print obj"
     ],
     "language": "python",
     "metadata": {},
     "outputs": [
      {
       "output_type": "stream",
       "stream": "stdout",
       "text": [
        "0    4\n",
        "1    7\n",
        "2   -5\n",
        "3    3\n"
       ]
      }
     ],
     "prompt_number": 47
    },
    {
     "cell_type": "markdown",
     "metadata": {},
     "source": [
      "You can create a serires with indexes identifying data"
     ]
    },
    {
     "cell_type": "code",
     "collapsed": false,
     "input": [
      "obj = Series([4, 7, -5, 3], index=['dog','cat','pig','mouse'])\n",
      "print obj"
     ],
     "language": "python",
     "metadata": {},
     "outputs": [
      {
       "output_type": "stream",
       "stream": "stdout",
       "text": [
        "dog      4\n",
        "cat      7\n",
        "pig     -5\n",
        "mouse    3\n"
       ]
      }
     ],
     "prompt_number": 48
    },
    {
     "cell_type": "markdown",
     "metadata": {},
     "source": [
      "# DataFrame\n",
      "\n",
      "DataFrames are the other buiding block in pandas"
     ]
    },
    {
     "cell_type": "code",
     "collapsed": false,
     "input": [
      "data = {'state': ['Ohio', 'Ohio', 'Ohio', 'Nevada', 'Nevada'], \n",
      "        'year': [2000, 2001, 2002, 2001, 2002],\n",
      "        'pop': [1.5, 1.7, 3.6, 2.4, 2.9]}\n",
      "frame = DataFrame(data, columns=['year', 'state', 'pop', 'debt'],\n",
      "                   index=['one', 'two', 'three', 'four', 'five'])\n",
      "print frame"
     ],
     "language": "python",
     "metadata": {},
     "outputs": [
      {
       "output_type": "stream",
       "stream": "stdout",
       "text": [
        "       year   state  pop debt\n",
        "one    2000    Ohio  1.5  NaN\n",
        "two    2001    Ohio  1.7  NaN\n",
        "three  2002    Ohio  3.6  NaN\n",
        "four   2001  Nevada  2.4  NaN\n",
        "five   2002  Nevada  2.9  NaN\n"
       ]
      }
     ],
     "prompt_number": 49
    },
    {
     "cell_type": "markdown",
     "metadata": {},
     "source": [
      "It seems pretty easy to plot pandas DataFrames"
     ]
    },
    {
     "cell_type": "code",
     "collapsed": false,
     "input": [
      "pylab.plot(data['year'],data['pop'], marker='*', linestyle='none')"
     ],
     "language": "python",
     "metadata": {},
     "outputs": [
      {
       "output_type": "pyout",
       "prompt_number": 50,
       "text": [
        "[<matplotlib.lines.Line2D at 0x1058fa950>]"
       ]
      },
      {
       "output_type": "display_data",
       "png": "[encoded data removed]"
      }
     ],
     "prompt_number": 50
    },
    {
     "cell_type": "markdown",
     "metadata": {},
     "source": [
      "#Function application and mapping"
     ]
    },
    {
     "cell_type": "code",
     "collapsed": false,
     "input": [
      "frame = DataFrame(np.random.randn(4, 3), \n",
      "                  columns=list('bde'), \n",
      "                  index=['Utah', 'Ohio', 'Texas', 'Oregon'])"
     ],
     "language": "python",
     "metadata": {},
     "outputs": [],
     "prompt_number": 112
    },
    {
     "cell_type": "code",
     "collapsed": false,
     "input": [
      "frame"
     ],
     "language": "python",
     "metadata": {},
     "outputs": [
      {
       "html": [
        "<div style=\"max-height:1000px;max-width:1500px;overflow:auto;\">\n",
        "<table border=\"1\" class=\"dataframe\">\n",
        "  <thead>\n",
        "    <tr style=\"text-align: right;\">\n",
        "      <th></th>\n",
        "      <th>b</th>\n",
        "      <th>d</th>\n",
        "      <th>e</th>\n",
        "    </tr>\n",
        "  </thead>\n",
        "  <tbody>\n",
        "    <tr>\n",
        "      <th>Utah</th>\n",
        "      <td> 1.080468</td>\n",
        "      <td> 0.912116</td>\n",
        "      <td> 0.104063</td>\n",
        "    </tr>\n",
        "    <tr>\n",
        "      <th>Ohio</th>\n",
        "      <td>-1.481232</td>\n",
        "      <td>-0.881341</td>\n",
        "      <td>-0.785441</td>\n",
        "    </tr>\n",
        "    <tr>\n",
        "      <th>Texas</th>\n",
        "      <td> 0.077218</td>\n",
        "      <td> 0.652597</td>\n",
        "      <td> 0.404844</td>\n",
        "    </tr>\n",
        "    <tr>\n",
        "      <th>Oregon</th>\n",
        "      <td> 0.503232</td>\n",
        "      <td>-0.500831</td>\n",
        "      <td> 2.004975</td>\n",
        "    </tr>\n",
        "  </tbody>\n",
        "</table>\n",
        "</div>"
       ],
       "output_type": "pyout",
       "prompt_number": 116,
       "text": [
        "               b         d         e\n",
        "Utah    1.080468  0.912116  0.104063\n",
        "Ohio   -1.481232 -0.881341 -0.785441\n",
        "Texas   0.077218  0.652597  0.404844\n",
        "Oregon  0.503232 -0.500831  2.004975"
       ]
      }
     ],
     "prompt_number": 116
    },
    {
     "cell_type": "markdown",
     "metadata": {},
     "source": [
      "numpy ufuncs work on DataFrames:"
     ]
    },
    {
     "cell_type": "code",
     "collapsed": false,
     "input": [
      "np.abs(frame)"
     ],
     "language": "python",
     "metadata": {},
     "outputs": [
      {
       "html": [
        "<div style=\"max-height:1000px;max-width:1500px;overflow:auto;\">\n",
        "<table border=\"1\" class=\"dataframe\">\n",
        "  <thead>\n",
        "    <tr style=\"text-align: right;\">\n",
        "      <th></th>\n",
        "      <th>b</th>\n",
        "      <th>d</th>\n",
        "      <th>e</th>\n",
        "    </tr>\n",
        "  </thead>\n",
        "  <tbody>\n",
        "    <tr>\n",
        "      <th>Utah</th>\n",
        "      <td> 1.080468</td>\n",
        "      <td> 0.912116</td>\n",
        "      <td> 0.104063</td>\n",
        "    </tr>\n",
        "    <tr>\n",
        "      <th>Ohio</th>\n",
        "      <td> 1.481232</td>\n",
        "      <td> 0.881341</td>\n",
        "      <td> 0.785441</td>\n",
        "    </tr>\n",
        "    <tr>\n",
        "      <th>Texas</th>\n",
        "      <td> 0.077218</td>\n",
        "      <td> 0.652597</td>\n",
        "      <td> 0.404844</td>\n",
        "    </tr>\n",
        "    <tr>\n",
        "      <th>Oregon</th>\n",
        "      <td> 0.503232</td>\n",
        "      <td> 0.500831</td>\n",
        "      <td> 2.004975</td>\n",
        "    </tr>\n",
        "  </tbody>\n",
        "</table>\n",
        "</div>"
       ],
       "output_type": "pyout",
       "prompt_number": 117,
       "text": [
        "               b         d         e\n",
        "Utah    1.080468  0.912116  0.104063\n",
        "Ohio    1.481232  0.881341  0.785441\n",
        "Texas   0.077218  0.652597  0.404844\n",
        "Oregon  0.503232  0.500831  2.004975"
       ]
      }
     ],
     "prompt_number": 117
    },
    {
     "cell_type": "markdown",
     "metadata": {},
     "source": [
      "You can apply a function to a frame:"
     ]
    },
    {
     "cell_type": "code",
     "collapsed": false,
     "input": [
      "f = lambda x: x.max()-x.min()"
     ],
     "language": "python",
     "metadata": {},
     "outputs": [],
     "prompt_number": 118
    },
    {
     "cell_type": "code",
     "collapsed": false,
     "input": [
      "frame.apply(f)"
     ],
     "language": "python",
     "metadata": {},
     "outputs": [
      {
       "output_type": "pyout",
       "prompt_number": 119,
       "text": [
        "b    2.561700\n",
        "d    1.793458\n",
        "e    2.790417"
       ]
      }
     ],
     "prompt_number": 119
    },
    {
     "cell_type": "code",
     "collapsed": false,
     "input": [
      "frame.apply(f, axis=1)"
     ],
     "language": "python",
     "metadata": {},
     "outputs": [
      {
       "output_type": "pyout",
       "prompt_number": 120,
       "text": [
        "Utah      0.976405\n",
        "Ohio      0.695791\n",
        "Texas     0.575380\n",
        "Oregon    2.505807"
       ]
      }
     ],
     "prompt_number": 120
    },
    {
     "cell_type": "code",
     "collapsed": false,
     "input": [
      "functions can return a series to map a vector frame to a vector frame: "
     ],
     "language": "python",
     "metadata": {},
     "outputs": []
    },
    {
     "cell_type": "code",
     "collapsed": false,
     "input": [
      "def f(x):\n",
      "    return Series([x.min(), x.max()], index=['min', 'max'])"
     ],
     "language": "python",
     "metadata": {},
     "outputs": [],
     "prompt_number": 121
    },
    {
     "cell_type": "code",
     "collapsed": false,
     "input": [
      "frame.apply(f)"
     ],
     "language": "python",
     "metadata": {},
     "outputs": [
      {
       "html": [
        "<div style=\"max-height:1000px;max-width:1500px;overflow:auto;\">\n",
        "<table border=\"1\" class=\"dataframe\">\n",
        "  <thead>\n",
        "    <tr style=\"text-align: right;\">\n",
        "      <th></th>\n",
        "      <th>b</th>\n",
        "      <th>d</th>\n",
        "      <th>e</th>\n",
        "    </tr>\n",
        "  </thead>\n",
        "  <tbody>\n",
        "    <tr>\n",
        "      <th>min</th>\n",
        "      <td>-1.481232</td>\n",
        "      <td>-0.881341</td>\n",
        "      <td>-0.785441</td>\n",
        "    </tr>\n",
        "    <tr>\n",
        "      <th>max</th>\n",
        "      <td> 1.080468</td>\n",
        "      <td> 0.912116</td>\n",
        "      <td> 2.004975</td>\n",
        "    </tr>\n",
        "  </tbody>\n",
        "</table>\n",
        "</div>"
       ],
       "output_type": "pyout",
       "prompt_number": 122,
       "text": [
        "            b         d         e\n",
        "min -1.481232 -0.881341 -0.785441\n",
        "max  1.080468  0.912116  2.004975"
       ]
      }
     ],
     "prompt_number": 122
    },
    {
     "cell_type": "markdown",
     "metadata": {},
     "source": [
      "# Correlation and Covariance"
     ]
    },
    {
     "cell_type": "code",
     "collapsed": false,
     "input": [
      "import pandas.io.data as web\n",
      "all_data = {}\n",
      "for ticker in ['AAPL', 'IBM', 'MSFT', 'GOOG']:\n",
      "    all_data[ticker] = web.get_data_yahoo(ticker, '1/1/2000', '1/1/2010')\n",
      "    \n",
      "price = DataFrame({tic: data['Adj Close'] for tic, data in all_data.iteritems()})\n",
      "volume = DataFrame({tic: data['Volume'] for tic, data in all_data.iteritems()})"
     ],
     "language": "python",
     "metadata": {},
     "outputs": [],
     "prompt_number": 51
    },
    {
     "cell_type": "code",
     "collapsed": false,
     "input": [
      "price.tail() #  note, tail returns last n (default of 5) rows."
     ],
     "language": "python",
     "metadata": {},
     "outputs": [
      {
       "html": [
        "<div style=\"max-height:1000px;max-width:1500px;overflow:auto;\">\n",
        "<table border=\"1\" class=\"dataframe\">\n",
        "  <thead>\n",
        "    <tr style=\"text-align: right;\">\n",
        "      <th></th>\n",
        "      <th>AAPL</th>\n",
        "      <th>GOOG</th>\n",
        "      <th>IBM</th>\n",
        "      <th>MSFT</th>\n",
        "    </tr>\n",
        "    <tr>\n",
        "      <th>Date</th>\n",
        "      <th></th>\n",
        "      <th></th>\n",
        "      <th></th>\n",
        "      <th></th>\n",
        "    </tr>\n",
        "  </thead>\n",
        "  <tbody>\n",
        "    <tr>\n",
        "      <th>2009-12-24</th>\n",
        "      <td> 206.00</td>\n",
        "      <td> 618.48</td>\n",
        "      <td> 123.38</td>\n",
        "      <td> 28.53</td>\n",
        "    </tr>\n",
        "    <tr>\n",
        "      <th>2009-12-28</th>\n",
        "      <td> 208.53</td>\n",
        "      <td> 622.87</td>\n",
        "      <td> 125.03</td>\n",
        "      <td> 28.69</td>\n",
        "    </tr>\n",
        "    <tr>\n",
        "      <th>2009-12-29</th>\n",
        "      <td> 206.06</td>\n",
        "      <td> 619.40</td>\n",
        "      <td> 124.59</td>\n",
        "      <td> 28.89</td>\n",
        "    </tr>\n",
        "    <tr>\n",
        "      <th>2009-12-30</th>\n",
        "      <td> 208.56</td>\n",
        "      <td> 622.73</td>\n",
        "      <td> 125.27</td>\n",
        "      <td> 28.50</td>\n",
        "    </tr>\n",
        "    <tr>\n",
        "      <th>2009-12-31</th>\n",
        "      <td> 207.66</td>\n",
        "      <td> 619.98</td>\n",
        "      <td> 123.69</td>\n",
        "      <td> 28.05</td>\n",
        "    </tr>\n",
        "  </tbody>\n",
        "</table>\n",
        "</div>"
       ],
       "output_type": "pyout",
       "prompt_number": 52,
       "text": [
        "              AAPL    GOOG     IBM   MSFT\n",
        "Date                                     \n",
        "2009-12-24  206.00  618.48  123.38  28.53\n",
        "2009-12-28  208.53  622.87  125.03  28.69\n",
        "2009-12-29  206.06  619.40  124.59  28.89\n",
        "2009-12-30  208.56  622.73  125.27  28.50\n",
        "2009-12-31  207.66  619.98  123.69  28.05"
       ]
      }
     ],
     "prompt_number": 52
    },
    {
     "cell_type": "markdown",
     "metadata": {},
     "source": [
      "Compute percent change in price:"
     ]
    },
    {
     "cell_type": "code",
     "collapsed": false,
     "input": [
      "returns = price.pct_change() \n",
      "returns.tail()"
     ],
     "language": "python",
     "metadata": {},
     "outputs": [
      {
       "html": [
        "<div style=\"max-height:1000px;max-width:1500px;overflow:auto;\">\n",
        "<table border=\"1\" class=\"dataframe\">\n",
        "  <thead>\n",
        "    <tr style=\"text-align: right;\">\n",
        "      <th></th>\n",
        "      <th>AAPL</th>\n",
        "      <th>GOOG</th>\n",
        "      <th>IBM</th>\n",
        "      <th>MSFT</th>\n",
        "    </tr>\n",
        "    <tr>\n",
        "      <th>Date</th>\n",
        "      <th></th>\n",
        "      <th></th>\n",
        "      <th></th>\n",
        "      <th></th>\n",
        "    </tr>\n",
        "  </thead>\n",
        "  <tbody>\n",
        "    <tr>\n",
        "      <th>2009-12-24</th>\n",
        "      <td> 0.034344</td>\n",
        "      <td> 0.011117</td>\n",
        "      <td> 0.004396</td>\n",
        "      <td> 0.002460</td>\n",
        "    </tr>\n",
        "    <tr>\n",
        "      <th>2009-12-28</th>\n",
        "      <td> 0.012282</td>\n",
        "      <td> 0.007098</td>\n",
        "      <td> 0.013373</td>\n",
        "      <td> 0.005608</td>\n",
        "    </tr>\n",
        "    <tr>\n",
        "      <th>2009-12-29</th>\n",
        "      <td>-0.011845</td>\n",
        "      <td>-0.005571</td>\n",
        "      <td>-0.003519</td>\n",
        "      <td> 0.006971</td>\n",
        "    </tr>\n",
        "    <tr>\n",
        "      <th>2009-12-30</th>\n",
        "      <td> 0.012132</td>\n",
        "      <td> 0.005376</td>\n",
        "      <td> 0.005458</td>\n",
        "      <td>-0.013499</td>\n",
        "    </tr>\n",
        "    <tr>\n",
        "      <th>2009-12-31</th>\n",
        "      <td>-0.004315</td>\n",
        "      <td>-0.004416</td>\n",
        "      <td>-0.012613</td>\n",
        "      <td>-0.015789</td>\n",
        "    </tr>\n",
        "  </tbody>\n",
        "</table>\n",
        "</div>"
       ],
       "output_type": "pyout",
       "prompt_number": 53,
       "text": [
        "                AAPL      GOOG       IBM      MSFT\n",
        "Date                                              \n",
        "2009-12-24  0.034344  0.011117  0.004396  0.002460\n",
        "2009-12-28  0.012282  0.007098  0.013373  0.005608\n",
        "2009-12-29 -0.011845 -0.005571 -0.003519  0.006971\n",
        "2009-12-30  0.012132  0.005376  0.005458 -0.013499\n",
        "2009-12-31 -0.004315 -0.004416 -0.012613 -0.015789"
       ]
      }
     ],
     "prompt_number": 53
    },
    {
     "cell_type": "markdown",
     "metadata": {},
     "source": [
      "Make a plot of the data:"
     ]
    },
    {
     "cell_type": "code",
     "collapsed": false,
     "input": [
      "plot=pylab.plot(price)"
     ],
     "language": "python",
     "metadata": {},
     "outputs": [
      {
       "output_type": "display_data",
       "png": "[encoded data removed]"
      }
     ],
     "prompt_number": 54
    },
    {
     "cell_type": "markdown",
     "metadata": {},
     "source": [
      "# compute correlation and covariance:"
     ]
    },
    {
     "cell_type": "code",
     "collapsed": false,
     "input": [
      "help(returns.MSFT.corr)"
     ],
     "language": "python",
     "metadata": {},
     "outputs": [
      {
       "output_type": "stream",
       "stream": "stdout",
       "text": [
        "Help on method corr in module pandas.core.series:\n",
        "\n",
        "corr(self, other, method='pearson', min_periods=None) method of pandas.core.series.TimeSeries instance\n",
        "    Compute correlation two Series, excluding missing values\n",
        "    \n",
        "    Parameters\n",
        "    ----------\n",
        "    other : Series\n",
        "    method : {'pearson', 'kendall', 'spearman'}\n",
        "        pearson : standard correlation coefficient\n",
        "        kendall : Kendall Tau correlation coefficient\n",
        "        spearman : Spearman rank correlation\n",
        "    min_periods : int, optional\n",
        "        Minimum number of observations needed to have a valid result\n",
        "    \n",
        "    \n",
        "    Returns\n",
        "    -------\n",
        "    correlation : float\n",
        "\n"
       ]
      }
     ],
     "prompt_number": 58
    },
    {
     "cell_type": "markdown",
     "metadata": {},
     "source": [
      "Note, by default corr computes te pearsons correlation coefficient:\n",
      "\n",
      "> *In statistics, the Pearson product-moment correlation coefficient (sometimes referred to as the PPMCC or PCC,[1] or Pearson's r) is a measure of the correlation (linear dependence) between two variables X and Y, giving a value between +1 and \u22121 inclusive. It is widely used in the sciences as a measure of the strength of linear dependence between two variables. It was developed by Karl Pearson from a related idea introduced by Francis Galton in the 1880s.[2][3]* -- http://en.wikipedia.org/wiki/Pearson_product-moment_correlation_coefficient\n",
      "\n"
     ]
    },
    {
     "cell_type": "code",
     "collapsed": false,
     "input": [
      "returns.MSFT.corr(returns.IBM)"
     ],
     "language": "python",
     "metadata": {},
     "outputs": []
    },
    {
     "cell_type": "code",
     "collapsed": false,
     "input": [
      "print 'Full correlation between all data sets'\n",
      "returns.corr()"
     ],
     "language": "python",
     "metadata": {},
     "outputs": [
      {
       "output_type": "stream",
       "stream": "stdout",
       "text": [
        "Full correlation between all data sets\n"
       ]
      },
      {
       "html": [
        "<div style=\"max-height:1000px;max-width:1500px;overflow:auto;\">\n",
        "<table border=\"1\" class=\"dataframe\">\n",
        "  <thead>\n",
        "    <tr style=\"text-align: right;\">\n",
        "      <th></th>\n",
        "      <th>AAPL</th>\n",
        "      <th>GOOG</th>\n",
        "      <th>IBM</th>\n",
        "      <th>MSFT</th>\n",
        "    </tr>\n",
        "  </thead>\n",
        "  <tbody>\n",
        "    <tr>\n",
        "      <th>AAPL</th>\n",
        "      <td> 1.000000</td>\n",
        "      <td> 0.470768</td>\n",
        "      <td> 0.410011</td>\n",
        "      <td> 0.424135</td>\n",
        "    </tr>\n",
        "    <tr>\n",
        "      <th>GOOG</th>\n",
        "      <td> 0.470768</td>\n",
        "      <td> 1.000000</td>\n",
        "      <td> 0.390671</td>\n",
        "      <td> 0.443321</td>\n",
        "    </tr>\n",
        "    <tr>\n",
        "      <th>IBM</th>\n",
        "      <td> 0.410011</td>\n",
        "      <td> 0.390671</td>\n",
        "      <td> 1.000000</td>\n",
        "      <td> 0.495658</td>\n",
        "    </tr>\n",
        "    <tr>\n",
        "      <th>MSFT</th>\n",
        "      <td> 0.424135</td>\n",
        "      <td> 0.443321</td>\n",
        "      <td> 0.495658</td>\n",
        "      <td> 1.000000</td>\n",
        "    </tr>\n",
        "  </tbody>\n",
        "</table>\n",
        "</div>"
       ],
       "output_type": "pyout",
       "prompt_number": 60,
       "text": [
        "          AAPL      GOOG       IBM      MSFT\n",
        "AAPL  1.000000  0.470768  0.410011  0.424135\n",
        "GOOG  0.470768  1.000000  0.390671  0.443321\n",
        "IBM   0.410011  0.390671  1.000000  0.495658\n",
        "MSFT  0.424135  0.443321  0.495658  1.000000"
       ]
      }
     ],
     "prompt_number": 60
    },
    {
     "cell_type": "code",
     "collapsed": false,
     "input": [
      "help(returns.MSFT.cov)"
     ],
     "language": "python",
     "metadata": {},
     "outputs": [
      {
       "output_type": "stream",
       "stream": "stdout",
       "text": [
        "Help on method cov in module pandas.core.series:\n",
        "\n",
        "cov(self, other, min_periods=None) method of pandas.core.series.TimeSeries instance\n",
        "    Compute covariance with Series, excluding missing values\n",
        "    \n",
        "    Parameters\n",
        "    ----------\n",
        "    other : Series\n",
        "    min_periods : int, optional\n",
        "        Minimum number of observations needed to have a valid result\n",
        "    \n",
        "    Returns\n",
        "    -------\n",
        "    covariance : float\n",
        "    \n",
        "    Normalized by N-1 (unbiased estimator).\n",
        "\n"
       ]
      }
     ],
     "prompt_number": 64
    },
    {
     "cell_type": "markdown",
     "metadata": {},
     "source": [
      "Note, the covariance is defiend as $E[(X-E(X))(Y-E(Y))]$"
     ]
    },
    {
     "cell_type": "code",
     "collapsed": false,
     "input": [
      "returns.MSFT.cov(returns.IBM) # MSFT & IBM covariance."
     ],
     "language": "python",
     "metadata": {},
     "outputs": [
      {
       "output_type": "pyout",
       "prompt_number": 62,
       "text": [
        "0.00021575372241610567"
       ]
      }
     ],
     "prompt_number": 62
    },
    {
     "cell_type": "markdown",
     "metadata": {},
     "source": [
      "Note, you can compute the cov explicitly. As an aside, note that that this method nicely strips out the nan data."
     ]
    },
    {
     "cell_type": "code",
     "collapsed": false,
     "input": [
      "a,b=returns.MSFT.values, returns.IBM.values\n",
      "cut = ~np.isnan(a) & ~np.isnan(b)\n",
      "a,b=a[cut],b[cut]\n",
      "np.mean((a-a.mean())*(b-b.mean()))"
     ],
     "language": "python",
     "metadata": {},
     "outputs": [
      {
       "output_type": "pyout",
       "prompt_number": 106,
       "text": [
        "0.00021566790152413435"
       ]
      }
     ],
     "prompt_number": 106
    },
    {
     "cell_type": "code",
     "collapsed": false,
     "input": [
      "returns.cov()"
     ],
     "language": "python",
     "metadata": {},
     "outputs": [
      {
       "html": [
        "<div style=\"max-height:1000px;max-width:1500px;overflow:auto;\">\n",
        "<table border=\"1\" class=\"dataframe\">\n",
        "  <thead>\n",
        "    <tr style=\"text-align: right;\">\n",
        "      <th></th>\n",
        "      <th>AAPL</th>\n",
        "      <th>GOOG</th>\n",
        "      <th>IBM</th>\n",
        "      <th>MSFT</th>\n",
        "    </tr>\n",
        "  </thead>\n",
        "  <tbody>\n",
        "    <tr>\n",
        "      <th>AAPL</th>\n",
        "      <td> 0.001027</td>\n",
        "      <td> 0.000303</td>\n",
        "      <td> 0.000252</td>\n",
        "      <td> 0.000309</td>\n",
        "    </tr>\n",
        "    <tr>\n",
        "      <th>GOOG</th>\n",
        "      <td> 0.000303</td>\n",
        "      <td> 0.000580</td>\n",
        "      <td> 0.000142</td>\n",
        "      <td> 0.000205</td>\n",
        "    </tr>\n",
        "    <tr>\n",
        "      <th>IBM</th>\n",
        "      <td> 0.000252</td>\n",
        "      <td> 0.000142</td>\n",
        "      <td> 0.000367</td>\n",
        "      <td> 0.000216</td>\n",
        "    </tr>\n",
        "    <tr>\n",
        "      <th>MSFT</th>\n",
        "      <td> 0.000309</td>\n",
        "      <td> 0.000205</td>\n",
        "      <td> 0.000216</td>\n",
        "      <td> 0.000516</td>\n",
        "    </tr>\n",
        "  </tbody>\n",
        "</table>\n",
        "</div>"
       ],
       "output_type": "pyout",
       "prompt_number": 83,
       "text": [
        "          AAPL      GOOG       IBM      MSFT\n",
        "AAPL  0.001027  0.000303  0.000252  0.000309\n",
        "GOOG  0.000303  0.000580  0.000142  0.000205\n",
        "IBM   0.000252  0.000142  0.000367  0.000216\n",
        "MSFT  0.000309  0.000205  0.000216  0.000516"
       ]
      }
     ],
     "prompt_number": 83
    },
    {
     "cell_type": "markdown",
     "metadata": {},
     "source": [
      "Find all correlations with IBM:"
     ]
    },
    {
     "cell_type": "code",
     "collapsed": false,
     "input": [
      "returns.corrwith(returns.IBM)"
     ],
     "language": "python",
     "metadata": {},
     "outputs": [
      {
       "output_type": "pyout",
       "prompt_number": 86,
       "text": [
        "AAPL    0.410011\n",
        "GOOG    0.390671\n",
        "IBM     1.000000\n",
        "MSFT    0.495658"
       ]
      }
     ],
     "prompt_number": 86
    },
    {
     "cell_type": "markdown",
     "metadata": {},
     "source": [
      "In all cases, the data points are aligned by label before computing the correlation."
     ]
    },
    {
     "cell_type": "markdown",
     "metadata": {},
     "source": [
      "# Unique Values, Value Counts, and Membership"
     ]
    },
    {
     "cell_type": "code",
     "collapsed": false,
     "input": [
      "obj = Series(['c', 'a', 'd', 'a', 'a', 'b', 'b', 'c', 'c'])"
     ],
     "language": "python",
     "metadata": {},
     "outputs": [],
     "prompt_number": 92
    },
    {
     "cell_type": "code",
     "collapsed": false,
     "input": [
      "Compute unique enteries"
     ],
     "language": "python",
     "metadata": {},
     "outputs": []
    },
    {
     "cell_type": "code",
     "collapsed": false,
     "input": [
      "uniques = obj.unique()\n",
      "uniques"
     ],
     "language": "python",
     "metadata": {},
     "outputs": [
      {
       "output_type": "pyout",
       "prompt_number": 90,
       "text": [
        "array([c, a, d, b], dtype=object)"
       ]
      }
     ],
     "prompt_number": 90
    },
    {
     "cell_type": "markdown",
     "metadata": {},
     "source": [
      "Compute frequency of data:"
     ]
    },
    {
     "cell_type": "code",
     "collapsed": false,
     "input": [
      "obj.value_counts()"
     ],
     "language": "python",
     "metadata": {},
     "outputs": [
      {
       "output_type": "pyout",
       "prompt_number": 99,
       "text": [
        "c    3\n",
        "a    3\n",
        "b    2\n",
        "d    1"
       ]
      }
     ],
     "prompt_number": 99
    },
    {
     "cell_type": "markdown",
     "metadata": {},
     "source": [
      "isin is vectorised set inclusion:"
     ]
    },
    {
     "cell_type": "code",
     "collapsed": false,
     "input": [
      "mask = obj.isin(['b', 'c'])\n"
     ],
     "language": "python",
     "metadata": {},
     "outputs": [],
     "prompt_number": 102
    },
    {
     "cell_type": "code",
     "collapsed": false,
     "input": [
      "mask"
     ],
     "language": "python",
     "metadata": {},
     "outputs": [
      {
       "output_type": "pyout",
       "prompt_number": 103,
       "text": [
        "0     True\n",
        "1    False\n",
        "2    False\n",
        "3    False\n",
        "4    False\n",
        "5     True\n",
        "6     True\n",
        "7     True\n",
        "8     True"
       ]
      }
     ],
     "prompt_number": 103
    },
    {
     "cell_type": "code",
     "collapsed": false,
     "input": [
      "obj[mask]"
     ],
     "language": "python",
     "metadata": {},
     "outputs": [
      {
       "output_type": "pyout",
       "prompt_number": 105,
       "text": [
        "0    c\n",
        "5    b\n",
        "6    b\n",
        "7    c\n",
        "8    c"
       ]
      }
     ],
     "prompt_number": 105
    },
    {
     "cell_type": "code",
     "collapsed": false,
     "input": [
      "data = DataFrame({'Qu1': [1, 3, 4, 3, 4],\n",
      "                  'Qu2': [2, 3, 1, 2, 3],\n",
      "                  'Qu3': [1, 5, 2, 4, 4]})"
     ],
     "language": "python",
     "metadata": {},
     "outputs": [],
     "prompt_number": 107
    },
    {
     "cell_type": "markdown",
     "metadata": {},
     "source": [
      "Compute histogram of many columns at once. Note that pd.value_counts maps a series to a series:"
     ]
    },
    {
     "cell_type": "code",
     "collapsed": false,
     "input": [
      "pd.value_counts(data['Qu1'])"
     ],
     "language": "python",
     "metadata": {},
     "outputs": [
      {
       "output_type": "pyout",
       "prompt_number": 124,
       "text": [
        "4    2\n",
        "3    2\n",
        "1    1"
       ]
      }
     ],
     "prompt_number": 124
    },
    {
     "cell_type": "code",
     "collapsed": false,
     "input": [
      "data.apply(pd.value_counts)"
     ],
     "language": "python",
     "metadata": {},
     "outputs": [
      {
       "html": [
        "<div style=\"max-height:1000px;max-width:1500px;overflow:auto;\">\n",
        "<table border=\"1\" class=\"dataframe\">\n",
        "  <thead>\n",
        "    <tr style=\"text-align: right;\">\n",
        "      <th></th>\n",
        "      <th>Qu1</th>\n",
        "      <th>Qu2</th>\n",
        "      <th>Qu3</th>\n",
        "    </tr>\n",
        "  </thead>\n",
        "  <tbody>\n",
        "    <tr>\n",
        "      <th>1</th>\n",
        "      <td>  1</td>\n",
        "      <td>  1</td>\n",
        "      <td>  1</td>\n",
        "    </tr>\n",
        "    <tr>\n",
        "      <th>2</th>\n",
        "      <td>NaN</td>\n",
        "      <td>  2</td>\n",
        "      <td>  1</td>\n",
        "    </tr>\n",
        "    <tr>\n",
        "      <th>3</th>\n",
        "      <td>  2</td>\n",
        "      <td>  2</td>\n",
        "      <td>NaN</td>\n",
        "    </tr>\n",
        "    <tr>\n",
        "      <th>4</th>\n",
        "      <td>  2</td>\n",
        "      <td>NaN</td>\n",
        "      <td>  2</td>\n",
        "    </tr>\n",
        "    <tr>\n",
        "      <th>5</th>\n",
        "      <td>NaN</td>\n",
        "      <td>NaN</td>\n",
        "      <td>  1</td>\n",
        "    </tr>\n",
        "  </tbody>\n",
        "</table>\n",
        "</div>"
       ],
       "output_type": "pyout",
       "prompt_number": 125,
       "text": [
        "   Qu1  Qu2  Qu3\n",
        "1    1    1    1\n",
        "2  NaN    2    1\n",
        "3    2    2  NaN\n",
        "4    2  NaN    2\n",
        "5  NaN  NaN    1"
       ]
      }
     ],
     "prompt_number": 125
    },
    {
     "cell_type": "markdown",
     "metadata": {},
     "source": [
      "Note that since value_counts does not fill in missing values, you have to explicity fill in the NaN values as 0:"
     ]
    },
    {
     "cell_type": "code",
     "collapsed": false,
     "input": [
      "data.apply(pd.value_counts).fillna(0)"
     ],
     "language": "python",
     "metadata": {},
     "outputs": [
      {
       "html": [
        "<div style=\"max-height:1000px;max-width:1500px;overflow:auto;\">\n",
        "<table border=\"1\" class=\"dataframe\">\n",
        "  <thead>\n",
        "    <tr style=\"text-align: right;\">\n",
        "      <th></th>\n",
        "      <th>Qu1</th>\n",
        "      <th>Qu2</th>\n",
        "      <th>Qu3</th>\n",
        "    </tr>\n",
        "  </thead>\n",
        "  <tbody>\n",
        "    <tr>\n",
        "      <th>1</th>\n",
        "      <td> 1</td>\n",
        "      <td> 1</td>\n",
        "      <td> 1</td>\n",
        "    </tr>\n",
        "    <tr>\n",
        "      <th>2</th>\n",
        "      <td> 0</td>\n",
        "      <td> 2</td>\n",
        "      <td> 1</td>\n",
        "    </tr>\n",
        "    <tr>\n",
        "      <th>3</th>\n",
        "      <td> 2</td>\n",
        "      <td> 2</td>\n",
        "      <td> 0</td>\n",
        "    </tr>\n",
        "    <tr>\n",
        "      <th>4</th>\n",
        "      <td> 2</td>\n",
        "      <td> 0</td>\n",
        "      <td> 2</td>\n",
        "    </tr>\n",
        "    <tr>\n",
        "      <th>5</th>\n",
        "      <td> 0</td>\n",
        "      <td> 0</td>\n",
        "      <td> 1</td>\n",
        "    </tr>\n",
        "  </tbody>\n",
        "</table>\n",
        "</div>"
       ],
       "output_type": "pyout",
       "prompt_number": 126,
       "text": [
        "   Qu1  Qu2  Qu3\n",
        "1    1    1    1\n",
        "2    0    2    1\n",
        "3    2    2    0\n",
        "4    2    0    2\n",
        "5    0    0    1"
       ]
      }
     ],
     "prompt_number": 126
    },
    {
     "cell_type": "markdown",
     "metadata": {},
     "source": [
      "# Handling Missing Data"
     ]
    },
    {
     "cell_type": "code",
     "collapsed": false,
     "input": [
      "string_data = Series(['aardvark', 'artichoke', np.nan, 'avocado'])"
     ],
     "language": "python",
     "metadata": {},
     "outputs": [],
     "prompt_number": 127
    },
    {
     "cell_type": "code",
     "collapsed": false,
     "input": [
      "string_data"
     ],
     "language": "python",
     "metadata": {},
     "outputs": [
      {
       "output_type": "pyout",
       "prompt_number": 128,
       "text": [
        "0     aardvark\n",
        "1    artichoke\n",
        "2          NaN\n",
        "3      avocado"
       ]
      }
     ],
     "prompt_number": 128
    },
    {
     "cell_type": "code",
     "collapsed": false,
     "input": [
      "string_data.isnull()"
     ],
     "language": "python",
     "metadata": {},
     "outputs": [
      {
       "output_type": "pyout",
       "prompt_number": 129,
       "text": [
        "0    False\n",
        "1    False\n",
        "2     True\n",
        "3    False"
       ]
      }
     ],
     "prompt_number": 129
    },
    {
     "cell_type": "code",
     "collapsed": false,
     "input": [
      "string_data[0] = None\n",
      "string_data.isnull()"
     ],
     "language": "python",
     "metadata": {},
     "outputs": [
      {
       "output_type": "pyout",
       "prompt_number": 130,
       "text": [
        "0     True\n",
        "1    False\n",
        "2     True\n",
        "3    False"
       ]
      }
     ],
     "prompt_number": 130
    },
    {
     "cell_type": "code",
     "collapsed": false,
     "input": [],
     "language": "python",
     "metadata": {},
     "outputs": []
    }
   ],
   "metadata": {}
  }
 ]
}