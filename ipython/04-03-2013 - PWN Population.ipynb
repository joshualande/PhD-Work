{
 "metadata": {
  "name": "04-03-2013 - PWN Population"
 },
 "nbformat": 3,
 "nbformat_minor": 0,
 "worksheets": [
  {
   "cells": [
    {
     "cell_type": "markdown",
     "metadata": {},
     "source": [
      "# Load in multiwavelenth TeVCat data"
     ]
    },
    {
     "cell_type": "markdown",
     "metadata": {},
     "source": [
      "The multiwavelenth data from the paper is here:"
     ]
    },
    {
     "cell_type": "code",
     "collapsed": false,
     "input": [
      "from os.path import expandvars\n",
      "from pandas import read_csv\n",
      "\n",
      "df = read_csv(expandvars(\"$thesis/data/tevcat_multiwavelenth.csv\"), index_col=0, skipinitialspace=True)"
     ],
     "language": "python",
     "metadata": {},
     "outputs": [],
     "prompt_number": 1
    },
    {
     "cell_type": "markdown",
     "metadata": {},
     "source": [
      "Here is the raw data"
     ]
    },
    {
     "cell_type": "code",
     "collapsed": false,
     "input": [
      "df.ix[:5]"
     ],
     "language": "python",
     "metadata": {},
     "outputs": [
      {
       "html": [
        "<div style=\"max-height:1000px;max-width:1500px;overflow:auto;\">\n",
        "<table border=\"1\" class=\"dataframe\">\n",
        "  <thead>\n",
        "    <tr style=\"text-align: right;\">\n",
        "      <th></th>\n",
        "      <th>PSR</th>\n",
        "      <th>Edot</th>\n",
        "      <th>age</th>\n",
        "      <th>Distance</th>\n",
        "      <th>Flux_GeV</th>\n",
        "      <th>Flux_TeV</th>\n",
        "      <th>Flux_Xray</th>\n",
        "      <th>Luminosity_GeV</th>\n",
        "    </tr>\n",
        "    <tr>\n",
        "      <th>Name</th>\n",
        "      <th></th>\n",
        "      <th></th>\n",
        "      <th></th>\n",
        "      <th></th>\n",
        "      <th></th>\n",
        "      <th></th>\n",
        "      <th></th>\n",
        "      <th></th>\n",
        "    </tr>\n",
        "  </thead>\n",
        "  <tbody>\n",
        "    <tr>\n",
        "      <th>Crab</th>\n",
        "      <td> PSR J0534$+$2200</td>\n",
        "      <td> 4.60e+38</td>\n",
        "      <td>   1.20</td>\n",
        "      <td>           2.0$\\pm 0.5$</td>\n",
        "      <td> $485.7 \\pm 187.6$</td>\n",
        "      <td> $80.0 \\pm 16.5$</td>\n",
        "      <td> $21000.00 \\pm 4200.00$</td>\n",
        "      <td> $23.24\\pm 14.68$</td>\n",
        "    </tr>\n",
        "    <tr>\n",
        "      <th>VER~J0006+727</th>\n",
        "      <td>   PSR~J0007+7303</td>\n",
        "      <td> 4.50e+35</td>\n",
        "      <td>  13.90</td>\n",
        "      <td> 1.40$^{+0.30}_{-0.30}$</td>\n",
        "      <td>           $&lt;6.9 $</td>\n",
        "      <td>         \\nodata</td>\n",
        "      <td>                \\nodata</td>\n",
        "      <td>          $&lt;0.2 $</td>\n",
        "    </tr>\n",
        "    <tr>\n",
        "      <th>MGRO~J0631+105</th>\n",
        "      <td>   PSR~J0631+1036</td>\n",
        "      <td> 1.70e+35</td>\n",
        "      <td>  43.60</td>\n",
        "      <td>           1.0$\\pm 0.2$</td>\n",
        "      <td>           $&lt;6.0 $</td>\n",
        "      <td>         \\nodata</td>\n",
        "      <td>                \\nodata</td>\n",
        "      <td>          $&lt;0.1 $</td>\n",
        "    </tr>\n",
        "    <tr>\n",
        "      <th>MGRO~J0632+17</th>\n",
        "      <td>   PSR~J0633+1746</td>\n",
        "      <td> 3.20e+34</td>\n",
        "      <td> 342.00</td>\n",
        "      <td> 0.20$^{+0.02}_{-0.01}$</td>\n",
        "      <td>          $&lt;29.1 $</td>\n",
        "      <td>         \\nodata</td>\n",
        "      <td>                \\nodata</td>\n",
        "      <td>          $&lt;0.0 $</td>\n",
        "    </tr>\n",
        "    <tr>\n",
        "      <th>HESS~J1018$-$589</th>\n",
        "      <td> PSR~J1016$-$5857</td>\n",
        "      <td> 2.57e+36</td>\n",
        "      <td>  21.00</td>\n",
        "      <td>                      3</td>\n",
        "      <td>     $6.8 \\pm 6.3$</td>\n",
        "      <td>   $0.9 \\pm 0.4$</td>\n",
        "      <td>                \\nodata</td>\n",
        "      <td>  $ 0.7 \\pm 0.7 $</td>\n",
        "    </tr>\n",
        "  </tbody>\n",
        "</table>\n",
        "</div>"
       ],
       "output_type": "pyout",
       "prompt_number": 2,
       "text": [
        "                               PSR      Edot     age                Distance  \\\n",
        "Name                                                                           \n",
        "Crab              PSR J0534$+$2200  4.60e+38    1.20            2.0$\\pm 0.5$   \n",
        "VER~J0006+727       PSR~J0007+7303  4.50e+35   13.90  1.40$^{+0.30}_{-0.30}$   \n",
        "MGRO~J0631+105      PSR~J0631+1036  1.70e+35   43.60            1.0$\\pm 0.2$   \n",
        "MGRO~J0632+17       PSR~J0633+1746  3.20e+34  342.00  0.20$^{+0.02}_{-0.01}$   \n",
        "HESS~J1018$-$589  PSR~J1016$-$5857  2.57e+36   21.00                       3   \n",
        "\n",
        "                           Flux_GeV         Flux_TeV               Flux_Xray  \\\n",
        "Name                                                                           \n",
        "Crab              $485.7 \\pm 187.6$  $80.0 \\pm 16.5$  $21000.00 \\pm 4200.00$   \n",
        "VER~J0006+727               $<6.9 $          \\nodata                 \\nodata   \n",
        "MGRO~J0631+105              $<6.0 $          \\nodata                 \\nodata   \n",
        "MGRO~J0632+17              $<29.1 $          \\nodata                 \\nodata   \n",
        "HESS~J1018$-$589      $6.8 \\pm 6.3$    $0.9 \\pm 0.4$                 \\nodata   \n",
        "\n",
        "                    Luminosity_GeV  \n",
        "Name                                \n",
        "Crab              $23.24\\pm 14.68$  \n",
        "VER~J0006+727              $<0.2 $  \n",
        "MGRO~J0631+105             $<0.1 $  \n",
        "MGRO~J0632+17              $<0.0 $  \n",
        "HESS~J1018$-$589   $ 0.7 \\pm 0.7 $  "
       ]
      }
     ],
     "prompt_number": 2
    },
    {
     "cell_type": "markdown",
     "metadata": {},
     "source": [
      "Now, lets clean the data up"
     ]
    },
    {
     "cell_type": "code",
     "collapsed": false,
     "input": [
      "# First, replace \\nodata with missing data\n",
      "import numpy as np\n",
      "df = df.applymap(lambda x: x if x.strip() != r'\\nodata' else np.nan)\n",
      "\n",
      "# Next, convert nubmers to DataPoints:\n",
      "df['Edot'] = df['Edot'].astype(float)\n",
      "df['age'] = df['age'].astype(float)\n",
      "# Not sure what to do with assymetric errors in Distance, yet...\n",
      "\n"
     ],
     "language": "python",
     "metadata": {},
     "outputs": [
      {
       "output_type": "stream",
       "stream": "stderr",
       "text": [
        "/u/gl/lande/epd/lib/python2.7/site-packages/pandas/core/frame.py:3576: FutureWarning: rename with inplace=True  will return None from pandas 0.11 onward\n",
        "  \" from pandas 0.11 onward\", FutureWarning)\n"
       ]
      }
     ],
     "prompt_number": 3
    },
    {
     "cell_type": "code",
     "collapsed": false,
     "input": [
      "df.ix[:5]"
     ],
     "language": "python",
     "metadata": {},
     "outputs": [
      {
       "html": [
        "<div style=\"max-height:1000px;max-width:1500px;overflow:auto;\">\n",
        "<table border=\"1\" class=\"dataframe\">\n",
        "  <thead>\n",
        "    <tr style=\"text-align: right;\">\n",
        "      <th></th>\n",
        "      <th>PSR</th>\n",
        "      <th>Edot</th>\n",
        "      <th>age</th>\n",
        "      <th>Distance</th>\n",
        "      <th>Flux_GeV</th>\n",
        "      <th>Flux_TeV</th>\n",
        "      <th>Flux_Xray</th>\n",
        "      <th>Luminosity_GeV</th>\n",
        "    </tr>\n",
        "    <tr>\n",
        "      <th>Name</th>\n",
        "      <th></th>\n",
        "      <th></th>\n",
        "      <th></th>\n",
        "      <th></th>\n",
        "      <th></th>\n",
        "      <th></th>\n",
        "      <th></th>\n",
        "      <th></th>\n",
        "    </tr>\n",
        "  </thead>\n",
        "  <tbody>\n",
        "    <tr>\n",
        "      <th>Crab</th>\n",
        "      <td> PSR J0534$+$2200</td>\n",
        "      <td> 4.600000e+38</td>\n",
        "      <td>   1.2</td>\n",
        "      <td>           2.0$\\pm 0.5$</td>\n",
        "      <td> $485.7 \\pm 187.6$</td>\n",
        "      <td> $80.0 \\pm 16.5$</td>\n",
        "      <td> $21000.00 \\pm 4200.00$</td>\n",
        "      <td> $23.24\\pm 14.68$</td>\n",
        "    </tr>\n",
        "    <tr>\n",
        "      <th>VER~J0006+727</th>\n",
        "      <td>   PSR~J0007+7303</td>\n",
        "      <td> 4.500000e+35</td>\n",
        "      <td>  13.9</td>\n",
        "      <td> 1.40$^{+0.30}_{-0.30}$</td>\n",
        "      <td>           $&lt;6.9 $</td>\n",
        "      <td>             NaN</td>\n",
        "      <td>                    NaN</td>\n",
        "      <td>          $&lt;0.2 $</td>\n",
        "    </tr>\n",
        "    <tr>\n",
        "      <th>MGRO~J0631+105</th>\n",
        "      <td>   PSR~J0631+1036</td>\n",
        "      <td> 1.700000e+35</td>\n",
        "      <td>  43.6</td>\n",
        "      <td>           1.0$\\pm 0.2$</td>\n",
        "      <td>           $&lt;6.0 $</td>\n",
        "      <td>             NaN</td>\n",
        "      <td>                    NaN</td>\n",
        "      <td>          $&lt;0.1 $</td>\n",
        "    </tr>\n",
        "    <tr>\n",
        "      <th>MGRO~J0632+17</th>\n",
        "      <td>   PSR~J0633+1746</td>\n",
        "      <td> 3.200000e+34</td>\n",
        "      <td> 342.0</td>\n",
        "      <td> 0.20$^{+0.02}_{-0.01}$</td>\n",
        "      <td>          $&lt;29.1 $</td>\n",
        "      <td>             NaN</td>\n",
        "      <td>                    NaN</td>\n",
        "      <td>          $&lt;0.0 $</td>\n",
        "    </tr>\n",
        "    <tr>\n",
        "      <th>HESS~J1018$-$589</th>\n",
        "      <td> PSR~J1016$-$5857</td>\n",
        "      <td> 2.570000e+36</td>\n",
        "      <td>  21.0</td>\n",
        "      <td>                      3</td>\n",
        "      <td>     $6.8 \\pm 6.3$</td>\n",
        "      <td>   $0.9 \\pm 0.4$</td>\n",
        "      <td>                    NaN</td>\n",
        "      <td>  $ 0.7 \\pm 0.7 $</td>\n",
        "    </tr>\n",
        "  </tbody>\n",
        "</table>\n",
        "</div>"
       ],
       "output_type": "pyout",
       "prompt_number": 4,
       "text": [
        "                               PSR          Edot    age                Distance  \\\n",
        "Name                                                                              \n",
        "Crab              PSR J0534$+$2200  4.600000e+38    1.2            2.0$\\pm 0.5$   \n",
        "VER~J0006+727       PSR~J0007+7303  4.500000e+35   13.9  1.40$^{+0.30}_{-0.30}$   \n",
        "MGRO~J0631+105      PSR~J0631+1036  1.700000e+35   43.6            1.0$\\pm 0.2$   \n",
        "MGRO~J0632+17       PSR~J0633+1746  3.200000e+34  342.0  0.20$^{+0.02}_{-0.01}$   \n",
        "HESS~J1018$-$589  PSR~J1016$-$5857  2.570000e+36   21.0                       3   \n",
        "\n",
        "                           Flux_GeV         Flux_TeV               Flux_Xray  \\\n",
        "Name                                                                           \n",
        "Crab              $485.7 \\pm 187.6$  $80.0 \\pm 16.5$  $21000.00 \\pm 4200.00$   \n",
        "VER~J0006+727               $<6.9 $              NaN                     NaN   \n",
        "MGRO~J0631+105              $<6.0 $              NaN                     NaN   \n",
        "MGRO~J0632+17              $<29.1 $              NaN                     NaN   \n",
        "HESS~J1018$-$589      $6.8 \\pm 6.3$    $0.9 \\pm 0.4$                     NaN   \n",
        "\n",
        "                    Luminosity_GeV  \n",
        "Name                                \n",
        "Crab              $23.24\\pm 14.68$  \n",
        "VER~J0006+727              $<0.2 $  \n",
        "MGRO~J0631+105             $<0.1 $  \n",
        "MGRO~J0632+17              $<0.0 $  \n",
        "HESS~J1018$-$589   $ 0.7 \\pm 0.7 $  "
       ]
      }
     ],
     "prompt_number": 4
    },
    {
     "cell_type": "code",
     "collapsed": false,
     "input": [
      "# Next, convert numbers w/ errors & limits\n",
      "from lande.datapoints import DataPoint, Detection, UpperLimit\n",
      "for i in ['Flux_GeV','Flux_TeV','Flux_Xray','Luminosity_GeV']:\n",
      "    df[i] = df[i].map(lambda x: DataPoint.from_string(x), na_action='ignore')\n"
     ],
     "language": "python",
     "metadata": {},
     "outputs": [],
     "prompt_number": 5
    },
    {
     "cell_type": "markdown",
     "metadata": {},
     "source": [
      "Now, the final data is in the right format"
     ]
    },
    {
     "cell_type": "code",
     "collapsed": false,
     "input": [
      "type(df['Flux_Xray']['Crab'])"
     ],
     "language": "python",
     "metadata": {},
     "outputs": [
      {
       "output_type": "pyout",
       "prompt_number": 6,
       "text": [
        "lande.datapoints.Detection"
       ]
      }
     ],
     "prompt_number": 6
    },
    {
     "cell_type": "markdown",
     "metadata": {},
     "source": [
      "Add computed the ohter things we need to plot"
     ]
    },
    {
     "cell_type": "code",
     "collapsed": false,
     "input": [
      "df['Luminosity_GeV/TeV'] = df['Flux_GeV']/df['Flux_TeV']\n",
      "df['Luminosity_GeV/Xray'] = df['Flux_GeV']/df['Flux_Xray']"
     ],
     "language": "python",
     "metadata": {},
     "outputs": [],
     "prompt_number": 7
    },
    {
     "cell_type": "markdown",
     "metadata": {},
     "source": [
      "The final data frame"
     ]
    },
    {
     "cell_type": "code",
     "collapsed": false,
     "input": [
      "df.ix[:5]"
     ],
     "language": "python",
     "metadata": {},
     "outputs": [
      {
       "html": [
        "<div style=\"max-height:1000px;max-width:1500px;overflow:auto;\">\n",
        "<table border=\"1\" class=\"dataframe\">\n",
        "  <thead>\n",
        "    <tr style=\"text-align: right;\">\n",
        "      <th></th>\n",
        "      <th>PSR</th>\n",
        "      <th>Edot</th>\n",
        "      <th>age</th>\n",
        "      <th>Distance</th>\n",
        "      <th>Flux_GeV</th>\n",
        "      <th>Flux_TeV</th>\n",
        "      <th>Flux_Xray</th>\n",
        "      <th>Luminosity_GeV</th>\n",
        "      <th>Luminosity_GeV/TeV</th>\n",
        "      <th>Luminosity_GeV/Xray</th>\n",
        "    </tr>\n",
        "    <tr>\n",
        "      <th>Name</th>\n",
        "      <th></th>\n",
        "      <th></th>\n",
        "      <th></th>\n",
        "      <th></th>\n",
        "      <th></th>\n",
        "      <th></th>\n",
        "      <th></th>\n",
        "      <th></th>\n",
        "      <th></th>\n",
        "      <th></th>\n",
        "    </tr>\n",
        "  </thead>\n",
        "  <tbody>\n",
        "    <tr>\n",
        "      <th>Crab</th>\n",
        "      <td> PSR J0534$+$2200</td>\n",
        "      <td> 4.600000e+38</td>\n",
        "      <td>   1.2</td>\n",
        "      <td>           2.0$\\pm 0.5$</td>\n",
        "      <td> 485.7 +/- 187.6</td>\n",
        "      <td> 80.0 +/- 16.5</td>\n",
        "      <td> 21000.0 +/- 4200.0</td>\n",
        "      <td> 23.24 +/- 14.68</td>\n",
        "      <td>       6.07125 +/- 2.65838637159</td>\n",
        "      <td> 0.0231285714286 +/- 0.0100599044279</td>\n",
        "    </tr>\n",
        "    <tr>\n",
        "      <th>VER~J0006+727</th>\n",
        "      <td>   PSR~J0007+7303</td>\n",
        "      <td> 4.500000e+35</td>\n",
        "      <td>  13.9</td>\n",
        "      <td> 1.40$^{+0.30}_{-0.30}$</td>\n",
        "      <td>            &lt;6.9</td>\n",
        "      <td>           NaN</td>\n",
        "      <td>                NaN</td>\n",
        "      <td>            &lt;0.2</td>\n",
        "      <td>                             NaN</td>\n",
        "      <td>                                 NaN</td>\n",
        "    </tr>\n",
        "    <tr>\n",
        "      <th>MGRO~J0631+105</th>\n",
        "      <td>   PSR~J0631+1036</td>\n",
        "      <td> 1.700000e+35</td>\n",
        "      <td>  43.6</td>\n",
        "      <td>           1.0$\\pm 0.2$</td>\n",
        "      <td>            &lt;6.0</td>\n",
        "      <td>           NaN</td>\n",
        "      <td>                NaN</td>\n",
        "      <td>            &lt;0.1</td>\n",
        "      <td>                             NaN</td>\n",
        "      <td>                                 NaN</td>\n",
        "    </tr>\n",
        "    <tr>\n",
        "      <th>MGRO~J0632+17</th>\n",
        "      <td>   PSR~J0633+1746</td>\n",
        "      <td> 3.200000e+34</td>\n",
        "      <td> 342.0</td>\n",
        "      <td> 0.20$^{+0.02}_{-0.01}$</td>\n",
        "      <td>           &lt;29.1</td>\n",
        "      <td>           NaN</td>\n",
        "      <td>                NaN</td>\n",
        "      <td>            &lt;0.0</td>\n",
        "      <td>                             NaN</td>\n",
        "      <td>                                 NaN</td>\n",
        "    </tr>\n",
        "    <tr>\n",
        "      <th>HESS~J1018$-$589</th>\n",
        "      <td> PSR~J1016$-$5857</td>\n",
        "      <td> 2.570000e+36</td>\n",
        "      <td>  21.0</td>\n",
        "      <td>                      3</td>\n",
        "      <td>     6.8 +/- 6.3</td>\n",
        "      <td>   0.9 +/- 0.4</td>\n",
        "      <td>                NaN</td>\n",
        "      <td>     0.7 +/- 0.7</td>\n",
        "      <td> 7.55555555556 +/- 7.76378321618</td>\n",
        "      <td>                                 NaN</td>\n",
        "    </tr>\n",
        "  </tbody>\n",
        "</table>\n",
        "</div>"
       ],
       "output_type": "pyout",
       "prompt_number": 8,
       "text": [
        "                               PSR          Edot    age                Distance  \\\n",
        "Name                                                                              \n",
        "Crab              PSR J0534$+$2200  4.600000e+38    1.2            2.0$\\pm 0.5$   \n",
        "VER~J0006+727       PSR~J0007+7303  4.500000e+35   13.9  1.40$^{+0.30}_{-0.30}$   \n",
        "MGRO~J0631+105      PSR~J0631+1036  1.700000e+35   43.6            1.0$\\pm 0.2$   \n",
        "MGRO~J0632+17       PSR~J0633+1746  3.200000e+34  342.0  0.20$^{+0.02}_{-0.01}$   \n",
        "HESS~J1018$-$589  PSR~J1016$-$5857  2.570000e+36   21.0                       3   \n",
        "\n",
        "                         Flux_GeV       Flux_TeV           Flux_Xray  \\\n",
        "Name                                                                   \n",
        "Crab              485.7 +/- 187.6  80.0 +/- 16.5  21000.0 +/- 4200.0   \n",
        "VER~J0006+727                <6.9            NaN                 NaN   \n",
        "MGRO~J0631+105               <6.0            NaN                 NaN   \n",
        "MGRO~J0632+17               <29.1            NaN                 NaN   \n",
        "HESS~J1018$-$589      6.8 +/- 6.3    0.9 +/- 0.4                 NaN   \n",
        "\n",
        "                   Luminosity_GeV               Luminosity_GeV/TeV  \\\n",
        "Name                                                                 \n",
        "Crab              23.24 +/- 14.68        6.07125 +/- 2.65838637159   \n",
        "VER~J0006+727                <0.2                              NaN   \n",
        "MGRO~J0631+105               <0.1                              NaN   \n",
        "MGRO~J0632+17                <0.0                              NaN   \n",
        "HESS~J1018$-$589      0.7 +/- 0.7  7.55555555556 +/- 7.76378321618   \n",
        "\n",
        "                                  Luminosity_GeV/Xray  \n",
        "Name                                                   \n",
        "Crab              0.0231285714286 +/- 0.0100599044279  \n",
        "VER~J0006+727                                     NaN  \n",
        "MGRO~J0631+105                                    NaN  \n",
        "MGRO~J0632+17                                     NaN  \n",
        "HESS~J1018$-$589                                  NaN  "
       ]
      }
     ],
     "prompt_number": 8
    },
    {
     "cell_type": "markdown",
     "metadata": {},
     "source": [
      "# Make plot of Luminosity vs Edot"
     ]
    },
    {
     "cell_type": "markdown",
     "metadata": {},
     "source": [
      "..."
     ]
    },
    {
     "cell_type": "code",
     "collapsed": false,
     "input": [
      "l=df[['Edot','Luminosity_GeV']].dropna()\n",
      "\n",
      "l.ix[10:15]"
     ],
     "language": "python",
     "metadata": {},
     "outputs": [
      {
       "html": [
        "<div style=\"max-height:1000px;max-width:1500px;overflow:auto;\">\n",
        "<table border=\"1\" class=\"dataframe\">\n",
        "  <thead>\n",
        "    <tr style=\"text-align: right;\">\n",
        "      <th></th>\n",
        "      <th>Edot</th>\n",
        "      <th>Luminosity_GeV</th>\n",
        "    </tr>\n",
        "    <tr>\n",
        "      <th>Name</th>\n",
        "      <th></th>\n",
        "      <th></th>\n",
        "    </tr>\n",
        "  </thead>\n",
        "  <tbody>\n",
        "    <tr>\n",
        "      <th>HESS~J1418$-$609</th>\n",
        "      <td> 4.900000e+36</td>\n",
        "      <td>         &lt;0.8</td>\n",
        "    </tr>\n",
        "    <tr>\n",
        "      <th>HESS~J1420$-$607</th>\n",
        "      <td> 1.000000e+37</td>\n",
        "      <td>  8.6 +/- 4.5</td>\n",
        "    </tr>\n",
        "    <tr>\n",
        "      <th>HESS~J1458$-$608</th>\n",
        "      <td> 9.100000e+35</td>\n",
        "      <td>         &lt;2.8</td>\n",
        "    </tr>\n",
        "    <tr>\n",
        "      <th>HESS~J1514$-$591</th>\n",
        "      <td> 1.700000e+37</td>\n",
        "      <td>  9.7 +/- 3.9</td>\n",
        "    </tr>\n",
        "    <tr>\n",
        "      <th>HESS~J1616$-$508</th>\n",
        "      <td> 1.600000e+37</td>\n",
        "      <td> 23.0 +/- 8.6</td>\n",
        "    </tr>\n",
        "  </tbody>\n",
        "</table>\n",
        "</div>"
       ],
       "output_type": "pyout",
       "prompt_number": 9,
       "text": [
        "                          Edot Luminosity_GeV\n",
        "Name                                         \n",
        "HESS~J1418$-$609  4.900000e+36           <0.8\n",
        "HESS~J1420$-$607  1.000000e+37    8.6 +/- 4.5\n",
        "HESS~J1458$-$608  9.100000e+35           <2.8\n",
        "HESS~J1514$-$591  1.700000e+37    9.7 +/- 3.9\n",
        "HESS~J1616$-$508  1.600000e+37   23.0 +/- 8.6"
       ]
      }
     ],
     "prompt_number": 9
    },
    {
     "cell_type": "code",
     "collapsed": false,
     "input": [
      "Edot=l['Edot'].values\n",
      "luim=l['Luminosity_GeV'].values\n",
      "\n",
      "\n",
      "fig=figure(None, (6,6))\n",
      "axes=fig.add_subplot(111)\n",
      "xlim(1e34,1e39)\n",
      "axes.set_xscale('log')\n",
      "axes.set_yscale('log')\n",
      "#axes.plot(Edot, [i.value if isinstance(i,Detection) else i.upper_limit for i in luim], '*')\n",
      "\n",
      "from lande.datapoints import plot\n",
      "plot(Edot,luim, axes=axes)"
     ],
     "language": "python",
     "metadata": {},
     "outputs": [
      {
       "output_type": "stream",
       "stream": "stdout",
       "text": [
        "[ 23.24    nan    nan    nan   0.7    2.5     nan   7.7    8.3    1.2\n",
        "    nan   8.6     nan   9.7   23.     8.5   26.4     nan    nan   1.8\n",
        "    nan  12.7     nan    nan  12.      nan    nan  36.3    1.8     nan\n",
        "  56.5     nan    nan    nan    nan    nan    nan   0.14] [ 14.68    nan    nan    nan   0.7    1.1     nan   4.4    6.6    0.9\n",
        "    nan   4.5     nan   3.9    8.6    2.1    9.9     nan    nan   0.9\n",
        "    nan   4.9     nan    nan  15.9     nan    nan  11.8    0.4     nan\n",
        "   9.8     nan    nan    nan    nan    nan    nan   0.02] [  nan   0.2   0.1   0.    nan   nan   0.6   nan   nan   nan   0.8   nan\n",
        "   2.8   nan   nan   nan   nan   9.5   7.1   nan   2.6   nan   7.8   3.7\n",
        "   nan   2.5   3.2   nan   nan   4.3   nan   3.9   6.4   2.5   0.1  20.5\n",
        "   7.4   nan] [ True False False False  True  True False  True  True  True False  True\n",
        " False  True  True  True  True False False  True False  True False False\n",
        "  True False False  True  True False  True False False False False False\n",
        " False  True]\n"
       ]
      },
      {
       "output_type": "display_data",
       "png": "[encoded data removed]"
      }
     ],
     "prompt_number": 10
    },
    {
     "cell_type": "code",
     "collapsed": false,
     "input": [
      "Edot,luim"
     ],
     "language": "python",
     "metadata": {},
     "outputs": [
      {
       "output_type": "pyout",
       "prompt_number": 11,
       "text": [
        "(array([  4.60000000e+38,   4.50000000e+35,   1.70000000e+35,\n",
        "         3.20000000e+34,   2.57000000e+36,   1.10000000e+37,\n",
        "         8.40000000e+35,   2.30000000e+36,   1.70000000e+36,\n",
        "         3.10000000e+36,   4.90000000e+36,   1.00000000e+37,\n",
        "         9.10000000e+35,   1.70000000e+37,   1.60000000e+37,\n",
        "         3.00000000e+36,   2.09000000e+35,   4.00000000e+36,\n",
        "         3.40000000e+35,   3.40000000e+36,   1.30000000e+36,\n",
        "         2.20000000e+36,   1.80000000e+36,   6.80000000e+37,\n",
        "         2.80000000e+36,   1.10000000e+36,   3.40000000e+37,\n",
        "         5.50000000e+36,   5.90000000e+36,   9.80000000e+36,\n",
        "         4.60000000e+36,   2.82000000e+34,   2.90000000e+36,\n",
        "         1.20000000e+37,   7.48000000e+34,   3.40000000e+36,\n",
        "         2.20000000e+37,   6.90000000e+36]),\n",
        " array([23.24 +/- 14.68, <0.2, <0.1, <0.0, 0.7 +/- 0.7, 2.5 +/- 1.1, <0.6,\n",
        "       7.7 +/- 4.4, 8.3 +/- 6.6, 1.2 +/- 0.9, <0.8, 8.6 +/- 4.5, <2.8,\n",
        "       9.7 +/- 3.9, 23.0 +/- 8.6, 8.5 +/- 2.1, 26.4 +/- 9.9, <9.5, <7.1,\n",
        "       1.8 +/- 0.9, <2.6, 12.7 +/- 4.9, <7.8, <3.7, 12.0 +/- 15.9, <2.5,\n",
        "       <3.2, 36.3 +/- 11.8, 1.8 +/- 0.4, <4.3, 56.5 +/- 9.8, <3.9, <6.4,\n",
        "       <2.5, <0.1, <20.5, <7.4, 0.14 +/- 0.02], dtype=object))"
       ]
      }
     ],
     "prompt_number": 11
    },
    {
     "cell_type": "code",
     "collapsed": false,
     "input": [],
     "language": "python",
     "metadata": {},
     "outputs": [],
     "prompt_number": 11
    }
   ],
   "metadata": {}
  }
 ]
}