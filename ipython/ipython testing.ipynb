{
 "metadata": {
  "name": "ipython testing"
 },
 "nbformat": 3,
 "nbformat_minor": 0,
 "worksheets": [
  {
   "cells": [
    {
     "cell_type": "markdown",
     "metadata": {},
     "source": [
      "Documentation on ipython notebook: http://ipython.org/ipython-doc/dev/interactive/htmlnotebook.html"
     ]
    },
    {
     "cell_type": "markdown",
     "metadata": {},
     "source": [
      "# HTML Formatted class represntation"
     ]
    },
    {
     "cell_type": "markdown",
     "metadata": {},
     "source": [
      "To make your classes have HTML-formatted printout, you can define a _repr_html_ function. See http://ipython.org/ipython-doc/dev/config/integrating.html for documentation."
     ]
    },
    {
     "cell_type": "code",
     "collapsed": false,
     "input": [
      "class Shout(object):\n",
      "    def __init__(self, text):\n",
      "        self.text = text\n",
      "\n",
      "    def _repr_html_(self):\n",
      "        return \"<h1>\" + self.text + \"</h1>\"\n"
     ],
     "language": "python",
     "metadata": {},
     "outputs": [],
     "prompt_number": 6
    },
    {
     "cell_type": "code",
     "collapsed": false,
     "input": [
      "s=Shout('HELLO WORLD')"
     ],
     "language": "python",
     "metadata": {},
     "outputs": [],
     "prompt_number": 9
    },
    {
     "cell_type": "code",
     "collapsed": false,
     "input": [
      "s"
     ],
     "language": "python",
     "metadata": {},
     "outputs": [
      {
       "html": [
        "<h1>HELLO WORLD</h1>"
       ],
       "output_type": "pyout",
       "prompt_number": 10,
       "text": [
        "<__main__.Shout at 0x11127d050>"
       ]
      }
     ],
     "prompt_number": 10
    },
    {
     "cell_type": "code",
     "collapsed": false,
     "input": [],
     "language": "python",
     "metadata": {},
     "outputs": []
    }
   ],
   "metadata": {}
  }
 ]
}