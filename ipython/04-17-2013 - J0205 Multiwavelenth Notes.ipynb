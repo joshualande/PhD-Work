{
 "metadata": {
  "name": "04-17-2013 - J0205 Multiwavelenth Notes"
 },
 "nbformat": 3,
 "nbformat_minor": 0,
 "worksheets": [
  {
   "cells": [
    {
     "cell_type": "markdown",
     "metadata": {},
     "source": [
      "# Gamma-ray spectrum"
     ]
    },
    {
     "cell_type": "markdown",
     "metadata": {},
     "source": [
      "From lat2pc:\n",
      "\n",
      "The associated pulsar is:\n",
      "\n",
      "* Edot = 2644e34 erg/s\n",
      "* Distance = 1.95 +/- 0.04 kpc\n",
      "\n",
      "The off-peak emission can be read from the fits file:"
     ]
    },
    {
     "cell_type": "code",
     "collapsed": false,
     "input": [
      "from lande.utilities.data import HDUtoPandas\n",
      "from os.path import expandvars\n",
      "import pyfits\n",
      "p=HDUtoPandas(pyfits.open(expandvars('$lat2pc/OffPeak/auxiliary/off_peak_auxiliary_table.fits'))[1], key='PSR')"
     ],
     "language": "python",
     "metadata": {},
     "outputs": [],
     "prompt_number": 16
    },
    {
     "cell_type": "code",
     "collapsed": false,
     "input": [
      "flux,flux_err=p['Flux_OP']['J0205+6449'], p['Unc_Flux_OP']['J0205+6449']\n",
      "flux,flux_err"
     ],
     "language": "python",
     "metadata": {},
     "outputs": [
      {
       "output_type": "pyout",
       "prompt_number": 17,
       "text": [
        "(3.1635714048405816e-09, 2.3010946481605288e-09)"
       ]
      }
     ],
     "prompt_number": 17
    },
    {
     "cell_type": "code",
     "collapsed": false,
     "input": [
      "index,index_err=p['Index_OP']['J0205+6449'], p['Unc_Index_OP']['J0205+6449']\n",
      "index,index_err"
     ],
     "language": "python",
     "metadata": {},
     "outputs": [
      {
       "output_type": "pyout",
       "prompt_number": 18,
       "text": [
        "(1.6128041744232178, 0.21056006848812103)"
       ]
      }
     ],
     "prompt_number": 18
    },
    {
     "cell_type": "code",
     "collapsed": false,
     "input": [
      "from uw.like.Models import PowerLawFlux\n",
      "\n",
      "psr = p.ix['J0205+6449']\n",
      "\n",
      "model = PowerLaw(norm=psr['Prefactor_OP']/(u.erg.to(u.MeV)), index=psr['Index_OP'], e0=psr['Scale_OP'])\n",
      "model.set_error('norm', psr['Unc_Prefactor_OP']/(u.erg.to(u.MeV)))\n",
      "model.set_error('index', psr['Unc_Index_OP'])"
     ],
     "language": "python",
     "metadata": {},
     "outputs": [],
     "prompt_number": 45
    },
    {
     "cell_type": "code",
     "collapsed": false,
     "input": [
      "a,b = model.i_flux(emin=1e2, emax=10**5.5, e_weight=1, error=True, cgs=True)\n",
      "a/1e-11, b/1e-11"
     ],
     "language": "python",
     "metadata": {},
     "outputs": [
      {
       "output_type": "pyout",
       "prompt_number": 49,
       "text": [
        "(1.7494163415176747, 0.89150045499533503)"
       ]
      }
     ],
     "prompt_number": 49
    },
    {
     "cell_type": "markdown",
     "metadata": {},
     "source": [
      "The 10 GeV to 316 GeV energy flux is (in units of erg/cm^2/s)"
     ]
    },
    {
     "cell_type": "code",
     "collapsed": false,
     "input": [
      "model.i_flux(emin=1e4, emax=10**5.5, e_weight=1, error=True, cgs=True)"
     ],
     "language": "python",
     "metadata": {},
     "outputs": [
      {
       "output_type": "pyout",
       "prompt_number": 50,
       "text": [
        "(1.3496858779828874e-11, 8.8566527849001708e-12)"
       ]
      }
     ],
     "prompt_number": 50
    },
    {
     "cell_type": "markdown",
     "metadata": {},
     "source": [
      "# X-ray spectrum"
     ]
    },
    {
     "cell_type": "markdown",
     "metadata": {},
     "source": [
      "PWN modeling of 3C58:\n",
      "    \n",
      "    http://iopscience.iop.org/2041-8205/763/1/L4/pdf/2041-8205_763_1_L4.pdf\n",
      "        \n",
      "Refers to x-ray measurements from (http://adsabs.harvard.edu/abs/2000PASJ...52..875T):\n",
      "        \n",
      "* flux = 1.1e-11 erg/cm^2/s (no error) from 0.5 to 10 keV\n",
      "* index = 2.1 +/- 0.1"
     ]
    },
    {
     "cell_type": "code",
     "collapsed": false,
     "input": [
      "from uw.like.Models import PowerLawFlux\n",
      "from astropy import units as u\n",
      "\n",
      "emin = 0.5*u.keV.to(u.MeV)\n",
      "emax=10*u.keV.to(u.MeV)\n",
      "model = PowerLawFlux(index=2.1, emin=emin, emax=emax)\n",
      "model.set_flux(1.1e-11*u.erg.to(u.MeV), emin=emin, emax=emax, e_weight=1)"
     ],
     "language": "python",
     "metadata": {},
     "outputs": [],
     "prompt_number": 10
    },
    {
     "cell_type": "code",
     "collapsed": false,
     "input": [
      "a=model.i_flux(emin=emin, emax=emax, e_weight=1)\n",
      "a*float(u.MeV.to(u.erg))\n"
     ],
     "language": "python",
     "metadata": {},
     "outputs": [
      {
       "output_type": "pyout",
       "prompt_number": 11,
       "text": [
        "1.1000000000000007e-11"
       ]
      }
     ],
     "prompt_number": 11
    },
    {
     "cell_type": "code",
     "collapsed": false,
     "input": [
      "\n",
      "flux=model.i_flux(emin=1*u.keV.to(u.MeV), emax=10*u.keV.to(u.MeV), e_weight=1, cgs=True)\n",
      "flux"
     ],
     "language": "python",
     "metadata": {},
     "outputs": [
      {
       "output_type": "pyout",
       "prompt_number": 14,
       "text": [
        "8.15438162819933e-12"
       ]
      }
     ],
     "prompt_number": 14
    },
    {
     "cell_type": "markdown",
     "metadata": {},
     "source": [
      "# TeV Spectrum"
     ]
    },
    {
     "cell_type": "markdown",
     "metadata": {},
     "source": [
      "The upper limit on the TeV spectrum (http://arxiv.org/abs/0709.3975):\n",
      "    \n",
      "* Flux < 2.4% crab\n",
      "        \n",
      ">   Joshua Lande: So can I just compute the flux of crab in that energy range and then multiply by .024 to get the crab upper limit\n",
      ">\n",
      ">    Jack Hewitt: yep: http://www.ritsumei.ac.jp/~morim/CrabUnit.html\n",
      "\n",
      "According to this page, spectrum is: Differential: 2.83E-11*(E/TeV)^(-2.62) /cm2 /s /TeV\n",
      "\n",
      "-> 2.83E-17 (E/1e6 MeV)^(-2.62) /cm^2/s/MeV"
     ]
    },
    {
     "cell_type": "code",
     "collapsed": false,
     "input": [
      "crab = PowerLaw(norm=2.83e-17, index=2.62, e0=1e6)"
     ],
     "language": "python",
     "metadata": {},
     "outputs": [],
     "prompt_number": 52
    },
    {
     "cell_type": "markdown",
     "metadata": {},
     "source": [
      "Compute crab flux in units of 1e-12 erg/cm^2/s/MeV"
     ]
    },
    {
     "cell_type": "code",
     "collapsed": false,
     "input": [
      "crab.i_flux(emin=1e6, emax=30e6, cgs=True, e_weight=1)/1e-12"
     ],
     "language": "python",
     "metadata": {},
     "outputs": [
      {
       "output_type": "pyout",
       "prompt_number": 53,
       "text": [
        "64.25426056553943"
       ]
      }
     ],
     "prompt_number": 53
    },
    {
     "cell_type": "code",
     "collapsed": false,
     "input": [
      "0.24*crab.i_flux(emin=1e6, emax=30e6, cgs=True, e_weight=1)/1e-12"
     ],
     "language": "python",
     "metadata": {},
     "outputs": [
      {
       "output_type": "pyout",
       "prompt_number": 54,
       "text": [
        "15.421022535729461"
       ]
      }
     ],
     "prompt_number": 54
    },
    {
     "cell_type": "markdown",
     "metadata": {},
     "source": [
      "Try another spectrum for Crab:"
     ]
    },
    {
     "cell_type": "code",
     "collapsed": false,
     "input": [
      "crab = PowerLaw(norm=3.45e-17, index=2.63, e0=1e6)"
     ],
     "language": "python",
     "metadata": {},
     "outputs": [],
     "prompt_number": 55
    },
    {
     "cell_type": "code",
     "collapsed": false,
     "input": [
      "crab.i_flux(emin=1e6, emax=30e6, cgs=True, e_weight=1)/1e-12"
     ],
     "language": "python",
     "metadata": {},
     "outputs": [
      {
       "output_type": "pyout",
       "prompt_number": 56,
       "text": [
        "77.44397115930705"
       ]
      }
     ],
     "prompt_number": 56
    },
    {
     "cell_type": "code",
     "collapsed": false,
     "input": [
      "0.24*crab.i_flux(emin=1e6, emax=30e6, cgs=True, e_weight=1)"
     ],
     "language": "python",
     "metadata": {},
     "outputs": [
      {
       "output_type": "pyout",
       "prompt_number": 57,
       "text": [
        "1.8586553078233693e-11"
       ]
      }
     ],
     "prompt_number": 57
    },
    {
     "cell_type": "markdown",
     "metadata": {},
     "source": [
      "# Pulsar properties"
     ]
    },
    {
     "cell_type": "markdown",
     "metadata": {},
     "source": [
      "The pulsar is PRS J0205+6449.\n",
      "From 2PC tables\n",
      "\n",
      "* Edot = 2644.e34 erg/s\n",
      "* Distance = 1.95 \\pm 0.04 kpc\n",
      "* age = ???"
     ]
    },
    {
     "cell_type": "code",
     "collapsed": false,
     "input": [
      "\n",
      "from os.path import expandvars\n",
      "import pyfits\n",
      "p=HDUtoPandas(pyfits.open(expandvars('$lat2pc/BigFile/Pulsars_BigFile_v20130319153400.fits'))[1], key='PSRJ')\n",
      "\n",
      "psr = p.ix['J0205+6449']"
     ],
     "language": "python",
     "metadata": {},
     "outputs": [],
     "prompt_number": 87
    },
    {
     "cell_type": "code",
     "collapsed": false,
     "input": [
      "psr['Age']"
     ],
     "language": "python",
     "metadata": {},
     "outputs": [
      {
       "output_type": "pyout",
       "prompt_number": 88,
       "text": [
        "5476.2713765444896"
       ]
      }
     ],
     "prompt_number": 88
    },
    {
     "cell_type": "code",
     "collapsed": false,
     "input": [
      "psr['DPSR_1'], psr['e_DPSR_1_stat']"
     ],
     "language": "python",
     "metadata": {},
     "outputs": [
      {
       "output_type": "pyout",
       "prompt_number": 96,
       "text": [
        "('1.95000004768', '(0.03999999910593033, 0.03999999910593033)')"
       ]
      }
     ],
     "prompt_number": 96
    },
    {
     "cell_type": "code",
     "collapsed": false,
     "input": [
      "psr['EDOT']"
     ],
     "language": "python",
     "metadata": {},
     "outputs": [
      {
       "output_type": "pyout",
       "prompt_number": 90,
       "text": [
        "2.6437701773402044e+37"
       ]
      }
     ],
     "prompt_number": 90
    },
    {
     "cell_type": "markdown",
     "metadata": {},
     "source": [
      "# Conclusion"
     ]
    },
    {
     "cell_type": "markdown",
     "metadata": {},
     "source": [
      "In conclusion:\n",
      "\n",
      "* F_GeV = 1.3496858779828874e-11 +/- 8.8566527849001708e-12 erg/cm^2/s\n",
      "* F_Xray = 8.15438162819933e-12 erg/cm^2/s\n",
      "* F_TeV < 1.8586553078233693e-11 erg/cm^2/s (http://arxiv.org/abs/0709.3975)\n",
      "* Edot = 2.6437701773402044e+37 erg/s\n",
      "* age = 5476.2713765444896 years"
     ]
    },
    {
     "cell_type": "code",
     "collapsed": false,
     "input": [],
     "language": "python",
     "metadata": {},
     "outputs": []
    }
   ],
   "metadata": {}
  }
 ]
}