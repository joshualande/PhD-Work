{
 "metadata": {
  "name": "04-17-2013 - J0205 Multiwavelenth Notes"
 },
 "nbformat": 3,
 "nbformat_minor": 0,
 "worksheets": [
  {
   "cells": [
    {
     "cell_type": "markdown",
     "metadata": {},
     "source": [
      "# Gamma-ray spectrum"
     ]
    },
    {
     "cell_type": "markdown",
     "metadata": {},
     "source": [
      "From lat2pc:\n",
      "\n",
      "The associated pulsar is:\n",
      "\n",
      "* Edot = 2644e34 erg/s\n",
      "* Distance = 1.95 +/- 0.04 kpc\n",
      "\n",
      "The off-peak emission can be read from the fits file:"
     ]
    },
    {
     "cell_type": "code",
     "collapsed": false,
     "input": [
      "from lande.utilities.data import HDUtoPandas\n",
      "from os.path import expandvars\n",
      "import pyfits\n",
      "p=HDUtoPandas(pyfits.open(expandvars('$lat2pc/OffPeak/auxiliary/off_peak_auxiliary_table.fits'))[1], key='PSR')"
     ],
     "language": "python",
     "metadata": {},
     "outputs": [],
     "prompt_number": 27
    },
    {
     "cell_type": "code",
     "collapsed": false,
     "input": [
      "flux,flux_err=p['Flux_OP']['J0205+6449'], p['Unc_Flux_OP']['J0205+6449']\n",
      "flux,flux_err"
     ],
     "language": "python",
     "metadata": {},
     "outputs": [
      {
       "output_type": "pyout",
       "prompt_number": 28,
       "text": [
        "(3.1635714048405816e-09, 2.3010946481605288e-09)"
       ]
      }
     ],
     "prompt_number": 28
    },
    {
     "cell_type": "code",
     "collapsed": false,
     "input": [
      "index,index_err=p['Index_OP']['J0205+6449'], p['Unc_Index_OP']['J0205+6449']\n",
      "index,index_err"
     ],
     "language": "python",
     "metadata": {},
     "outputs": [
      {
       "output_type": "pyout",
       "prompt_number": 29,
       "text": [
        "(1.6128041744232178, 0.21056006848812103)"
       ]
      }
     ],
     "prompt_number": 29
    },
    {
     "cell_type": "code",
     "collapsed": false,
     "input": [
      "from uw.like.Models import PowerLaw\n",
      "from astropy import units as u\n",
      "psr = p.ix['J0205+6449']\n",
      "\n",
      "model = PowerLaw(norm=psr['Prefactor_OP']/(u.erg.to(u.MeV)), index=psr['Index_OP'], e0=psr['Scale_OP'])\n",
      "model.set_error('norm', psr['Unc_Prefactor_OP']/(u.erg.to(u.MeV)))\n",
      "model.set_error('index', psr['Unc_Index_OP'])"
     ],
     "language": "python",
     "metadata": {},
     "outputs": [],
     "prompt_number": 30
    },
    {
     "cell_type": "markdown",
     "metadata": {},
     "source": [
      "# Get the flux from 2PC:"
     ]
    },
    {
     "cell_type": "markdown",
     "metadata": {},
     "source": [
      "Note the error is a little bit bigger because I ignore the covariance term."
     ]
    },
    {
     "cell_type": "code",
     "collapsed": false,
     "input": [
      "a,b = model.i_flux(emin=1e2, emax=10**5.5, e_weight=1, error=True, cgs=True)\n",
      "a/1e-11, b/1e-11"
     ],
     "language": "python",
     "metadata": {},
     "outputs": [
      {
       "output_type": "pyout",
       "prompt_number": 31,
       "text": [
        "(1.7494163415176747, 0.89150045499533503)"
       ]
      }
     ],
     "prompt_number": 31
    },
    {
     "cell_type": "markdown",
     "metadata": {},
     "source": [
      "The 10 GeV to 316 GeV energy flux is (in units of erg/cm^2/s)"
     ]
    },
    {
     "cell_type": "code",
     "collapsed": false,
     "input": [
      "flux_gev, flux_err_gev= model.i_flux(emin=1e4, emax=10**5.5, e_weight=1, error=True, cgs=True)\n",
      "flux_gev, flux_err_gev"
     ],
     "language": "python",
     "metadata": {},
     "outputs": [
      {
       "output_type": "pyout",
       "prompt_number": 32,
       "text": [
        "(1.3496858779828874e-11, 8.8566527849001708e-12)"
       ]
      }
     ],
     "prompt_number": 32
    },
    {
     "cell_type": "markdown",
     "metadata": {},
     "source": [
      "# X-ray spectrum"
     ]
    },
    {
     "cell_type": "markdown",
     "metadata": {},
     "source": [
      "PWN modeling of 3C58:\n",
      "    \n",
      "    http://iopscience.iop.org/2041-8205/763/1/L4/pdf/2041-8205_763_1_L4.pdf\n",
      "        \n",
      "Refers to x-ray measurements from (http://adsabs.harvard.edu/abs/2000PASJ...52..875T):\n",
      "        \n",
      "* flux = 1.1e-11 erg/cm^2/s (no error) from 0.5 to 10 keV\n",
      "* index = 2.1 +/- 0.1"
     ]
    },
    {
     "cell_type": "code",
     "collapsed": false,
     "input": [
      "from uw.like.Models import PowerLawFlux\n",
      "from astropy import units as u\n",
      "\n",
      "emin = 0.5*u.keV.to(u.MeV)\n",
      "emax=10*u.keV.to(u.MeV)\n",
      "model = PowerLawFlux(index=2.1, emin=emin, emax=emax)\n",
      "model.set_flux(1.1e-11*u.erg.to(u.MeV), emin=emin, emax=emax, e_weight=1)"
     ],
     "language": "python",
     "metadata": {},
     "outputs": [],
     "prompt_number": 7
    },
    {
     "cell_type": "code",
     "collapsed": false,
     "input": [
      "a=model.i_flux(emin=emin, emax=emax, e_weight=1)\n",
      "a*float(u.MeV.to(u.erg))\n"
     ],
     "language": "python",
     "metadata": {},
     "outputs": [
      {
       "output_type": "pyout",
       "prompt_number": 8,
       "text": [
        "1.1000000000000007e-11"
       ]
      }
     ],
     "prompt_number": 8
    },
    {
     "cell_type": "code",
     "collapsed": false,
     "input": [
      "\n",
      "flux_xray=model.i_flux(emin=2*u.keV.to(u.MeV), emax=10*u.keV.to(u.MeV), e_weight=1, cgs=True)\n",
      "flux_xray"
     ],
     "language": "python",
     "metadata": {},
     "outputs": [
      {
       "output_type": "pyout",
       "prompt_number": 23,
       "text": [
        "5.499303801762257e-12"
       ]
      }
     ],
     "prompt_number": 23
    },
    {
     "cell_type": "markdown",
     "metadata": {},
     "source": [
      "# TeV Spectrum"
     ]
    },
    {
     "cell_type": "markdown",
     "metadata": {},
     "source": [
      "The upper limit on the TeV spectrum (http://arxiv.org/abs/0709.3975):\n",
      "    \n",
      "* Flux < 2.4% crab\n",
      "        \n",
      ">   Joshua Lande: So can I just compute the flux of crab in that energy range and then multiply by .024 to get the crab upper limit\n",
      ">\n",
      ">    Jack Hewitt: yep: http://www.ritsumei.ac.jp/~morim/CrabUnit.html\n",
      "\n",
      "According to this page, spectrum is: Differential: 2.83E-11*(E/TeV)^(-2.62) /cm2 /s /TeV\n",
      "\n",
      "-> 2.83E-17 (E/1e6 MeV)^(-2.62) /cm^2/s/MeV"
     ]
    },
    {
     "cell_type": "code",
     "collapsed": false,
     "input": [
      "crab = PowerLaw(norm=2.83e-17, index=2.62, e0=1e6)"
     ],
     "language": "python",
     "metadata": {},
     "outputs": [],
     "prompt_number": 10
    },
    {
     "cell_type": "markdown",
     "metadata": {},
     "source": [
      "Compute crab flux in units of 1e-12 erg/cm^2/s/MeV"
     ]
    },
    {
     "cell_type": "code",
     "collapsed": false,
     "input": [
      "crab.i_flux(emin=1e6, emax=30e6, cgs=True, e_weight=1)/1e-12"
     ],
     "language": "python",
     "metadata": {},
     "outputs": [
      {
       "output_type": "pyout",
       "prompt_number": 11,
       "text": [
        "64.25426056553943"
       ]
      }
     ],
     "prompt_number": 11
    },
    {
     "cell_type": "code",
     "collapsed": false,
     "input": [
      "0.24*crab.i_flux(emin=1e6, emax=30e6, cgs=True, e_weight=1)"
     ],
     "language": "python",
     "metadata": {},
     "outputs": [
      {
       "output_type": "pyout",
       "prompt_number": 12,
       "text": [
        "1.542102253572946e-11"
       ]
      }
     ],
     "prompt_number": 12
    },
    {
     "cell_type": "markdown",
     "metadata": {},
     "source": [
      "Try another spectrum for Crab (I have no idea where this is from???)"
     ]
    },
    {
     "cell_type": "code",
     "collapsed": false,
     "input": [
      "crab = PowerLaw(norm=3.45e-17, index=2.63, e0=1e6)"
     ],
     "language": "python",
     "metadata": {},
     "outputs": [],
     "prompt_number": 13
    },
    {
     "cell_type": "code",
     "collapsed": false,
     "input": [
      "crab.i_flux(emin=1e6, emax=30e6, cgs=True, e_weight=1)/1e-12"
     ],
     "language": "python",
     "metadata": {},
     "outputs": [
      {
       "output_type": "pyout",
       "prompt_number": 14,
       "text": [
        "77.44397115930705"
       ]
      }
     ],
     "prompt_number": 14
    },
    {
     "cell_type": "code",
     "collapsed": false,
     "input": [
      "0.24*crab.i_flux(emin=1e6, emax=30e6, cgs=True, e_weight=1)"
     ],
     "language": "python",
     "metadata": {},
     "outputs": [
      {
       "output_type": "pyout",
       "prompt_number": 15,
       "text": [
        "1.8586553078233693e-11"
       ]
      }
     ],
     "prompt_number": 15
    },
    {
     "cell_type": "markdown",
     "metadata": {},
     "source": [
      "Note that the crab flux in tevcat_v10 is: 80e-12 erg/cm^-2/s. So 0.26*flux_crab = 2.08e-11, which is pretty close to the value from above (probably the index assumption is different??)"
     ]
    },
    {
     "cell_type": "markdown",
     "metadata": {},
     "source": [
      "# Pulsar properties"
     ]
    },
    {
     "cell_type": "markdown",
     "metadata": {},
     "source": [
      "The pulsar is PRS J0205+6449.\n",
      "From 2PC tables\n",
      "\n",
      "* Edot = 2644.e34 erg/s\n",
      "* Distance = 1.95 \\pm 0.04 kpc\n",
      "* age = ???"
     ]
    },
    {
     "cell_type": "code",
     "collapsed": false,
     "input": [
      "\n",
      "from os.path import expandvars\n",
      "import pyfits\n",
      "p=HDUtoPandas(pyfits.open(expandvars('$lat2pc/BigFile/Pulsars_BigFile_v20130319153400.fits'))[1], key='PSRJ')\n",
      "\n",
      "psr = p.ix['J0205+6449']"
     ],
     "language": "python",
     "metadata": {},
     "outputs": [],
     "prompt_number": 16
    },
    {
     "cell_type": "code",
     "collapsed": false,
     "input": [
      "psr['Age']"
     ],
     "language": "python",
     "metadata": {},
     "outputs": [
      {
       "output_type": "pyout",
       "prompt_number": 17,
       "text": [
        "5476.2713765444896"
       ]
      }
     ],
     "prompt_number": 17
    },
    {
     "cell_type": "code",
     "collapsed": false,
     "input": [
      "psr['DPSR_1'], psr['e_DPSR_1_stat']"
     ],
     "language": "python",
     "metadata": {},
     "outputs": [
      {
       "output_type": "pyout",
       "prompt_number": 18,
       "text": [
        "('1.95000004768', '(0.03999999910593033, 0.03999999910593033)')"
       ]
      }
     ],
     "prompt_number": 18
    },
    {
     "cell_type": "code",
     "collapsed": false,
     "input": [
      "psr['EDOT']"
     ],
     "language": "python",
     "metadata": {},
     "outputs": [
      {
       "output_type": "pyout",
       "prompt_number": 19,
       "text": [
        "2.6437701773402044e+37"
       ]
      }
     ],
     "prompt_number": 19
    },
    {
     "cell_type": "markdown",
     "metadata": {},
     "source": [
      "# Computing luminosity"
     ]
    },
    {
     "cell_type": "markdown",
     "metadata": {},
     "source": [
      "Finally, we have to compute the X-ray and GeV luminosity.\n",
      "\n",
      "Note that we want to compute luminosity in units of erg/s, and we have flux in units of erg/cm^2/s.\n",
      "\n",
      "So we have to multiply by (4*pi*r^2). Note r=1.95 kpc, so 4*pi*r^2"
     ]
    },
    {
     "cell_type": "code",
     "collapsed": false,
     "input": [
      "SA = 4*np.pi*1.95*(u.kpc**2).to(u.cm**2)\n",
      "SA"
     ],
     "language": "python",
     "metadata": {},
     "outputs": [
      {
       "output_type": "pyout",
       "prompt_number": 22,
       "text": [
        "2.3331656065472781e+44"
       ]
      }
     ],
     "prompt_number": 22
    },
    {
     "cell_type": "markdown",
     "metadata": {},
     "source": [
      "So luminosity X-ray is:"
     ]
    },
    {
     "cell_type": "code",
     "collapsed": false,
     "input": [
      "flux_xray"
     ],
     "language": "python",
     "metadata": {},
     "outputs": [
      {
       "output_type": "pyout",
       "prompt_number": 36,
       "text": [
        "5.499303801762257e-12"
       ]
      }
     ],
     "prompt_number": 36
    },
    {
     "cell_type": "code",
     "collapsed": false,
     "input": [
      "Lx= flux_xray*SA\n",
      "Lx"
     ],
     "language": "python",
     "metadata": {},
     "outputs": [
      {
       "output_type": "pyout",
       "prompt_number": 25,
       "text": [
        "1.283078649022639e+33"
       ]
      }
     ],
     "prompt_number": 25
    },
    {
     "cell_type": "code",
     "collapsed": false,
     "input": [
      "flux_gev, flux_err_gev"
     ],
     "language": "python",
     "metadata": {},
     "outputs": [
      {
       "output_type": "pyout",
       "prompt_number": 38,
       "text": [
        "(1.3496858779828874e-11, 8.8566527849001708e-12)"
       ]
      }
     ],
     "prompt_number": 38
    },
    {
     "cell_type": "code",
     "collapsed": false,
     "input": [
      "L_GeV, L_err_GeV = flux_gev*SA, flux_err_gev*SA\n",
      "L_GeV, L_err_GeV "
     ],
     "language": "python",
     "metadata": {},
     "outputs": [
      {
       "output_type": "pyout",
       "prompt_number": 35,
       "text": [
        "(3.149040670152239e+33, 2.0664037666860248e+33)"
       ]
      }
     ],
     "prompt_number": 35
    },
    {
     "cell_type": "markdown",
     "metadata": {},
     "source": [
      "# Conclusion"
     ]
    },
    {
     "cell_type": "markdown",
     "metadata": {},
     "source": [
      "In conclusion:\n",
      "\n",
      "* F_GeV = 1.3496858779828874e-11 +/- 8.8566527849001708e-12 erg/cm^2/s (10 to 316 GeV)\n",
      "* F_Xray = 5.499303801762257e-12 erg/cm^2/s (2 to 10 keV)\n",
      "* F_TeV < 1.8586553078233693e-11 erg/cm^2/s (http://arxiv.org/abs/0709.3975) (1 to 30 TeV)\n",
      "* Edot = 2.6437701773402044e+37 erg/s\n",
      "* age = 5476.2713765444896 years\n",
      "* distance = 1.95 kpc\n",
      "* L_Xray = 1.283078649022639e+33 erg/s\n",
      "* L_GeV = 3.149040670152239e+33 +/- 2.0664037666860248e+33 erg/s\n"
     ]
    },
    {
     "cell_type": "code",
     "collapsed": false,
     "input": [],
     "language": "python",
     "metadata": {},
     "outputs": [],
     "prompt_number": 20
    }
   ],
   "metadata": {}
  }
 ]
}