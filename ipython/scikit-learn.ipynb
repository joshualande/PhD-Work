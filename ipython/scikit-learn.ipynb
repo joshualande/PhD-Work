{
 "metadata": {
  "name": "scikit-learn"
 },
 "nbformat": 3,
 "nbformat_minor": 0,
 "worksheets": [
  {
   "cells": [
    {
     "cell_type": "code",
     "collapsed": false,
     "input": [
      "To install scikit-learn (http://scikit-learn.org/stable/install.html):\n",
      "    \n",
      "> sudo port install py27-scikits-learn\n"
     ],
     "language": "python",
     "metadata": {},
     "outputs": []
    },
    {
     "cell_type": "markdown",
     "metadata": {},
     "source": [
      "# 1.2. Loading an example dataset\n",
      "\n",
      "Following discussion from http://scikit-learn.org/stable/tutorial/basic/tutorial.html#loading-an-example-dataset"
     ]
    },
    {
     "cell_type": "code",
     "collapsed": false,
     "input": [
      "from sklearn import datasets\n",
      "iris = datasets.load_iris()\n",
      "digits = datasets.load_digits()"
     ],
     "language": "python",
     "metadata": {},
     "outputs": [],
     "prompt_number": 6
    },
    {
     "cell_type": "code",
     "collapsed": false,
     "input": [],
     "language": "python",
     "metadata": {},
     "outputs": []
    }
   ],
   "metadata": {}
  }
 ]
}