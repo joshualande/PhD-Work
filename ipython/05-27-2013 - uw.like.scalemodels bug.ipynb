{
 "metadata": {
  "name": "05-27-2013 - uw.like.scalemodels bug"
 },
 "nbformat": 3,
 "nbformat_minor": 0,
 "worksheets": [
  {
   "cells": [
    {
     "cell_type": "code",
     "collapsed": false,
     "input": [
      "from uw.like.Models import *\n",
      "from uw.like.scalemodels import *"
     ],
     "language": "python",
     "metadata": {},
     "outputs": [],
     "prompt_number": 1
    },
    {
     "cell_type": "code",
     "collapsed": false,
     "input": [
      "p_mean = 1e4\n",
      "p_sigma = 3e3\n",
      "p_prefactor = 1e-6\n",
      "g = Gaussian(prefactor=p_prefactor, mean=p_mean, sigma=p_sigma)"
     ],
     "language": "python",
     "metadata": {},
     "outputs": [],
     "prompt_number": 2
    },
    {
     "cell_type": "code",
     "collapsed": false,
     "input": [
      "g"
     ],
     "language": "python",
     "metadata": {},
     "outputs": [
      {
       "output_type": "pyout",
       "prompt_number": 3,
       "text": [
        "Prefactor : 1e-06 \n",
        "Mean      : 1e+04 \n",
        "Sigma     : 3e+03 \n",
        "Ph. Flux  : 3.99e-07 (DERIVED)\n",
        "En. Flux  : 6.39e-09 (DERIVED)"
       ]
      }
     ],
     "prompt_number": 3
    },
    {
     "cell_type": "code",
     "collapsed": false,
     "input": [
      "filename = 'gauss.txt'\n",
      "emin = 1e2\n",
      "emax = 1e8\n",
      "g.save_profile(filename, emin, emax, numpoints=200, clip_ends=True,\n",
      "clip_fraction=1e-20)"
     ],
     "language": "python",
     "metadata": {},
     "outputs": [],
     "prompt_number": 4
    },
    {
     "cell_type": "code",
     "collapsed": false,
     "input": [
      "print open('gauss.txt').read()"
     ],
     "language": "python",
     "metadata": {},
     "outputs": [
      {
       "output_type": "stream",
       "stream": "stdout",
       "text": [
        "100\t2.29069e-13\n",
        "107.189\t2.30887e-13\n",
        "114.895\t2.3285e-13\n",
        "123.155\t2.34971e-13\n",
        "132.009\t2.37264e-13\n",
        "141.499\t2.39745e-13\n",
        "151.672\t2.4243e-13\n",
        "162.576\t2.45338e-13\n",
        "174.263\t2.4849e-13\n",
        "186.791\t2.5191e-13\n",
        "200.22\t2.55623e-13\n",
        "214.614\t2.59658e-13\n",
        "230.043\t2.64047e-13\n",
        "246.581\t2.68827e-13\n",
        "264.308\t2.74036e-13\n",
        "283.31\t2.79722e-13\n",
        "303.677\t2.85934e-13\n",
        "325.509\t2.92731e-13\n",
        "348.91\t3.00179e-13\n",
        "373.994\t3.08352e-13\n",
        "400.881\t3.17336e-13\n",
        "429.7\t3.27227e-13\n",
        "460.592\t3.38136e-13\n",
        "493.705\t3.50193e-13\n",
        "529.198\t3.63546e-13\n",
        "567.243\t3.78365e-13\n",
        "608.022\t3.94851e-13\n",
        "651.734\t4.13235e-13\n",
        "698.588\t4.33791e-13\n",
        "748.81\t4.56837e-13\n",
        "802.643\t4.82751e-13\n",
        "860.346\t5.11979e-13\n",
        "922.198\t5.45053e-13\n",
        "988.496\t5.82605e-13\n",
        "1059.56\t6.25396e-13\n",
        "1135.73\t6.74338e-13\n",
        "1217.38\t7.30536e-13\n",
        "1304.9\t7.95331e-13\n",
        "1398.71\t8.70356e-13\n",
        "1499.27\t9.57611e-13\n",
        "1607.05\t1.05955e-12\n",
        "1722.59\t1.17921e-12\n",
        "1846.42\t1.32034e-12\n",
        "1979.17\t1.48761e-12\n",
        "2121.45\t1.68682e-12\n",
        "2273.97\t1.92527e-12\n",
        "2437.44\t2.21205e-12\n",
        "2612.68\t2.55859e-12\n",
        "2800.5\t2.97924e-12\n",
        "3001.84\t3.49199e-12\n",
        "3217.64\t4.11932e-12\n",
        "3448.96\t4.88925e-12\n",
        "3696.91\t5.83634e-12\n",
        "3962.69\t7.00283e-12\n",
        "4247.57\t8.43938e-12\n",
        "4552.94\t1.02053e-11\n",
        "4880.25\t1.23673e-11\n",
        "5231.1\t1.49962e-11\n",
        "5607.17\t1.81598e-11\n",
        "6010.28\t2.19099e-11\n",
        "6442.36\t2.62617e-11\n",
        "6905.51\t3.11643e-11\n",
        "7401.96\t3.64622e-11\n",
        "7934.1\t4.18527e-11\n",
        "8504.49\t4.68529e-11\n",
        "9115.89\t5.07972e-11\n",
        "9771.24\t5.28976e-11\n",
        "10473.7\t5.23944e-11\n",
        "11226.7\t4.8797e-11\n",
        "12033.8\t4.21601e-11\n",
        "12898.9\t3.32614e-11\n",
        "13826.2\t2.3522e-11\n",
        "14820.2\t1.45919e-11\n",
        "15885.7\t7.74287e-12\n",
        "17027.7\t3.41256e-12\n",
        "18251.8\t1.20724e-12\n",
        "19564\t3.29431e-13\n",
        "20970.5\t6.62112e-14\n",
        "22478.1\t9.28977e-15\n",
        "24094\t8.55015e-16\n",
        "25826.2\t4.80324e-17\n",
        "27682.9\t1.51506e-18\n",
        "29673\t2.4361e-20\n",
        "31806.3\t1.78557e-22\n",
        "34092.9\t5.24246e-25\n",
        "36543.8\t5.30991e-28\n"
       ]
      }
     ],
     "prompt_number": 11
    },
    {
     "cell_type": "code",
     "collapsed": false,
     "input": [
      "gs = ScaleFactorGaussian(ScaleFactor=2.0)\n",
      "filename = 'gauss.scale.txt'\n",
      "gs.save_profile(filename, emin, emax, numpoints=200, clip_ends=False,\n",
      "clip_fraction=1e-20)"
     ],
     "language": "python",
     "metadata": {},
     "outputs": [
      {
       "ename": "ModelException",
       "evalue": "Error: 0s found in differential flux",
       "output_type": "pyerr",
       "traceback": [
        "\u001b[1;31m---------------------------------------------------------------------------\u001b[0m\n\u001b[1;31mModelException\u001b[0m                            Traceback (most recent call last)",
        "\u001b[1;32m<ipython-input-13-5828c495cda5>\u001b[0m in \u001b[0;36m<module>\u001b[1;34m()\u001b[0m\n\u001b[0;32m      2\u001b[0m \u001b[0mfilename\u001b[0m \u001b[1;33m=\u001b[0m \u001b[1;34m'gauss.scale.txt'\u001b[0m\u001b[1;33m\u001b[0m\u001b[0m\n\u001b[0;32m      3\u001b[0m gs.save_profile(filename, emin, emax, numpoints=200, clip_ends=False,\n\u001b[1;32m----> 4\u001b[1;33m clip_fraction=1e-20)\n\u001b[0m",
        "\u001b[1;32m/u/gl/lande/head/uw/like/Models.pyc\u001b[0m in \u001b[0;36msave_profile\u001b[1;34m(self, filename, emin, emax, numpoints, clip_ends, clip_fraction)\u001b[0m\n\u001b[0;32m    764\u001b[0m \u001b[1;33m\u001b[0m\u001b[0m\n\u001b[0;32m    765\u001b[0m         \u001b[1;31m# Paranoid check:\u001b[0m\u001b[1;33m\u001b[0m\u001b[1;33m\u001b[0m\u001b[0m\n\u001b[1;32m--> 766\u001b[1;33m         \u001b[1;32mif\u001b[0m \u001b[0mnp\u001b[0m\u001b[1;33m.\u001b[0m\u001b[0many\u001b[0m\u001b[1;33m(\u001b[0m\u001b[0mfluxes\u001b[0m\u001b[1;33m==\u001b[0m\u001b[1;36m0\u001b[0m\u001b[1;33m)\u001b[0m\u001b[1;33m:\u001b[0m \u001b[1;32mraise\u001b[0m \u001b[0mModelException\u001b[0m\u001b[1;33m(\u001b[0m\u001b[1;34m\"Error: 0s found in differential flux\"\u001b[0m\u001b[1;33m)\u001b[0m\u001b[1;33m\u001b[0m\u001b[0m\n\u001b[0m\u001b[0;32m    767\u001b[0m \u001b[1;33m\u001b[0m\u001b[0m\n\u001b[0;32m    768\u001b[0m         \u001b[0mopen\u001b[0m\u001b[1;33m(\u001b[0m\u001b[0mpath\u001b[0m\u001b[1;33m.\u001b[0m\u001b[0mexpand\u001b[0m\u001b[1;33m(\u001b[0m\u001b[0mfilename\u001b[0m\u001b[1;33m)\u001b[0m\u001b[1;33m,\u001b[0m\u001b[1;34m'w'\u001b[0m\u001b[1;33m)\u001b[0m\u001b[1;33m.\u001b[0m\u001b[0mwrite\u001b[0m\u001b[1;33m(\u001b[0m\u001b[1;34m'\\n'\u001b[0m\u001b[1;33m.\u001b[0m\u001b[0mjoin\u001b[0m\u001b[1;33m(\u001b[0m\u001b[1;33m[\u001b[0m\u001b[1;34m'%g\\t%g'\u001b[0m \u001b[1;33m%\u001b[0m \u001b[1;33m(\u001b[0m\u001b[0mi\u001b[0m\u001b[1;33m,\u001b[0m\u001b[0mj\u001b[0m\u001b[1;33m)\u001b[0m \u001b[1;32mfor\u001b[0m \u001b[0mi\u001b[0m\u001b[1;33m,\u001b[0m\u001b[0mj\u001b[0m \u001b[1;32min\u001b[0m \u001b[0mzip\u001b[0m\u001b[1;33m(\u001b[0m\u001b[0menergies\u001b[0m\u001b[1;33m,\u001b[0m\u001b[0mfluxes\u001b[0m\u001b[1;33m)\u001b[0m\u001b[1;33m]\u001b[0m\u001b[1;33m)\u001b[0m\u001b[1;33m)\u001b[0m\u001b[1;33m\u001b[0m\u001b[0m\n",
        "\u001b[1;31mModelException\u001b[0m: Error: 0s found in differential flux"
       ]
      }
     ],
     "prompt_number": 13
    },
    {
     "cell_type": "code",
     "collapsed": false,
     "input": [
      "print open('gauss.scale.txt').read()"
     ],
     "language": "python",
     "metadata": {},
     "outputs": []
    },
    {
     "cell_type": "code",
     "collapsed": false,
     "input": [
      "emin"
     ],
     "language": "python",
     "metadata": {},
     "outputs": [
      {
       "output_type": "pyout",
       "prompt_number": 9,
       "text": [
        "100.0"
       ]
      }
     ],
     "prompt_number": 9
    },
    {
     "cell_type": "code",
     "collapsed": false,
     "input": [
      "emax"
     ],
     "language": "python",
     "metadata": {},
     "outputs": [
      {
       "output_type": "pyout",
       "prompt_number": 10,
       "text": [
        "100000000.0"
       ]
      }
     ],
     "prompt_number": 10
    },
    {
     "cell_type": "code",
     "collapsed": false,
     "input": [],
     "language": "python",
     "metadata": {},
     "outputs": []
    }
   ],
   "metadata": {}
  }
 ]
}