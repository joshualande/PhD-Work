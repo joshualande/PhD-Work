{
 "metadata": {
  "name": "03-26-2013 - Error propagation discussion with Warit"
 },
 "nbformat": 3,
 "nbformat_minor": 0,
 "worksheets": [
  {
   "cells": [
    {
     "cell_type": "code",
     "collapsed": false,
     "input": [
      "from scipy.stats import poisson\n"
     ],
     "language": "python",
     "metadata": {},
     "outputs": [],
     "prompt_number": 1
    },
    {
     "cell_type": "markdown",
     "metadata": {},
     "source": [
      "Generate 100 data points from a poisson distirbution with mean 3"
     ]
    },
    {
     "cell_type": "code",
     "collapsed": false,
     "input": [
      "\n",
      "R = poisson.rvs(3, size=100)\n"
     ],
     "language": "python",
     "metadata": {},
     "outputs": [],
     "prompt_number": 9
    },
    {
     "cell_type": "code",
     "collapsed": false,
     "input": [
      "print R"
     ],
     "language": "python",
     "metadata": {},
     "outputs": [
      {
       "output_type": "stream",
       "stream": "stdout",
       "text": [
        "[4 1 3 1 3 2 3 3 2 2 4 6 2 3 1 1 1 4 2 2 3 4 3 4 3 5 2 2 2 3 2 2 4 1 2 2 2\n",
        " 1 0 3 1 2 3 4 3 5 2 1 7 5 4 6 2 2 2 5 3 5 3 1 2 3 1 5 4 1 3 3 8 5 2 3 1 2\n",
        " 3 4 4 2 3 4 3 1 5 2 1 1 6 2 3 5 3 2 5 2 2 3 4 2 6 1]\n"
       ]
      }
     ],
     "prompt_number": 10
    },
    {
     "cell_type": "code",
     "collapsed": false,
     "input": [
      "hist(R)"
     ],
     "language": "python",
     "metadata": {},
     "outputs": [
      {
       "output_type": "pyout",
       "prompt_number": 11,
       "text": [
        "(array([ 1, 17, 29, 24,  0, 13, 10,  4,  1,  1]),\n",
        " array([ 0. ,  0.8,  1.6,  2.4,  3.2,  4. ,  4.8,  5.6,  6.4,  7.2,  8. ]),\n",
        " <a list of 10 Patch objects>)"
       ]
      },
      {
       "output_type": "display_data",
       "png": "[encoded data removed]"
      }
     ],
     "prompt_number": 11
    },
    {
     "cell_type": "markdown",
     "metadata": {},
     "source": [
      "Going to Warit's example"
     ]
    },
    {
     "cell_type": "code",
     "collapsed": false,
     "input": [
      "exposure_source = 5\n",
      "exposure_clean = 3\n"
     ],
     "language": "python",
     "metadata": {},
     "outputs": [],
     "prompt_number": 13
    },
    {
     "cell_type": "code",
     "collapsed": false,
     "input": [
      "N_clean = 30\n",
      "N_source =55"
     ],
     "language": "python",
     "metadata": {},
     "outputs": [],
     "prompt_number": 14
    },
    {
     "cell_type": "code",
     "collapsed": false,
     "input": [
      "sample_N_clean = poisson.rvs(N_clean, size=1000)\n",
      "sample_N_source = sample_N_clean + poisson.rvs( (N_source-N_clean), size=1000)"
     ],
     "language": "python",
     "metadata": {},
     "outputs": [],
     "prompt_number": 20
    },
    {
     "cell_type": "code",
     "collapsed": false,
     "input": [
      "np.average(sample_N_clean), np.average(sample_N_source), "
     ],
     "language": "python",
     "metadata": {},
     "outputs": [
      {
       "output_type": "pyout",
       "prompt_number": 21,
       "text": [
        "(30.116, 54.933999999999997)"
       ]
      }
     ],
     "prompt_number": 21
    },
    {
     "cell_type": "code",
     "collapsed": false,
     "input": [
      "f_sample = (sample_N_clean +"
     ],
     "language": "python",
     "metadata": {},
     "outputs": []
    }
   ],
   "metadata": {}
  }
 ]
}