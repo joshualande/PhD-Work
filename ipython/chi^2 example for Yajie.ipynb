{
 "metadata": {
  "name": "chi^2 example for Yajie"
 },
 "nbformat": 3,
 "nbformat_minor": 0,
 "worksheets": [
  {
   "cells": [
    {
     "cell_type": "code",
     "collapsed": false,
     "input": [
      "np.random.seed(0)"
     ],
     "language": "python",
     "metadata": {},
     "outputs": [],
     "prompt_number": 92
    },
    {
     "cell_type": "markdown",
     "metadata": {},
     "source": [
      "# Define a model"
     ]
    },
    {
     "cell_type": "code",
     "collapsed": false,
     "input": [
      "model = lambda x,m,b: m*x+b"
     ],
     "language": "python",
     "metadata": {},
     "outputs": [],
     "prompt_number": 93
    },
    {
     "cell_type": "code",
     "collapsed": false,
     "input": [
      "\n",
      "x=np.linspace(-5,5,10)"
     ],
     "language": "python",
     "metadata": {},
     "outputs": [],
     "prompt_number": 94
    },
    {
     "cell_type": "markdown",
     "metadata": {},
     "source": [
      "Define theory parameters"
     ]
    },
    {
     "cell_type": "code",
     "collapsed": false,
     "input": [
      "m_true = 1.5\n",
      "b_true = 2"
     ],
     "language": "python",
     "metadata": {},
     "outputs": [],
     "prompt_number": 95
    },
    {
     "cell_type": "markdown",
     "metadata": {},
     "source": [
      "Plot the 'true' model."
     ]
    },
    {
     "cell_type": "markdown",
     "metadata": {},
     "source": [
      "# Generate 'data' represeting the model"
     ]
    },
    {
     "cell_type": "code",
     "collapsed": false,
     "input": [
      "true_error = 1.5\n",
      "y_data = model(x,m_true,b_true) + np.random.normal(loc=0, scale=true_error, size=len(x))"
     ],
     "language": "python",
     "metadata": {},
     "outputs": [],
     "prompt_number": 96
    },
    {
     "cell_type": "markdown",
     "metadata": {},
     "source": [
      "# Now, fit the data with a model"
     ]
    },
    {
     "cell_type": "code",
     "collapsed": false,
     "input": [
      "# define initial model guess\n",
      "m_guess = 0\n",
      "b_guess = 0"
     ],
     "language": "python",
     "metadata": {},
     "outputs": [],
     "prompt_number": 97
    },
    {
     "cell_type": "code",
     "collapsed": false,
     "input": [
      "# Now, fit our guess to the data using explicity chi^2 function\n",
      "import scipy.optimize\n",
      "\n",
      "# define chi^2\n",
      "chisq = lambda vector: np.sum(((y_data - model(x,vector[0],vector[1]))/true_error)**2)\n",
      "x_guess = [m_guess,b_guess]\n",
      "    \n",
      "m_best, b_best = x_best=scipy.optimize.fmin(chisq,[1.5,2])\n",
      "print m_best, b_best\n"
     ],
     "language": "python",
     "metadata": {},
     "outputs": [
      {
       "output_type": "stream",
       "stream": "stdout",
       "text": [
        "Optimization terminated successfully.\n",
        "         Current function value: 6.964355\n",
        "         Iterations: 37\n",
        "         Function evaluations: 72\n",
        "1.27032306311 3.10702105993\n"
       ]
      }
     ],
     "prompt_number": 98
    },
    {
     "cell_type": "code",
     "collapsed": false,
     "input": [
      "# Alternately, do so easily using curve_fit\n",
      "\n",
      "(m_fit, b_fit), cov = scipy.optimize.curve_fit(model,x,y_data,\n",
      "                                               sigma=true_error*np.ones_like(x))\n",
      "\n",
      "m_error=np.sqrt(cov[0][0])\n",
      "b_error=np.sqrt(cov[1][1])\n",
      "print 'm = %s +/- %s, true=%s, (m_fit-m_true)/error=%s' % (m_fit,m_error, m_true, (m_fit-m_true)/m_error)\n",
      "print 'b = %s +/- %s, true=%s, (b_fit-b_true)/error=%s' % (b_fit,b_error, b_true, (b_fit-b_true)/b_error)"
     ],
     "language": "python",
     "metadata": {},
     "outputs": [
      {
       "output_type": "stream",
       "stream": "stdout",
       "text": [
        "m = 1.27031637362 +/- 0.138676303742, true=1.5, (m_fit-m_true)/error=-1.65625719881\n",
        "b = 3.10703475462 +/- 0.442574841816, true=2, (b_fit-b_true)/error=2.50135039325\n"
       ]
      }
     ],
     "prompt_number": 106
    },
    {
     "cell_type": "markdown",
     "metadata": {},
     "source": [
      "# Now, plot the fit"
     ]
    },
    {
     "cell_type": "code",
     "collapsed": false,
     "input": [
      "# assume you know the 'true error'\n",
      "errorbar(x,y_data,yerr=true_error,marker='*',linestyle='none', label='data')\n",
      "plot(x,model(x,m_true,b_true), label='true model')\n",
      "plot(x,model(x,m_fit,b_fit), label='fit model')\n",
      "plot(x,model(x,m_guess,b_guess), label='initial guess')\n",
      "legend()"
     ],
     "language": "python",
     "metadata": {},
     "outputs": [
      {
       "output_type": "pyout",
       "prompt_number": 102,
       "text": [
        "<matplotlib.legend.Legend at 0x10c4b4350>"
       ]
      },
      {
       "output_type": "display_data",
       "png": "[encoded data removed]"
      }
     ],
     "prompt_number": 102
    }
   ],
   "metadata": {}
  }
 ]
}