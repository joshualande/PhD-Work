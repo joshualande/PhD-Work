{
 "metadata": {
  "name": "04-15-2013 - tevcat Flux Scaling Issue for J1702"
 },
 "nbformat": 3,
 "nbformat_minor": 0,
 "worksheets": [
  {
   "cells": [
    {
     "cell_type": "markdown",
     "metadata": {},
     "source": [
      "# Computing flux of HESS J1702"
     ]
    },
    {
     "cell_type": "markdown",
     "metadata": {},
     "source": [
      "From http://arxiv.org/abs/0712.1173, we can read the spectrum of HESS J1702-\u0004420 from Table 4: \n",
      "\n",
      "* prefactor=(9.1 +/- 1.1)e-12 cm^-2 s^-1 TeV^-1 => prefactor = (9.1 +/- 1.1)e-18 cm^-2 s^-1 MeV^-1\n",
      "* index=2.07 +/- 0.08"
     ]
    },
    {
     "cell_type": "code",
     "collapsed": false,
     "input": [
      "from uw.like.Models import PowerLaw\n",
      "model = PowerLaw(norm=9.1e-18, index=2.07, e0=1e6)\n",
      "model.set_error('norm', 1.1e-18)\n",
      "modelipy.set_error('index',0.08)"
     ],
     "language": "python",
     "metadata": {},
     "outputs": [],
     "prompt_number": 34
    },
    {
     "cell_type": "markdown",
     "metadata": {},
     "source": [
      "Now, compute the energy flux (in units of MeV/cm^2/s"
     ]
    },
    {
     "cell_type": "code",
     "collapsed": false,
     "input": [
      "flux,error=model.i_flux(e_weight=1, emin=1e6, emax=30e6,error=True)"
     ],
     "language": "python",
     "metadata": {},
     "outputs": [],
     "prompt_number": 40
    },
    {
     "cell_type": "markdown",
     "metadata": {},
     "source": [
      "Now, do the unit conversion. Convert from MeV/cm^-2/s to 1e-12*erg/cm^-2/s.\n",
      "\n",
      "This get flux in the sameunits as Romain's tevcat paper Table 10:"
     ]
    },
    {
     "cell_type": "code",
     "collapsed": false,
     "input": [
      "def c(x):\n",
      "    return x*u.MeV.to(1e-12*u.erg)\n",
      "\n",
      "print '%s +/- %s' % (c(flux), c(error))\n"
     ],
     "language": "python",
     "metadata": {},
     "outputs": [
      {
       "output_type": "stream",
       "stream": "stdout",
       "text": [
        "44.1275285771 +/- 7.85449752506\n"
       ]
      }
     ],
     "prompt_number": 48
    },
    {
     "cell_type": "markdown",
     "metadata": {},
     "source": [
      "# For completeness, alternate flux calcuation"
     ]
    },
    {
     "cell_type": "markdown",
     "metadata": {},
     "source": [
      "I am going to calculate the flux again from http://arxiv.org/abs/astro-ph/0510397\n",
      "\n",
      "* Flux = (15.9 +/- 1.8)*1e-12 cm^-2 s^-1 integrated from 200 GeV to infinity.\n",
      "* Index = 2.31 +/- 0.15"
     ]
    },
    {
     "cell_type": "code",
     "collapsed": false,
     "input": [
      "from uw.like.Models import PowerLawFlux\n",
      "model = PowerLawFlux(int_flux=15.9e-12, index=2.31, emin=2e5, emax=np.inf)\n",
      "model.set_error('int_flux', 1.8e-12)\n",
      "model.set_error('index',0.15)\n",
      "#model.set_flux(1.8e-12, )"
     ],
     "language": "python",
     "metadata": {},
     "outputs": [],
     "prompt_number": 62
    },
    {
     "cell_type": "markdown",
     "metadata": {},
     "source": [
      "Doing the same unit conversion"
     ]
    },
    {
     "cell_type": "code",
     "collapsed": false,
     "input": [
      "flux,error=model.i_flux(e_weight=1, emin=1e6, emax=30e6,error=True)\n",
      "print '%s +/- %s' % (c(flux), c(error))"
     ],
     "language": "python",
     "metadata": {},
     "outputs": [
      {
       "output_type": "stream",
       "stream": "stdout",
       "text": [
        " 8.51804330839 +/- 3.03616961079\n"
       ]
      }
     ],
     "prompt_number": 65
    },
    {
     "cell_type": "code",
     "collapsed": false,
     "input": [],
     "language": "python",
     "metadata": {},
     "outputs": []
    }
   ],
   "metadata": {}
  }
 ]
}