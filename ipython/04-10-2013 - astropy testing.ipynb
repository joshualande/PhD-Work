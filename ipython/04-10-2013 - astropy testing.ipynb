{
 "metadata": {
  "name": "04-10-2013 - astropy testing"
 },
 "nbformat": 3,
 "nbformat_minor": 0,
 "worksheets": [
  {
   "cells": [
    {
     "cell_type": "markdown",
     "metadata": {},
     "source": [
      "# Units"
     ]
    },
    {
     "cell_type": "code",
     "collapsed": false,
     "input": [
      "from astropy import units as u\n",
      "u.pc.to(u.m)"
     ],
     "language": "python",
     "metadata": {},
     "outputs": [
      {
       "output_type": "pyout",
       "prompt_number": 2,
       "text": [
        "30856775814671916.0"
       ]
      }
     ],
     "prompt_number": 2
    },
    {
     "cell_type": "code",
     "collapsed": false,
     "input": [
      "cms = u.cm / u.s\n",
      "mph = u.mile / u.hour\n",
      "cms.to(mph, 1)\n",
      "0.02236936292054402"
     ],
     "language": "python",
     "metadata": {},
     "outputs": [
      {
       "output_type": "pyout",
       "prompt_number": 4,
       "text": [
        "0.02236936292054402"
       ]
      }
     ],
     "prompt_number": 4
    },
    {
     "cell_type": "code",
     "collapsed": false,
     "input": [
      "cms.to(mph, [1., 1000., 5000.])"
     ],
     "language": "python",
     "metadata": {},
     "outputs": [
      {
       "output_type": "pyout",
       "prompt_number": 6,
       "text": [
        "array([  2.23693629e-02,   2.23693629e+01,   1.11846815e+02])"
       ]
      }
     ],
     "prompt_number": 6
    },
    {
     "cell_type": "markdown",
     "metadata": {},
     "source": [
      "# Flux -> Luminosity example from tevact"
     ]
    },
    {
     "cell_type": "markdown",
     "metadata": {},
     "source": [
      "For Crab Nebulae, from tevcat_v9:\n",
      "\n",
      "* flux = 486 +/- 188 erg/cm^2/s. \n",
      "* distance = 2.0\u00b10.5 kpc"
     ]
    },
    {
     "cell_type": "code",
     "collapsed": false,
     "input": [
      "L = 486*(1e-12*u.erg/u.cm**2/u.s)  * 4*math.pi*(2*u.kpc)**2\n",
      "L.to(1e34*u.erg/u.s)"
     ],
     "language": "python",
     "metadata": {},
     "outputs": [
      {
       "latex": [
        "$23.2599 \\; \\mathrm{10^{34}\\ \\frac{erg}{s}}$"
       ],
       "output_type": "pyout",
       "prompt_number": 100,
       "text": [
        "<Quantity 23.2598663545 1.000000e+34 erg / (s)>"
       ]
      }
     ],
     "prompt_number": 100
    },
    {
     "cell_type": "code",
     "collapsed": false,
     "input": [
      "unit = (1e-12*u.erg*u.cm**-2*u.s**-1)*(u.kpc**2)\n",
      "fix_units = unit.to(u.erg/u.s)\n",
      "fix_units"
     ],
     "language": "python",
     "metadata": {},
     "outputs": [
      {
       "latex": [
        "$9.52141\\times 10^{+30} \\; \\mathrm{\\frac{erg}{s}}$"
       ],
       "output_type": "pyout",
       "prompt_number": 77,
       "text": [
        "<Quantity 9.52140613677e+30 erg / (s)>"
       ]
      }
     ],
     "prompt_number": 77
    },
    {
     "cell_type": "code",
     "collapsed": false,
     "input": [
      "486*4*math.pi*2**2*unit.to(u.erg/u.s)"
     ],
     "language": "python",
     "metadata": {},
     "outputs": [
      {
       "latex": [
        "$2.32599\\times 10^{+35} \\; \\mathrm{\\frac{erg}{s}}$"
       ],
       "output_type": "pyout",
       "prompt_number": 72,
       "text": [
        "<Quantity 2.32598663545e+35 erg / (s)>"
       ]
      }
     ],
     "prompt_number": 72
    }
   ],
   "metadata": {}
  }
 ]
}