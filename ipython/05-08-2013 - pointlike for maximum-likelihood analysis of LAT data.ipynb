{
 "metadata": {
  "name": "05-08-2013 - pointlike for maximum-likelihood analysis of LAT data"
 },
 "nbformat": 3,
 "nbformat_minor": 0,
 "worksheets": [
  {
   "cells": [
    {
     "cell_type": "markdown",
     "metadata": {},
     "source": [
      "# The Fermi Gamma-ray Space Telescope Overview:"
     ]
    },
    {
     "cell_type": "markdown",
     "metadata": {},
     "source": [
      "\n",
      "\n",
      "<img src=\"http://www-public.slac.stanford.edu/glast/images/FGSTimage.jpg\">\n",
      "\n",
      "The Large Area Telescope (LAT) on board the Fermi Gamma-ray Space Telescope observes the sky in gamma rays, producing a beautiful image of the sky\n",
      "\n",
      "<img width=500 src=\"http://www.nasa.gov/images/content/317876main_Fermi_3_month_unlabeled_new.jpg\">\n",
      "\n",
      "The interesting science is to understand the sources of gamma-rays.\n",
      "### The LAT is composed of 3 sections\n",
      "\n",
      "* the tracker\n",
      "* the calorimiter\n",
      "* the anit-coincidence detector.\n",
      "\n",
      "<img src=\"http://www-glast.stanford.edu/images/LAT_cutaway.png\">\n",
      "\n",
      "### What makes analysis of LAT data complicated\n",
      "\n",
      "* The non-linear response of the LAT to gamma rays. \n",
      "* Faint signals, poisson statistics\n",
      "* Hard to model diffuse backgrounds\n",
      "* Angular resolution strongly depends on energy.\n",
      "\n",
      "### the LAT instrument response \n",
      "\n",
      "Below are the effective area and the PSF of the LAT, which both strongly vary as a function of energy.\n",
      "\n",
      "<img width=400 src=\"http://www.slac.stanford.edu/exp/glast/groups/canda/lat_Performance_files/cAeffEnergy_P7SOURCE_V6.png\">\n",
      "<img width=400 src=\"http://www.slac.stanford.edu/exp/glast/groups/canda/lat_Performance_files/cPsfEnergy_P7SOURCE_V6.png\">"
     ]
    },
    {
     "cell_type": "markdown",
     "metadata": {},
     "source": [
      "To analyze LAT data, we use a maximum-likelihood analysis. This is essentially a forward folding analysis.\n",
      "\n",
      "We assume model of the sky and compute\n",
      "\n",
      "$$\\mathcal{L} = P(\\text{data}|\\text{model}) = \\prod_i \\frac{\\lambda_i^{k_i} e^{-\\lambda_i}}{k_i!}.$$\n",
      "\n",
      "Here, $\\mathcal{L}$ is the likelihood of observing the data given the model. We assume that the sky is binned in position and enrgy. $i$ referes to each bin, $\\lambda_i$ is the model predicted counts in bin $i$, and $k_i$ are the observed counts in each bin.\n",
      "\n",
      "<a href=http://fermi.gsfc.nasa.gov/ssc/data/analysis/scitools/help/gtlike.txt>gtlike</a> is the standard tool for maximum-likelihood analysis of LAT data. But it is slow, difficult to use, and lacks many features needed in day-to-day ALT analysis.\n",
      "\n",
      "I have been involved with the development of pointlike, an alternative package for maximum-likelihood analysis of LAT data:\n",
      "\n",
      "* Pointlike was developed with speed and efficiency in mind -> more important to be fast than right\n",
      "* Developed mostly in python, some underlying/legacy libraries written in C++ and wrapped with SWIG\n",
      "* Extensive use of numpy, scipy, matplotlib, pyfits, PyYAML\n",
      "* Use case is iterative analysis, quickly change aspects of the analysis to asses important systematics.\n",
      "\n",
      "My contributions to the code:\n",
      "\n",
      "* Development of extended source functionality in code\n",
      "* Development of significant plotting capability inside code.\n",
      "* Major improvements to input/output of code, interface to objects\n",
      "* Vastly expand documentation/testing of code\n",
      "* Development and validation of pointlike written up in <a href=\"http://arxiv.org/abs/1207.0027\">Lande et al 2012</a>.\n",
      "\n",
      "Extensivly used analysis code in thesis."
     ]
    },
    {
     "cell_type": "markdown",
     "metadata": {},
     "source": [
      "# Simulating pointlike data with gtobssim"
     ]
    },
    {
     "cell_type": "markdown",
     "metadata": {},
     "source": [
      "Given a model of the sky, LAT data can be simulated using <a href=\"http://polywww.in2p3.fr/activites/physique/glast/workbook/pages/sciTools_gtobssim/sciTools_gtobssim.htm\">gtobssim</a>. \n",
      "\n",
      "For a variety of reasons, gtobssim is unweildly, difficult to use, error prone, and slow.\n",
      "\n",
      "I wrote a wrapper called uw.like.roi_monte_carlo which wraps gtobssim. Most importantly, roi_monte_carlo will automatically generate the gtobssim-style XML file, builds any necessary spectral and spatial files, and performs a mapcube-cutting function which vastly speeds up simulating the background."
     ]
    },
    {
     "cell_type": "markdown",
     "metadata": {},
     "source": [
      "I will run a simple example which simulates two sources and an isotropic background."
     ]
    },
    {
     "cell_type": "code",
     "collapsed": false,
     "input": [
      "# disble those annoying numpy errors\n",
      "np.seterr(all='ignore')"
     ],
     "language": "python",
     "metadata": {},
     "outputs": [
      {
       "output_type": "pyout",
       "prompt_number": 1,
       "text": [
        "{'divide': 'warn', 'invalid': 'warn', 'over': 'warn', 'under': 'ignore'}"
       ]
      }
     ],
     "prompt_number": 1
    },
    {
     "cell_type": "code",
     "collapsed": true,
     "input": [
      "# First, define a temporary directory to work in\n",
      "from os.path import expandvars\n",
      "savedir=expandvars('$HOME/temp')\n",
      "savedir"
     ],
     "language": "python",
     "metadata": {},
     "outputs": [
      {
       "output_type": "pyout",
       "prompt_number": 2,
       "text": [
        "'/u/gl/lande/temp'"
       ]
      }
     ],
     "prompt_number": 2
    },
    {
     "cell_type": "markdown",
     "metadata": {},
     "source": [
      "We define the background model to be the canonical 'Sreekumar' isotropic background (x100 to predict a reasonable number of photons)."
     ]
    },
    {
     "cell_type": "code",
     "collapsed": false,
     "input": [
      "from uw.like.pointspec_helpers import get_default_diffuse\n",
      "from lande.fermi.diffuse.background import get_sreekumar \n",
      "bg = get_sreekumar(diff_factor=100)"
     ],
     "language": "python",
     "metadata": {},
     "outputs": [],
     "prompt_number": 3
    },
    {
     "cell_type": "markdown",
     "metadata": {},
     "source": [
      "Now we define a point-like source."
     ]
    },
    {
     "cell_type": "code",
     "collapsed": false,
     "input": [
      "from uw.like.pointspec_helpers import PointSource\n",
      "from uw.like.Models import PowerLaw\n",
      "from skymaps import SkyDir\n",
      "skydir = SkyDir(30,-60, SkyDir.GALACTIC)\n",
      "ps_model = PowerLaw(norm=1e-9, index=2.5)\n",
      "ps=PointSource(name='ps', model=ps_model, skydir=skydir)\n",
      "print ps"
     ],
     "language": "python",
     "metadata": {},
     "outputs": [
      {
       "output_type": "stream",
       "stream": "stdout",
       "text": [
        "\n",
        "\n",
        "============================================================\n",
        "Name:\t\tps\n",
        "R.A. (J2000):\t339.52141\n",
        "Dec. (J2000):\t-24.68680\n",
        "Model:\t\tPowerLaw, e0=1000\n",
        "\tNorm      : 1e-09 \n",
        "\tIndex     : 2.5 \n",
        "\tPh. Flux  : 2.11e-05 (DERIVED)\n",
        "\tEn. Flux  : 9.81e-09 (DERIVED)\n"
       ]
      }
     ],
     "prompt_number": 4
    },
    {
     "cell_type": "markdown",
     "metadata": {},
     "source": [
      "We define a spatially-extended source"
     ]
    },
    {
     "cell_type": "code",
     "collapsed": false,
     "input": [
      "from uw.like.roi_extended import ExtendedSource\n",
      "from uw.like.SpatialModels import Disk\n",
      "skydir = SkyDir(30 + 2,-60 + 2, SkyDir.GALACTIC) \n",
      "spatial_model = Disk(sigma=1, center=skydir)\n",
      "ext_model = PowerLaw(norm=3e-9, index=1.5)\n",
      "ext_model.set_flux(5*ps_model.i_flux(1e3,1e5, e_weight=1),emin=1e3,emax=1e5, e_weight=1)\n",
      "ext=ExtendedSource(name='ext', model=ext_model, spatial_model=spatial_model)\n",
      "print ext"
     ],
     "language": "python",
     "metadata": {},
     "outputs": [
      {
       "output_type": "stream",
       "stream": "stdout",
       "text": [
        "\n",
        "\n",
        "============================================================\n",
        "Name:\t\text\n",
        "R.A. (J2000):\t\t337.64885\n",
        "Dec. (J2000):\t\t-23.22669\n",
        "Model:\t\tPowerLaw, e0=1000\n",
        "\tNorm      : 5e-10 \n",
        "\tIndex     : 1.5 \n",
        "\tPh. Flux  : 3.06e-06 (DERIVED)\n",
        "\tEn. Flux  : 1.55e-08 (DERIVED)\n",
        "SpatialModel:\tDisk\n",
        "\tRA        : 337.6\n",
        "\tDEC       : -23.23\n",
        "\tSigma     : 1\n"
       ]
      }
     ],
     "prompt_number": 5
    },
    {
     "cell_type": "markdown",
     "metadata": {},
     "source": [
      "First, we define the simulated data paths"
     ]
    },
    {
     "cell_type": "code",
     "collapsed": false,
     "input": [
      "from os.path import join\n",
      "ft1 = join(savedir, 'ft1.fits')\n",
      "ft2 = join(savedir, 'ft2.fits')"
     ],
     "language": "python",
     "metadata": {},
     "outputs": [],
     "prompt_number": 6
    },
    {
     "cell_type": "markdown",
     "metadata": {},
     "source": [
      "Then, we simulate the data"
     ]
    },
    {
     "cell_type": "code",
     "collapsed": false,
     "input": [
      "from skymaps import SkyDir\n",
      "\n",
      "roi_dir = SkyDir(30, -60, SkyDir.GALACTIC)\n",
      "\n",
      "sources=[ps,bg,ext]\n",
      "\n",
      "from uw.like.roi_monte_carlo import MonteCarlo\n",
      "mc = MonteCarlo(\n",
      "    sources=sources,\n",
      "    seed=0,\n",
      "    emin=1e3,\n",
      "    emax=1e5,\n",
      "    roi_dir=roi_dir,\n",
      "    maxROI=5,\n",
      "    irf='P7SOURCE_V6',\n",
      "    ft1=ft1,\n",
      "    ft2=ft2,\n",
      "    tstart=0,\n",
      "    tstop=604800,\n",
      "    zmax=100,\n",
      "    savedir=savedir\n",
      ")\n",
      "mc.simulate()"
     ],
     "language": "python",
     "metadata": {},
     "outputs": [
      {
       "output_type": "stream",
       "stream": "stdout",
       "text": [
        "Simulating in energy range from 1000 MeV to 100000 MeV\n",
        "working in directory /u/gl/lande/temp\n",
        "Processing source ps\n",
        "Processing source Sreekumar Isotropic x100\n",
        "Processing source ext\n",
        "current pfile settings"
       ]
      },
      {
       "output_type": "stream",
       "stream": "stdout",
       "text": [
        " /u/gl/lande/temp;/nfs/farm/g/glast/u35/ReleaseManagerBuild/redhat6-x86_64-64bit-gcc44/Optimized/ScienceTools/09-31-01/syspfiles\n",
        "time -p gtobssim infile=/u/gl/lande/temp/source_library.xml srclist=/u/gl/lande/temp/source_list.txt scfile=none sctable=\"SC_DATA\" evroot=\"sim\" evtable=\"EVENTS\" simtime=604800.0 ltfrac=0.9 tstart=0.0 nevents=no maxtime=315500000.0 startdate=\"2001-01-01 00:00:00\" offset=0 rockangle=\"INDEF\" use_ac=yes ra=339.521406361 dec=-24.6868042342 radius=10.0 emin=1000.0 emax=100000.0 edisp=yes irfs=\"P7SOURCE_V6\" area=1.0 maxrows=200000000 seed=0 chatter=2 clobber=yes debug=no gui=no mode=\"ql\"\n",
        "added source \"ps\""
       ]
      },
      {
       "output_type": "stream",
       "stream": "stdout",
       "text": [
        "\n",
        "added source \"Sreekumar_Isotropic_x100\"\n",
        "added source \"ext\"\n",
        "Generating events for a simulation time of 604800 seconds....\n",
        "Done.\n",
        "real 75.19\n",
        "user 69.48\n",
        "sys 1.36\n",
        "Applying zenith angle cut (zmax=100) to simulated data\n",
        "time -p gtselect infile=/u/gl/lande/temp/sim_events_0000.fits outfile=/u/gl/lande/temp/ft1_zcut.fits ra=339.521406361 dec=-24.6868042342 rad=10.0 tmin=0.0 tmax=0.0 emin=1000.0 emax=100000.0 zmax=100.0 evclsmin=0 evclsmax=10 evclass=\"INDEF\" convtype=-1 phasemin=0.0 phasemax=1.0 evtable=\"EVENTS\" chatter=2 clobber=yes debug=no gui=no mode=\"ql\"\n",
        "Done."
       ]
      },
      {
       "output_type": "stream",
       "stream": "stdout",
       "text": [
        "\n",
        "real 2.09\n",
        "user 0.47\n",
        "sys 0.40\n"
       ]
      }
     ],
     "prompt_number": 7
    },
    {
     "cell_type": "markdown",
     "metadata": {},
     "source": [
      "# Explore the simulated data"
     ]
    },
    {
     "cell_type": "markdown",
     "metadata": {},
     "source": [
      "We can make a simple plot of the simulated data using the excelent <a href=\"http://leejjoon.github.io/pywcsgrid2/\">pywcsgrid2</a> module.\n",
      "\n",
      "\n",
      "First we have to bin the data in the sky."
     ]
    },
    {
     "cell_type": "code",
     "collapsed": false,
     "input": [
      "import os\n",
      "cmap = join(savedir,\"cmap.fits\")\n",
      "os.system('gtbin evfile=%s scfile=%s outfile=%s algorithm=cmap  \\\n",
      "           nxpix=100 nypix=100 xref=30 yref=-60 coordsys=GAL binsz=0.1 proj=AIT axisrot=0'\n",
      "          % (ft1, ft2, cmap))"
     ],
     "language": "python",
     "metadata": {},
     "outputs": [
      {
       "output_type": "pyout",
       "prompt_number": 8,
       "text": [
        "0"
       ]
      }
     ],
     "prompt_number": 8
    },
    {
     "cell_type": "markdown",
     "metadata": {},
     "source": [
      "Next we can plot the skymap using pywcsgrid2."
     ]
    },
    {
     "cell_type": "code",
     "collapsed": false,
     "input": [
      "import pyfits\n",
      "f=pyfits.open(cmap)\n",
      "\n",
      "import pylab as P\n",
      "import pywcsgrid2\n",
      "P.figure(None,(6,6))\n",
      "pywcsgrid2.subplot(111, header=f[0].header)\n",
      "plt.imshow(f[0].data, origin=\"lower\", interpolation='nearest')\n",
      "grid(color='white', linestyle='-')"
     ],
     "language": "python",
     "metadata": {},
     "outputs": [
      {
       "output_type": "display_data",
       "png": "[encoded data removed]"
      }
     ],
     "prompt_number": 9
    },
    {
     "cell_type": "markdown",
     "metadata": {},
     "source": [
      "Note the two sources, one point source in the center and one extended source on the top left."
     ]
    },
    {
     "cell_type": "markdown",
     "metadata": {},
     "source": [
      "# Now, perform pointlike analysis\n",
      "\n",
      "We can use pointlike to analyze LAT data.\n",
      "\n",
      "The first step to a LAT analysis is to define a ROI (region of interest)."
     ]
    },
    {
     "cell_type": "code",
     "collapsed": false,
     "input": [
      "from skymaps import SkyDir\n",
      "from os.path import join\n",
      "from uw.like.pointspec import DataSpecification, SpectralAnalysis\n",
      "\n",
      "ltcube = join(savedir, 'ltcube.fits')\n",
      "binfile = join(savedir, 'binned.fits')\n",
      "\n",
      "ds=DataSpecification(binfile=binfile,\n",
      "                     ltcube=ltcube,\n",
      "                     ft1files=ft1,\n",
      "                     ft2files=ft2)\n",
      "\n",
      "center=SkyDir(30,-60,SkyDir.GALACTIC)\n",
      "\n",
      "sa=SpectralAnalysis(ds,\n",
      "                    binsperdec=2,\n",
      "                    conv_type=0,\n",
      "                    event_class=2,\n",
      "                    emin=1e3,emax=1e5,\n",
      "                    irf=\"P7SOURCE_V6\",\n",
      "                    roi_dir=center,\n",
      "                    use_weighted_livetime=True,\n",
      "                    maxROI=5,\n",
      "                    minROI=5)\n",
      "roi = sa.roi(point_sources=[ps.copy()], \n",
      "             diffuse_sources=[ext.copy(), bg.copy()])"
     ],
     "language": "python",
     "metadata": {},
     "outputs": [
      {
       "output_type": "stream",
       "stream": "stdout",
       "text": [
        "LivetimeCube file /u/gl/lande/temp/ltcube.fits does not exist: will generate it from the ft2 files\n",
        "loading FT2 file /u/gl/lande/temp/ft2.fits"
       ]
      },
      {
       "output_type": "stream",
       "stream": "stdout",
       "text": [
        " no extension WEIGHTED_EXPOSURE in file /u/gl/lande/temp/ltcube.fits: will generate it from the ft2files\n",
        "loading FT2 file /u/gl/lande/temp/ft2.fits "
       ]
      },
      {
       "output_type": "stream",
       "stream": "stdout",
       "text": [
        "\n",
        "            ###################WARNING!!!##########################\n",
        "            It is STRONGLY recommended that you use a binning comm-\n",
        "            ensurate with CALDB binning.  This can be achieved by \n",
        "            making sure 100 MeV appears in the bin edges (an easy \n",
        "            way is to set emin=100) and that binsperdec is a multi-\n",
        "            ple of 4.  You can choose a subset of these bins in the\n",
        "            likelihood fitting if you want to narrow the energy\n",
        "            bounds.\n",
        "            #######################################################\n",
        "            \n",
        ".....set Data theta cut at 66.4 deg\n",
        "loading 1 FT1 file(s) /u/gl/lande/temp/ft1.fits.../u/gl/lande/temp/ft1.fits\n",
        "selecting event_class 2\n",
        ".....saving binfile /u/gl/lande/temp/binned.fits for subsequent use\n",
        ".....loading binfile /u/gl/lande/temp/binned.fits ..."
       ]
      },
      {
       "output_type": "stream",
       "stream": "stdout",
       "text": [
        " found 8 bands, energies 1000-100000 MeV\n",
        ".....setting up point sources (1 in ROI)..."
       ]
      },
      {
       "output_type": "stream",
       "stream": "stdout",
       "text": [
        " done!\n",
        ".....setting up diffuse/extended backgrounds for 4 bands...\n",
        ".......... ext"
       ]
      },
      {
       "output_type": "stream",
       "stream": "stdout",
       "text": [
        " ...convolving band  1/ 4"
       ]
      },
      {
       "output_type": "stream",
       "stream": "stdout",
       "text": [
        " \b\b\b\b\b\b\b\b\b\b\b\b\b\b\b\b\b\b\b\b\b\b\b\b\b\b"
       ]
      },
      {
       "output_type": "stream",
       "stream": "stdout",
       "text": [
        " ...convolving band  2/ 4"
       ]
      },
      {
       "output_type": "stream",
       "stream": "stdout",
       "text": [
        " \b\b\b\b\b\b\b\b\b\b\b\b\b\b\b\b\b\b\b\b\b\b\b\b\b\b"
       ]
      },
      {
       "output_type": "stream",
       "stream": "stdout",
       "text": [
        " ...convolving band  3/ 4"
       ]
      },
      {
       "output_type": "stream",
       "stream": "stdout",
       "text": [
        " \b\b\b\b\b\b\b\b\b\b\b\b\b\b\b\b\b\b\b\b\b\b\b\b\b\b"
       ]
      },
      {
       "output_type": "stream",
       "stream": "stdout",
       "text": [
        " ...convolving band  4/ 4"
       ]
      },
      {
       "output_type": "stream",
       "stream": "stdout",
       "text": [
        " \b\b\b\b\b\b\b\b\b\b\b\b\b\b\b\b\b\b\b\b\b\b\b\b\b\b"
       ]
      },
      {
       "output_type": "stream",
       "stream": "stdout",
       "text": [
        "\n",
        ".......... Sreekumar Isotropic x100"
       ]
      },
      {
       "output_type": "stream",
       "stream": "stdout",
       "text": [
        " ...convolving band  1/ 4"
       ]
      },
      {
       "output_type": "stream",
       "stream": "stdout",
       "text": [
        " \b\b\b\b\b\b\b\b\b\b\b\b\b\b\b\b\b\b\b\b\b\b\b\b\b\b"
       ]
      },
      {
       "output_type": "stream",
       "stream": "stdout",
       "text": [
        " ...convolving band  2/ 4"
       ]
      },
      {
       "output_type": "stream",
       "stream": "stdout",
       "text": [
        " \b\b\b\b\b\b\b\b\b\b\b\b\b\b\b\b\b\b\b\b\b\b\b\b\b\b"
       ]
      },
      {
       "output_type": "stream",
       "stream": "stdout",
       "text": [
        " ...convolving band  3/ 4"
       ]
      },
      {
       "output_type": "stream",
       "stream": "stdout",
       "text": [
        " \b\b\b\b\b\b\b\b\b\b\b\b\b\b\b\b\b\b\b\b\b\b\b\b\b\b"
       ]
      },
      {
       "output_type": "stream",
       "stream": "stdout",
       "text": [
        " ...convolving band  4/ 4"
       ]
      },
      {
       "output_type": "stream",
       "stream": "stdout",
       "text": [
        " \b\b\b\b\b\b\b\b\b\b\b\b\b\b\b\b\b\b\b\b\b\b\b\b\b\b"
       ]
      },
      {
       "output_type": "stream",
       "stream": "stdout",
       "text": [
        "\n",
        "Warning: No conversion type 1 photons were selected.\n"
       ]
      }
     ],
     "prompt_number": 10
    },
    {
     "cell_type": "markdown",
     "metadata": {},
     "source": [
      "The first thing we can do is print out a summary of the ROI. \n",
      "\n",
      "Note the three sources in our model (a point source, an extended source, and the isotropic background)."
     ]
    },
    {
     "cell_type": "code",
     "collapsed": false,
     "input": [
      "roi.print_summary()"
     ],
     "language": "python",
     "metadata": {},
     "outputs": [
      {
       "output_type": "stream",
       "stream": "stdout",
       "text": [
        " ------------------------------------------------------------------------------------------ \n",
        "\t Nearby sources within 5.0 degrees \n",
        " name               dist        ra       dec        TS     flux8     index      beta    cutoff\n",
        " ps                  0.0   339.521   -24.687       676   2108.18?     2.50?\n",
        " ext                 2.2   337.649   -23.227       819    313.07?     1.50?\n",
        " ------------------------------------------------------------------------------------------\n",
        " \tDiffuse sources\n",
        " ------------------------------------------------------------------------------------------\n",
        " Sreekumar Isotropic x100      0.00?      2.10 \n",
        " ------------------------------------------------------------------------------------------\n",
        " logLikelihood =  -6432.3611764\n",
        " ------------------------------------------------------------------------------------------\n"
       ]
      }
     ],
     "prompt_number": 11
    },
    {
     "cell_type": "markdown",
     "metadata": {},
     "source": [
      "# Fitting the Data\n"
     ]
    },
    {
     "cell_type": "markdown",
     "metadata": {},
     "source": [
      "The next thing we can do is perform a spectral fit of the region. \n",
      "\n",
      "To perform a spectral analysis, we take the poisson likelihood $\\mathcal{L}(\\vec{\\lambda})$ and maximize it by varying the spectral parameters $\\vec{\\lambda}$ of our model:\n",
      "\n",
      "$$\\vec{\\lambda}_\\text{max} = \\underset{}{\\text{arg }}\\underset{\\vec{\\lambda}}{\\text{max}} \\mathcal{L}(\\vec{\\lambda}) $$\n",
      "\n",
      "Doing this spectral fit in pointlike is easy:"
     ]
    },
    {
     "cell_type": "code",
     "collapsed": false,
     "input": [
      "roi.fit(use_gradient=False)"
     ],
     "language": "python",
     "metadata": {},
     "outputs": [
      {
       "output_type": "stream",
       "stream": "stdout",
       "text": [
        ".....performing likelihood maximization... "
       ]
      },
      {
       "output_type": "stream",
       "stream": "stdout",
       "text": [
        "Optimization terminated successfully.\n",
        "         Current function value: 6427.190834\n",
        "         Iterations: 156\n",
        "         Function evaluations: 261\n",
        "Function value at minimum: 6427.1908\n",
        "Attempting to invert full hessian..."
       ]
      },
      {
       "output_type": "stream",
       "stream": "stdout",
       "text": [
        "\n"
       ]
      },
      {
       "output_type": "pyout",
       "prompt_number": 12,
       "text": [
        "-6427.1908337471277"
       ]
      }
     ],
     "prompt_number": 12
    },
    {
     "cell_type": "markdown",
     "metadata": {},
     "source": [
      "Note that after the fit, the spectral parameters and the likelihood have changed:"
     ]
    },
    {
     "cell_type": "code",
     "collapsed": false,
     "input": [
      "roi.print_summary()"
     ],
     "language": "python",
     "metadata": {},
     "outputs": [
      {
       "output_type": "stream",
       "stream": "stdout",
       "text": [
        " ------------------------------------------------------------------------------------------ \n",
        "\t Nearby sources within 5.0 degrees \n",
        " name               dist        ra       dec        TS     flux8     index      beta    cutoff\n",
        " ps                  0.0   339.521   -24.687       697   2831.03*     2.68!\n",
        " ext                 2.2   337.649   -23.227       858    413.52*     1.60!\n",
        " ------------------------------------------------------------------------------------------\n",
        " \tDiffuse sources\n",
        " ------------------------------------------------------------------------------------------\n",
        " Sreekumar Isotropic x100      0.00!      2.10 \n",
        " ------------------------------------------------------------------------------------------\n",
        " logLikelihood =  -6427.19083375\n",
        " ------------------------------------------------------------------------------------------\n"
       ]
      }
     ],
     "prompt_number": 13
    },
    {
     "cell_type": "markdown",
     "metadata": {},
     "source": [
      "We define the test statistic for the significance of a source as:\n",
      "\n",
      "$$\\text{TS} = 2 ( \\log \\mathcal{L}_1 - \\log \\mathcal{L}_0)$$\n",
      "\n",
      "where $\\mathcal{L}_1$ is the likelihood assuming a model with the source and background and $\\mathcal{L}_0$ is the likelihood assuming just the background.\n",
      "\n",
      "We can compute the likelihood in gtlike easily:"
     ]
    },
    {
     "cell_type": "code",
     "collapsed": false,
     "input": [
      "ts = roi.TS(which='ps')\n",
      "ts"
     ],
     "language": "python",
     "metadata": {},
     "outputs": [
      {
       "output_type": "pyout",
       "prompt_number": 14,
       "text": [
        "697.11931661070594"
       ]
      }
     ],
     "prompt_number": 14
    },
    {
     "cell_type": "markdown",
     "metadata": {},
     "source": [
      "We can fit the position of the source:"
     ]
    },
    {
     "cell_type": "code",
     "collapsed": false,
     "input": [
      "roi.localize(which='ps')\n",
      "roi.print_ellipse()"
     ],
     "language": "python",
     "metadata": {},
     "outputs": [
      {
       "output_type": "stream",
       "stream": "stdout",
       "text": [
        "Localizing source ps, tolerance=1.0e-03...\n",
        "\t     moved     delta        ra       dec         a         b      qual\n",
        "\t    0.0000    0.0000  339.5214  -24.6868\n",
        "\t    0.0160    0.0160  339.5151  -24.7017    0.0056    0.0054   15.5344\n",
        "\t    0.0038    0.0197  339.5137  -24.7053    0.0152    0.0146    1.7822"
       ]
      },
      {
       "output_type": "stream",
       "stream": "stdout",
       "text": [
        "\n",
        "\t    0.0002    0.0199  339.5136  -24.7053    0.0160    0.0153    0.1072"
       ]
      },
      {
       "output_type": "stream",
       "stream": "stdout",
       "text": [
        "\n",
        "TS change: 1.72\n",
        "        ra       dec         a         b       ang      qual\n",
        "  339.5136  -24.7053    0.0160    0.0153  -78.2378    0.1072    0.0063\n"
       ]
      }
     ],
     "prompt_number": 15
    },
    {
     "cell_type": "markdown",
     "metadata": {},
     "source": [
      "We can fit the extension of extended sources"
     ]
    },
    {
     "cell_type": "code",
     "collapsed": false,
     "input": [
      "roi.fit_extension(which='ext', estimate_errors=False, maxcalls=7)"
     ],
     "language": "python",
     "metadata": {},
     "outputs": [
      {
       "output_type": "stream",
       "stream": "stdout",
       "text": [
        "Localizing Disk source ext Using Spectral Fits\n",
        "center = [ 337.649d, -23.227d ], ext = [ 1.000d ], logL = -6427.191, dlogL = 0.000"
       ]
      },
      {
       "output_type": "stream",
       "stream": "stdout",
       "text": [
        "\n",
        "center = [ 337.649d, -23.227d ], ext = [ 1.000d ], logL = -6427.191, dlogL = 0.000"
       ]
      },
      {
       "output_type": "stream",
       "stream": "stdout",
       "text": [
        "\n",
        "center = [ 337.757d, -23.227d ], ext = [ 1.000d ], logL = -6433.284, dlogL = -6.093"
       ]
      },
      {
       "output_type": "stream",
       "stream": "stdout",
       "text": [
        "\n",
        "center = [ 337.605d, -23.227d ], ext = [ 1.000d ], logL = -6426.984, dlogL = 0.207"
       ]
      },
      {
       "output_type": "stream",
       "stream": "stdout",
       "text": [
        "\n",
        "center = [ 337.475d, -23.227d ], ext = [ 1.000d ], logL = -6436.239, dlogL = -9.048"
       ]
      },
      {
       "output_type": "stream",
       "stream": "stdout",
       "text": [
        "\n",
        "center = [ 337.605d, -23.127d ], ext = [ 1.000d ], logL = -6431.734, dlogL = -4.543"
       ]
      },
      {
       "output_type": "stream",
       "stream": "stdout",
       "text": [
        "\n",
        "center = [ 337.605d, -23.267d ], ext = [ 1.000d ], logL = -6427.146, dlogL = 0.045"
       ]
      },
      {
       "output_type": "stream",
       "stream": "stdout",
       "text": [
        "\n",
        "center = [ 337.605d, -23.386d ], ext = [ 1.000d ], logL = -6435.434, dlogL = -8.243"
       ]
      },
      {
       "output_type": "stream",
       "stream": "stdout",
       "text": [
        "\n",
        "center = [ 337.605d, -23.267d ], ext = [ 1.094d ], logL = -6436.869, dlogL = -9.678"
       ]
      },
      {
       "output_type": "stream",
       "stream": "stdout",
       "text": [
        "\n",
        "center = [ 337.605d, -23.267d ], ext = [ 0.964d ], logL = -6425.756, dlogL = 1.435"
       ]
      },
      {
       "output_type": "stream",
       "stream": "stdout",
       "text": [
        "\n",
        "center = [ 337.605d, -23.267d ], ext = [ 0.859d ], logL = -6433.161, dlogL = -5.970"
       ]
      },
      {
       "output_type": "stream",
       "stream": "stdout",
       "text": [
        "\n",
        "center = [ 337.605d, -23.253d ], ext = [ 0.988d ], logL = -6426.288, dlogL = 0.903"
       ]
      },
      {
       "output_type": "stream",
       "stream": "stdout",
       "text": [
        "\n",
        "center = [ 337.605d, -23.267d ], ext = [ 0.964d ], logL = -6425.756, dlogL = 1.435"
       ]
      },
      {
       "output_type": "stream",
       "stream": "stdout",
       "text": [
        "\n",
        "setting source to best fit parameters\n",
        "center = [ 337.605d, -23.267d ], ext = [ 0.964d ], logL = -6425.756, dlogL = 1.435"
       ]
      },
      {
       "output_type": "stream",
       "stream": "stdout",
       "text": [
        "\n"
       ]
      },
      {
       "output_type": "pyout",
       "prompt_number": 16,
       "text": [
        "(SkyDir(337.605,-23.267), 0, 0.056553456461325848, 2.8705341528784629)"
       ]
      }
     ],
     "prompt_number": 16
    },
    {
     "cell_type": "markdown",
     "metadata": {},
     "source": [
      "The best-fit spatial model is:"
     ]
    },
    {
     "cell_type": "code",
     "collapsed": false,
     "input": [
      "print roi.get_source('ext').spatial_model"
     ],
     "language": "python",
     "metadata": {},
     "outputs": [
      {
       "output_type": "stream",
       "stream": "stdout",
       "text": [
        "RA        : 337.6\n",
        "DEC       : -23.27\n",
        "Sigma     : 0.9635\n"
       ]
      }
     ],
     "prompt_number": 17
    },
    {
     "cell_type": "markdown",
     "metadata": {},
     "source": [
      "We can also compute extension significance using $\\text{TS}_\\text{ext}$:\n",
      "\n",
      "$$ \\text{TS}_\\text{ext} = 2(\\log \\mathcal{L}_1 - \\log \\mathcal{L}_0) $$ \n",
      "\n",
      "where $\\mathcal{L}_1$ is the likelihood assuming an extended source and $\\mathcal{L}_0$ is the likelihood assuming a point-like source."
     ]
    },
    {
     "cell_type": "code",
     "collapsed": false,
     "input": [
      "ts_ext = roi.TS_ext(which='ext', refit=False)"
     ],
     "language": "python",
     "metadata": {},
     "outputs": [
      {
       "output_type": "stream",
       "stream": "stdout",
       "text": [
        "...convolving band  1/ 4"
       ]
      },
      {
       "output_type": "stream",
       "stream": "stdout",
       "text": [
        " \b\b\b\b\b\b\b\b\b\b\b\b\b\b\b\b\b\b\b\b\b\b\b\b\b\b"
       ]
      },
      {
       "output_type": "stream",
       "stream": "stdout",
       "text": [
        " ...convolving band  2/ 4"
       ]
      },
      {
       "output_type": "stream",
       "stream": "stdout",
       "text": [
        " \b\b\b\b\b\b\b\b\b\b\b\b\b\b\b\b\b\b\b\b\b\b\b\b\b\b"
       ]
      },
      {
       "output_type": "stream",
       "stream": "stdout",
       "text": [
        " ...convolving band  3/ 4"
       ]
      },
      {
       "output_type": "stream",
       "stream": "stdout",
       "text": [
        " \b\b\b\b\b\b\b\b\b\b\b\b\b\b\b\b\b\b\b\b\b\b\b\b\b\b"
       ]
      },
      {
       "output_type": "stream",
       "stream": "stdout",
       "text": [
        " ...convolving band  4/ 4"
       ]
      },
      {
       "output_type": "stream",
       "stream": "stdout",
       "text": [
        " \b\b\b\b\b\b\b\b\b\b\b\b\b\b\b\b\b\b\b\b\b\b\b\b\b\b"
       ]
      },
      {
       "output_type": "stream",
       "stream": "stdout",
       "text": [
        "\n",
        "Refitting position for the null hypothesis\n",
        ".....performing likelihood maximization... "
       ]
      },
      {
       "output_type": "stream",
       "stream": "stdout",
       "text": [
        "Function value at minimum: 6664.6008\n",
        "Attempting to invert full hessian..."
       ]
      },
      {
       "output_type": "stream",
       "stream": "stdout",
       "text": [
        "\n",
        "Redoing spectral fit in the null hypothesis\n",
        ".....performing likelihood maximization... Function value at minimum: 6664.6009\n",
        "Attempting to invert full hessian..."
       ]
      },
      {
       "output_type": "stream",
       "stream": "stdout",
       "text": [
        "\n",
        "...convolving band  1/ 4"
       ]
      },
      {
       "output_type": "stream",
       "stream": "stdout",
       "text": [
        " \b\b\b\b\b\b\b\b\b\b\b\b\b\b\b\b\b\b\b\b\b\b\b\b\b\b"
       ]
      },
      {
       "output_type": "stream",
       "stream": "stdout",
       "text": [
        " ...convolving band  2/ 4"
       ]
      },
      {
       "output_type": "stream",
       "stream": "stdout",
       "text": [
        " \b\b\b\b\b\b\b\b\b\b\b\b\b\b\b\b\b\b\b\b\b\b\b\b\b\b"
       ]
      },
      {
       "output_type": "stream",
       "stream": "stdout",
       "text": [
        " ...convolving band  3/ 4"
       ]
      },
      {
       "output_type": "stream",
       "stream": "stdout",
       "text": [
        " \b\b\b\b\b\b\b\b\b\b\b\b\b\b\b\b\b\b\b\b\b\b\b\b\b\b"
       ]
      },
      {
       "output_type": "stream",
       "stream": "stdout",
       "text": [
        " ...convolving band  4/ 4"
       ]
      },
      {
       "output_type": "stream",
       "stream": "stdout",
       "text": [
        " \b\b\b\b\b\b\b\b\b\b\b\b\b\b\b\b\b\b\b\b\b\b\b\b\b\b"
       ]
      },
      {
       "output_type": "stream",
       "stream": "stdout",
       "text": [
        "\n",
        "Attempting to invert full hessian..."
       ]
      },
      {
       "output_type": "stream",
       "stream": "stdout",
       "text": [
        "\n"
       ]
      }
     ],
     "prompt_number": 18
    },
    {
     "cell_type": "code",
     "collapsed": false,
     "input": [
      "print ts_ext"
     ],
     "language": "python",
     "metadata": {},
     "outputs": [
      {
       "output_type": "stream",
       "stream": "stdout",
       "text": [
        "477.690914152\n"
       ]
      }
     ],
     "prompt_number": 19
    },
    {
     "cell_type": "markdown",
     "metadata": {},
     "source": [
      "# SED Plots"
     ]
    },
    {
     "cell_type": "markdown",
     "metadata": {},
     "source": [
      "We can compute the an SED for the sources. An 'SED' plot is the distribution in energy of the emission:"
     ]
    },
    {
     "cell_type": "code",
     "collapsed": false,
     "input": [
      "from lande.fermi.spectra.pointlike import PointlikeSED\n",
      "sed1 = PointlikeSED(roi, name='ps')\n",
      "sed2 = PointlikeSED(roi, name='ext')\n",
      "axes=sed1.plot(spectral_kwargs=dict(color='red'), spectral_error_kwargs=dict(color='red'))\n",
      "sed2.plot(axes=axes,  spectral_kwargs=dict(color='blue'), spectral_error_kwargs=dict(color='blue'))"
     ],
     "language": "python",
     "metadata": {},
     "outputs": [
      {
       "output_type": "pyout",
       "prompt_number": 20,
       "text": [
        "<lande.fermi.likelihood.specplot.SpectralAxes at 0x776d910>"
       ]
      },
      {
       "output_type": "display_data",
       "png": "[encoded data removed]"
      }
     ],
     "prompt_number": 20
    },
    {
     "cell_type": "markdown",
     "metadata": {},
     "source": [
      "What is nice about this code is that the output format is just a YAML dictionary which can be easly loaded later."
     ]
    },
    {
     "cell_type": "code",
     "collapsed": false,
     "input": [
      "sedfile = join(savedir, 'sed_ps.yaml')\n",
      "sed1.save(sedfile)"
     ],
     "language": "python",
     "metadata": {},
     "outputs": [],
     "prompt_number": 21
    },
    {
     "cell_type": "markdown",
     "metadata": {},
     "source": [
      "Note that the file format is very simple and portable"
     ]
    },
    {
     "cell_type": "code",
     "collapsed": false,
     "input": [
      "print open(sedfile).read()"
     ],
     "language": "python",
     "metadata": {},
     "outputs": [
      {
       "output_type": "stream",
       "stream": "stdout",
       "text": [
        "Energy:\n",
        "  Lower: [1000.0, 3162.2776601683795, 10000.0, 31622.776601683792]\n",
        "  Units: MeV\n",
        "  Upper: [3162.2776601683795, 10000.0, 31622.776601683792, 100000.0]\n",
        "  Value: [1778.2794100389228, 5623.413251903491, 17782.794100389227, 56234.13251903491]\n",
        "Significant: [true, true, true, false]\n",
        "dNdE:\n",
        "  Average_Error: [1.300651460987638e-05, 1.4537765755962398e-06, 1.8149961411766215e-07,\n",
        "    .nan]\n",
        "  Lower_Error: [1.3006514609876385e-05, 1.4537765755962392e-06, 1.8149961411766217e-07,\n",
        "    .nan]\n",
        "  Units: ph/cm^2/s/erg\n",
        "  Upper_Error: [1.3006514609876363e-05, 1.4537765755962403e-06, 1.8149961411766212e-07,\n",
        "    .nan]\n",
        "  Upper_Limit: [.nan, .nan, .nan, 8.227949732203812e-08]\n",
        "  Value: [0.00014356987681510283, 6.7129275581136065e-06, 3.6218545335753966e-07,\n",
        "    .nan]\n",
        "spectrum:\n",
        "  Index: 2.679015794390443\n",
        "  Index_err: 0.1501148017672572\n",
        "  Norm: 9.925578023917742e-10\n",
        "  Norm_err: 1.264715337028084e-10\n",
        "  covariance_matrix:\n",
        "  - [1.59950488371406e-20, 1.4464493337680898e-11]\n",
        "  - [1.4464493337680896e-11, 0.022534453709622926]\n",
        "  e0: 1000.0\n",
        "  method: pointlike\n",
        "  name: PowerLaw\n",
        "\n"
       ]
      }
     ],
     "prompt_number": 22
    },
    {
     "cell_type": "markdown",
     "metadata": {},
     "source": [
      "# Iterative analysis in pointlike"
     ]
    },
    {
     "cell_type": "markdown",
     "metadata": {},
     "source": [
      "One of the primary benefits of pointlike is the ability to perform fast iterative analyses. This is often necessary to repidly improve the model of the sky.\n",
      "\n",
      "You can easily save and reload an ROI from a python pickle file."
     ]
    },
    {
     "cell_type": "code",
     "collapsed": false,
     "input": [
      "roiname  = join(savedir, 'roi.dat')\n",
      "roi.save(roiname)"
     ],
     "language": "python",
     "metadata": {},
     "outputs": [],
     "prompt_number": 23
    },
    {
     "cell_type": "code",
     "collapsed": false,
     "input": [
      "from uw.like.roi_save import load\n",
      "\n",
      "roi = load(roiname)"
     ],
     "language": "python",
     "metadata": {},
     "outputs": [
      {
       "output_type": "stream",
       "stream": "stdout",
       "text": [
        "Using gti from /u/gl/lande/temp/ltcube.fits\n",
        "loaded LivetimeCube /u/gl/lande/temp/ltcube.fits "
       ]
      },
      {
       "output_type": "stream",
       "stream": "stdout",
       "text": [
        "\n",
        "loaded LivetimeCube /u/gl/lande/temp/ltcube.fits "
       ]
      },
      {
       "output_type": "stream",
       "stream": "stdout",
       "text": [
        "\n",
        ".....loading binfile /u/gl/lande/temp/binned.fits ... found 8 bands, energies 1000-100000 MeV\n",
        ".....setting up point sources (1 in ROI)..."
       ]
      },
      {
       "output_type": "stream",
       "stream": "stdout",
       "text": [
        " done!\n",
        ".....setting up diffuse/extended backgrounds for 4 bands...\n",
        ".......... ext"
       ]
      },
      {
       "output_type": "stream",
       "stream": "stdout",
       "text": [
        " ...convolving band  1/ 4"
       ]
      },
      {
       "output_type": "stream",
       "stream": "stdout",
       "text": [
        " \b\b\b\b\b\b\b\b\b\b\b\b\b\b\b\b\b\b\b\b\b\b\b\b\b\b"
       ]
      },
      {
       "output_type": "stream",
       "stream": "stdout",
       "text": [
        " ...convolving band  2/ 4"
       ]
      },
      {
       "output_type": "stream",
       "stream": "stdout",
       "text": [
        " \b\b\b\b\b\b\b\b\b\b\b\b\b\b\b\b\b\b\b\b\b\b\b\b\b\b"
       ]
      },
      {
       "output_type": "stream",
       "stream": "stdout",
       "text": [
        " ...convolving band  3/ 4"
       ]
      },
      {
       "output_type": "stream",
       "stream": "stdout",
       "text": [
        " \b\b\b\b\b\b\b\b\b\b\b\b\b\b\b\b\b\b\b\b\b\b\b\b\b\b"
       ]
      },
      {
       "output_type": "stream",
       "stream": "stdout",
       "text": [
        " ...convolving band  4/ 4"
       ]
      },
      {
       "output_type": "stream",
       "stream": "stdout",
       "text": [
        " \b\b\b\b\b\b\b\b\b\b\b\b\b\b\b\b\b\b\b\b\b\b\b\b\b\b"
       ]
      },
      {
       "output_type": "stream",
       "stream": "stdout",
       "text": [
        "\n",
        ".......... Sreekumar Isotropic x100"
       ]
      },
      {
       "output_type": "stream",
       "stream": "stdout",
       "text": [
        " ...convolving band  1/ 4"
       ]
      },
      {
       "output_type": "stream",
       "stream": "stdout",
       "text": [
        " \b\b\b\b\b\b\b\b\b\b\b\b\b\b\b\b\b\b\b\b\b\b\b\b\b\b"
       ]
      },
      {
       "output_type": "stream",
       "stream": "stdout",
       "text": [
        " ...convolving band  2/ 4"
       ]
      },
      {
       "output_type": "stream",
       "stream": "stdout",
       "text": [
        " \b\b\b\b\b\b\b\b\b\b\b\b\b\b\b\b\b\b\b\b\b\b\b\b\b\b"
       ]
      },
      {
       "output_type": "stream",
       "stream": "stdout",
       "text": [
        " ...convolving band  3/ 4"
       ]
      },
      {
       "output_type": "stream",
       "stream": "stdout",
       "text": [
        " \b\b\b\b\b\b\b\b\b\b\b\b\b\b\b\b\b\b\b\b\b\b\b\b\b\b"
       ]
      },
      {
       "output_type": "stream",
       "stream": "stdout",
       "text": [
        " ...convolving band  4/ 4"
       ]
      },
      {
       "output_type": "stream",
       "stream": "stdout",
       "text": [
        " \b\b\b\b\b\b\b\b\b\b\b\b\b\b\b\b\b\b\b\b\b\b\b\b\b\b"
       ]
      },
      {
       "output_type": "stream",
       "stream": "stdout",
       "text": [
        "\n",
        "Warning: No conversion type 1 photons were selected.\n"
       ]
      }
     ],
     "prompt_number": 24
    },
    {
     "cell_type": "markdown",
     "metadata": {},
     "source": [
      "You can remove a source from the ROI:"
     ]
    },
    {
     "cell_type": "code",
     "collapsed": false,
     "input": [
      "ps = roi.del_source(which='ps')"
     ],
     "language": "python",
     "metadata": {},
     "outputs": [
      {
       "output_type": "stream",
       "stream": "stdout",
       "text": [
        ".....setting up point sources (0 in ROI)... done!\n"
       ]
      }
     ],
     "prompt_number": 25
    },
    {
     "cell_type": "markdown",
     "metadata": {},
     "source": [
      "Or add a new source back to the ROI"
     ]
    },
    {
     "cell_type": "code",
     "collapsed": false,
     "input": [
      "roi.add_source(ps)"
     ],
     "language": "python",
     "metadata": {},
     "outputs": [
      {
       "output_type": "stream",
       "stream": "stdout",
       "text": [
        ".....setting up point sources (1 in ROI)... done!\n"
       ]
      }
     ],
     "prompt_number": 26
    },
    {
     "cell_type": "markdown",
     "metadata": {},
     "source": [
      "Or change a spectral model."
     ]
    },
    {
     "cell_type": "code",
     "collapsed": false,
     "input": [
      "from uw.like.Models import BrokenPowerLaw\n",
      "roi.modify(which='ext', model=BrokenPowerLaw(index_1=1, index_2=3, e_break=10000))\n",
      "sed = PointlikeSED(roi, name='ext')\n",
      "sed.plot()"
     ],
     "language": "python",
     "metadata": {},
     "outputs": [
      {
       "output_type": "pyout",
       "prompt_number": 27,
       "text": [
        "<lande.fermi.likelihood.specplot.SpectralAxes at 0x7c6eb50>"
       ]
      },
      {
       "output_type": "display_data",
       "png": "[encoded data removed]"
      }
     ],
     "prompt_number": 27
    },
    {
     "cell_type": "markdown",
     "metadata": {},
     "source": [
      "# Making plots"
     ]
    },
    {
     "cell_type": "markdown",
     "metadata": {},
     "source": [
      "Making plots in pointlike is easy.\n",
      "\n",
      "Here is a counts and model counts map."
     ]
    },
    {
     "cell_type": "code",
     "collapsed": false,
     "input": [
      "roi.plot_counts_map(size=5, figsize=(10,10))"
     ],
     "language": "python",
     "metadata": {},
     "outputs": [
      {
       "output_type": "pyout",
       "prompt_number": 28,
       "text": [
        "<uw.like.mapplots.ROIDisplay at 0x7d44250>"
       ]
      },
      {
       "output_type": "display_data",
       "png": "[encoded data removed]"
      }
     ],
     "prompt_number": 28
    },
    {
     "cell_type": "markdown",
     "metadata": {},
     "source": [
      "Here is a smoothed count smap."
     ]
    },
    {
     "cell_type": "code",
     "collapsed": false,
     "input": [
      "roi.plot_sources(size=5)"
     ],
     "language": "python",
     "metadata": {},
     "outputs": [
      {
       "output_type": "pyout",
       "prompt_number": 34,
       "text": [
        "<uw.like.mapplots.ROISmoothedSources at 0xb298f90>"
       ]
      },
      {
       "output_type": "display_data",
       "png": "[encoded data removed]"
      }
     ],
     "prompt_number": 34
    },
    {
     "cell_type": "markdown",
     "metadata": {},
     "source": [
      "We can also make a 'test statistic' map to search for new sources:"
     ]
    },
    {
     "cell_type": "code",
     "collapsed": false,
     "input": [
      "roi.plot_tsmap(pixelsize=0.25, size=6)"
     ],
     "language": "python",
     "metadata": {},
     "outputs": [
      {
       "output_type": "pyout",
       "prompt_number": 32,
       "text": [
        "<uw.like.mapplots.ROITSMapPlotter at 0x8263910>"
       ]
      },
      {
       "output_type": "display_data",
       "png": "[encoded data removed]"
      }
     ],
     "prompt_number": 32
    },
    {
     "cell_type": "markdown",
     "metadata": {},
     "source": [
      "# Extended Source Analysis in pointlike"
     ]
    },
    {
     "cell_type": "markdown",
     "metadata": {},
     "source": [
      "In <a href=\"http://arxiv.org/abs/1207.0027\">Lande et al 2012</a>, I studied spatially-extended LAT sources.\n",
      "\n",
      "I devloped a detailed Monte-Carlo simulation to demonstrate the effecacy of this tool.\n",
      "\n",
      "<img src=\"files/pointlike_description/ts_ext_cdf.jpg\">\n",
      "\n",
      "I then ran a search for new spatially-extended sources. This search increased the number of extended LAT soruces from 14 to 21.\n",
      "\n",
      "Here is a map in the sky of all spatially-extended sources\n",
      "\n",
      "<img src=\"files/pointlike_description/allsky_extended_sources_color-580x356.jpg\">\n",
      "\n",
      "And here is plots of three sources we found:\n",
      "\n",
      "<img src=\"files/pointlike_description/rx_j1713.jpg\">\n",
      "\n",
      "\n",
      "<img src=\"files/pointlike_description/hess_j1614_j1616.jpg\">\n",
      "\n",
      "<img src=\"files/pointlike_description/spectra.jpg\">"
     ]
    },
    {
     "cell_type": "markdown",
     "metadata": {},
     "source": [
      "# Second Pulsar Catalog"
     ]
    },
    {
     "cell_type": "markdown",
     "metadata": {},
     "source": [
      "<img src=\"files/pointlike_description/off_peak_phase_color.jpg\">\n",
      "\n",
      "<img src=\"files/pointlike_description/off_peak_seds_color.jpg\">\n",
      "\n",
      "<img src=\"files/pointlike_description/off_peak_luminosity_vs_edot_color.jpg\">"
     ]
    }
   ],
   "metadata": {}
  }
 ]
}