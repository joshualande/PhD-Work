{
 "metadata": {
  "name": "pyfits pandas notes"
 },
 "nbformat": 3,
 "nbformat_minor": 0,
 "worksheets": [
  {
   "cells": [
    {
     "cell_type": "markdown",
     "metadata": {},
     "source": [
      "# Testing HDUtoPandas"
     ]
    },
    {
     "cell_type": "code",
     "collapsed": false,
     "input": [
      "import pyfits\n",
      "\n",
      "from os.path import expandvars\n",
      "pf = pyfits.open(expandvars('$lat2pc/OffPeak/auxiliary/off_peak_auxiliary_table.fits'))\n",
      "hdu = pf[\"Off_Peak\"]"
     ],
     "language": "python",
     "metadata": {},
     "outputs": [],
     "prompt_number": 48
    },
    {
     "cell_type": "code",
     "collapsed": false,
     "input": [
      "from pandas import DataFrame\n",
      "def HDUtoPandas(hdu, key=None):\n",
      "    \"\"\" Convert a pyfits hdu to a pandas data structure where the indices in the DataFrame\n",
      "        are one of the columns in the fits file. \"\"\"\n",
      "    names = list(hdu.data.names)\n",
      "\n",
      "    if key is not None: assert key in names\n",
      "\n",
      "    # stip out vector columns (for now)\n",
      "    names = [str(name) for name in names if len(hdu.data[name].shape)==1]\n",
      "    df=DataFrame({n:hdu.data[n] for n in names}, columns=names)\n",
      "\n",
      "    if key is not None: df=df.set_index([key])\n",
      "    return df\n",
      "                                                                                                                                      "
     ],
     "language": "python",
     "metadata": {},
     "outputs": [],
     "prompt_number": 49
    },
    {
     "cell_type": "code",
     "collapsed": false,
     "input": [
      "#from lande.utilities.data import HDUtoPandas\n",
      "p = HDUtoPandas(hdu, key='PSR')"
     ],
     "language": "python",
     "metadata": {},
     "outputs": [],
     "prompt_number": 50
    },
    {
     "cell_type": "markdown",
     "metadata": {},
     "source": [
      "Read out a pulsar:"
     ]
    },
    {
     "cell_type": "code",
     "collapsed": false,
     "input": [
      "print p.ix['J0908-4913']"
     ],
     "language": "python",
     "metadata": {},
     "outputs": [
      {
       "output_type": "stream",
       "stream": "stdout",
       "text": [
        "Classification_OP                     M*\n",
        "Min_Phase_OP                        0.66\n",
        "Max_Phase_OP                        0.04\n",
        "Min_2_Phase_OP                      0.17\n",
        "Max_2_Phase_OP                      0.54\n",
        "TS_point_OP                     65.07285\n",
        "TS_ext_OP                       41.43753\n",
        "TS_cutoff_OP                    60.37817\n",
        "TS_var_OP                       31.99337\n",
        "Spectral_Model_OP       PLSuperExpCutoff\n",
        "Flux_OP                     5.128641e-08\n",
        "Unc_Flux_OP                 5.080097e-09\n",
        "EFlux_OP                    3.038058e-11\n",
        "Unc_EFlux_OP                1.067074e-11\n",
        "Prefactor_OP                0.0001275787\n",
        "Unc_Prefactor_OP            0.0001275787\n",
        "Normalization_OP                     NaN\n",
        "Unc_Normalization_OP                 NaN\n",
        "Scale_OP                            1000\n",
        "Index_OP                       0.1476051\n",
        "Unc_Index_OP                   0.5879437\n",
        "Energy_Cutoff_OP                295.4322\n",
        "Unc_Energy_Cutoff_OP            8.895105\n",
        "Spatial_Model_OP               At_Pulsar\n",
        "RAJ2000_OP                       137.148\n",
        "DECJ2000_OP                    -49.21847\n",
        "GLON_OP                          270.266\n",
        "GLAT_OP                        -1.018726\n",
        "Unc_Position_OP                      NaN\n",
        "Extension_OP                         NaN\n",
        "Unc_Extension_OP                     NaN\n",
        "PowerLaw_Flux_UL_OP                  NaN\n",
        "PowerLaw_EFlux_UL_OP                 NaN\n",
        "Cutoff_Flux_UL_OP                    NaN\n",
        "Cutoff_EFlux_UL_OP                   NaN\n",
        "Name: J0908-4913\n"
       ]
      }
     ],
     "prompt_number": 60
    },
    {
     "cell_type": "markdown",
     "metadata": {},
     "source": [
      "Read out multiple classifications"
     ]
    },
    {
     "cell_type": "code",
     "collapsed": false,
     "input": [
      "print p['Classification_OP'][:30]"
     ],
     "language": "python",
     "metadata": {},
     "outputs": [
      {
       "output_type": "stream",
       "stream": "stdout",
       "text": [
        "PSR\n",
        "J0007+7303     U\n",
        "J0023+0923     L\n",
        "J0030+0451     L\n",
        "J0034-0534     U\n",
        "J0101-6422     L\n",
        "J0102+4839     U\n",
        "J0106+4855     L\n",
        "J0205+6449     W\n",
        "J0218+4232     U\n",
        "J0248+6021     L\n",
        "J0340+4130     M\n",
        "J0357+3205     L\n",
        "J0437-4715     L\n",
        "J0534+2200     W\n",
        "J0610-2100     L\n",
        "J0613-0200     L\n",
        "J0614-3329     L\n",
        "J0622+3749     L\n",
        "J0631+1036     U\n",
        "J0633+0632     L\n",
        "J0633+1746     M\n",
        "J0659+1414     L\n",
        "J0729-1448     L\n",
        "J0734-1559     M\n",
        "J0742-2822     L\n",
        "J0751+1807     L\n",
        "J0835-4510     W\n",
        "J0908-4913    M*\n",
        "J0940-5428     L\n",
        "J1016-5857     L\n",
        "Name: Classification_OP\n"
       ]
      }
     ],
     "prompt_number": 52
    },
    {
     "cell_type": "markdown",
     "metadata": {},
     "source": [
      "You can easily get the data from the DataFrame. Here, I will examine J0007+7303"
     ]
    },
    {
     "cell_type": "code",
     "collapsed": false,
     "input": [
      "d = p.ix['J0908-4913']\n",
      "print d['Classification_OP']"
     ],
     "language": "python",
     "metadata": {},
     "outputs": [
      {
       "output_type": "stream",
       "stream": "stdout",
       "text": [
        "M*\n"
       ]
      }
     ],
     "prompt_number": 53
    },
    {
     "cell_type": "code",
     "collapsed": false,
     "input": [
      "print d['Unc_Index_OP']"
     ],
     "language": "python",
     "metadata": {},
     "outputs": [
      {
       "output_type": "stream",
       "stream": "stdout",
       "text": [
        "0.587943732738\n"
       ]
      }
     ],
     "prompt_number": 54
    },
    {
     "cell_type": "code",
     "collapsed": false,
     "input": [
      "print d['Unc_Energy_Cutoff_OP']"
     ],
     "language": "python",
     "metadata": {},
     "outputs": [
      {
       "output_type": "stream",
       "stream": "stdout",
       "text": [
        "8.89510536194\n"
       ]
      }
     ],
     "prompt_number": 33
    },
    {
     "cell_type": "code",
     "collapsed": false,
     "input": [
      "print d['EFlux_OP'],d['Unc_EFlux_OP']"
     ],
     "language": "python",
     "metadata": {},
     "outputs": [
      {
       "output_type": "stream",
       "stream": "stdout",
       "text": [
        "3.03805765267e-11 1.06707368636e-11\n"
       ]
      }
     ],
     "prompt_number": 34
    },
    {
     "cell_type": "code",
     "collapsed": false,
     "input": [
      "print d['TS_cutoff_OP']"
     ],
     "language": "python",
     "metadata": {},
     "outputs": [
      {
       "output_type": "stream",
       "stream": "stdout",
       "text": [
        "nan\n"
       ]
      }
     ],
     "prompt_number": 35
    },
    {
     "cell_type": "code",
     "collapsed": false,
     "input": [
      "print p['TS_cutoff_OP'].dropna()\n"
     ],
     "language": "python",
     "metadata": {},
     "outputs": []
    }
   ],
   "metadata": {}
  }
 ]
}