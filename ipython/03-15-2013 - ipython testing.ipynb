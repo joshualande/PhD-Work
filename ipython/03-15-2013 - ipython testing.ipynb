{
 "metadata": {
  "name": "03-15-2013 - ipython testing"
 },
 "nbformat": 3,
 "nbformat_minor": 0,
 "worksheets": [
  {
   "cells": [
    {
     "cell_type": "markdown",
     "metadata": {},
     "source": [
      "Documentation on ipython notebook: http://ipython.org/ipython-doc/dev/interactive/htmlnotebook.html"
     ]
    },
    {
     "cell_type": "markdown",
     "metadata": {},
     "source": [
      "# HTML Formatted class represntation"
     ]
    },
    {
     "cell_type": "markdown",
     "metadata": {},
     "source": [
      "To make your classes have HTML-formatted printout, you can define a _repr_html_ function. See http://ipython.org/ipython-doc/dev/config/integrating.html for documentation."
     ]
    },
    {
     "cell_type": "code",
     "collapsed": false,
     "input": [
      "class Shout(object):\n",
      "    def __init__(self, text):\n",
      "        self.text = text\n",
      "\n",
      "    def _repr_html_(self):\n",
      "        return \"<h1>\" + self.text + \"</h1>\"\n"
     ],
     "language": "python",
     "metadata": {},
     "outputs": [],
     "prompt_number": 2
    },
    {
     "cell_type": "code",
     "collapsed": false,
     "input": [
      "s=Shout('HELLO WORLD')\n",
      "s"
     ],
     "language": "python",
     "metadata": {},
     "outputs": [
      {
       "html": [
        "<h1>HELLO WORLD</h1>"
       ],
       "output_type": "pyout",
       "prompt_number": 3,
       "text": [
        "<__main__.Shout at 0x3070a50>"
       ]
      }
     ],
     "prompt_number": 3
    },
    {
     "cell_type": "markdown",
     "metadata": {},
     "source": [
      "# Testing pause/resume"
     ]
    },
    {
     "cell_type": "code",
     "collapsed": false,
     "input": [
      "print 'start'\n",
      "import time; time.sleep(5)\n",
      "print 'stop'"
     ],
     "language": "python",
     "metadata": {},
     "outputs": [
      {
       "output_type": "stream",
       "stream": "stdout",
       "text": [
        "start\n",
        "stop"
       ]
      },
      {
       "output_type": "stream",
       "stream": "stdout",
       "text": [
        "\n"
       ]
      }
     ],
     "prompt_number": 7
    },
    {
     "cell_type": "markdown",
     "metadata": {},
     "source": [
      "# SHowing I am at SLAC"
     ]
    },
    {
     "cell_type": "code",
     "collapsed": false,
     "input": [
      "import os\n",
      "os.getcwd()"
     ],
     "language": "python",
     "metadata": {},
     "outputs": [
      {
       "output_type": "pyout",
       "prompt_number": 1,
       "text": [
        "'/afs/slac.stanford.edu/u/gl/lande/svn/lande/trunk/ipython'"
       ]
      }
     ],
     "prompt_number": 1
    },
    {
     "cell_type": "code",
     "collapsed": false,
     "input": [],
     "language": "python",
     "metadata": {},
     "outputs": []
    }
   ],
   "metadata": {}
  }
 ]
}