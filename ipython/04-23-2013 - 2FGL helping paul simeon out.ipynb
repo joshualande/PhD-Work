{
 "metadata": {
  "name": "04-23-2013 - 2FGL helping paul simeon out"
 },
 "nbformat": 3,
 "nbformat_minor": 0,
 "worksheets": [
  {
   "cells": [
    {
     "cell_type": "code",
     "collapsed": false,
     "input": [
      "import pyfits"
     ],
     "language": "python",
     "metadata": {},
     "outputs": [],
     "prompt_number": 1
    },
    {
     "cell_type": "code",
     "collapsed": false,
     "input": [
      "f=pyfits.open('/nfs/slac/g/ki/ki03/lande/fermi/catalogs/gll_psc_v08.fit')\n",
      "d = f[1].data"
     ],
     "language": "python",
     "metadata": {},
     "outputs": [],
     "prompt_number": 18
    },
    {
     "cell_type": "markdown",
     "metadata": {},
     "source": [
      "First, we note that all 2FGL extended sources have 'e' in their name"
     ]
    },
    {
     "cell_type": "code",
     "collapsed": false,
     "input": [
      "extended_2fgl_names = [i for i in d['Source_Name'] if 'e' in i]\n",
      "extended_2fgl_names"
     ],
     "language": "python",
     "metadata": {},
     "outputs": [
      {
       "output_type": "pyout",
       "prompt_number": 19,
       "text": [
        "['2FGL J0059.0-7242e',\n",
        " '2FGL J0526.6-6825e',\n",
        " '2FGL J0617.2+2234e',\n",
        " '2FGL J0833.1-4511e',\n",
        " '2FGL J1324.0-4330e',\n",
        " '2FGL J1514.0-5915e',\n",
        " '2FGL J1801.3-2326e',\n",
        " '2FGL J1805.6-2136e',\n",
        " '2FGL J1824.5-1351e',\n",
        " '2FGL J1855.9+0121e',\n",
        " '2FGL J1923.2+1408e',\n",
        " '2FGL J2051.0+3040e']"
       ]
      }
     ],
     "prompt_number": 19
    },
    {
     "cell_type": "markdown",
     "metadata": {},
     "source": [
      "Note that there should be 12 extended sources, as you can read in the paper"
     ]
    },
    {
     "cell_type": "code",
     "collapsed": false,
     "input": [
      "len(extended_2fgl_names)"
     ],
     "language": "python",
     "metadata": {},
     "outputs": [
      {
       "output_type": "pyout",
       "prompt_number": 14,
       "text": [
        "12"
       ]
      }
     ],
     "prompt_number": 14
    },
    {
     "cell_type": "markdown",
     "metadata": {},
     "source": [
      "Now, we note that we can cross references the 2FGL name with the SNR name:\n",
      "\n",
      "Paul wanted 6 extended SNRs. They are included in 2FGL:\n",
      "\n",
      "* IC443 = 2FGL J0617.2+2234e\n",
      "* W44 = 2FGL J1855.9+0121e\n",
      "* W28 = 2FGL J1801.3-2326e\n",
      "* W30 = 2FGL J1805.6-2136e\n",
      "* W44 = 2FGL J1855.9+0121e\n",
      "* W51C = 2FGL J1923.2+1408e\n",
      "\n",
      "Then he wanted one point-like SNR: \n",
      "\n",
      "* W49B = 2FGL J1911.0+0905"
     ]
    },
    {
     "cell_type": "markdown",
     "metadata": {},
     "source": [
      "So in principle we want to plot one of these spectra"
     ]
    },
    {
     "cell_type": "code",
     "collapsed": false,
     "input": [
      "#ic443 = \"2FGL J0617.2+2234e\"\n",
      "w28 = \"2FGL J1801.3-2326e\""
     ],
     "language": "python",
     "metadata": {},
     "outputs": [],
     "prompt_number": 83
    },
    {
     "cell_type": "code",
     "collapsed": false,
     "input": [
      "index = np.where(d['Source_name'] == w28)[0][0]"
     ],
     "language": "python",
     "metadata": {},
     "outputs": [],
     "prompt_number": 84
    },
    {
     "cell_type": "code",
     "collapsed": false,
     "input": [
      "def get_val(val):\n",
      "    ix=d[index]\n",
      "    values = [ix['%s100_300' % val], ix['%s300_1000' % val], ix['%s1000_3000' % val], \n",
      "              ix['%s3000_10000' % val], ix['%s10000_100000' % val]]\n",
      "    return np.array(values)\n",
      "\n",
      "emin = np.asarray([100, 300, 1000, 3000, 10000])\n",
      "emax = np.asarray([300, 1000, 3000, 10000, 100000])"
     ],
     "language": "python",
     "metadata": {},
     "outputs": [],
     "prompt_number": 85
    },
    {
     "cell_type": "code",
     "collapsed": false,
     "input": [
      "flux = get_val(\"Flux\")\n",
      "flux_err = get_val(\"Unc_Flux\")\n",
      "significance = get_val(\"Sqrt_TS\")\n",
      "flux, flux_err, significance, emin, emax"
     ],
     "language": "python",
     "metadata": {},
     "outputs": [
      {
       "output_type": "pyout",
       "prompt_number": 86,
       "text": [
        "(array([  2.46539059e-07,   1.93774085e-07,   4.37057217e-08,\n",
        "         8.37636627e-09,   1.10138287e-09], dtype=float32),\n",
        " array([  3.89794685e-08,   7.46069517e-09,   1.66565450e-09,\n",
        "         5.56344082e-10,   1.88626545e-10], dtype=float32),\n",
        " array([  7.12853432,  28.65374756,  30.94737244,  19.14230156,   7.71435785], dtype=float32),\n",
        " array([  100,   300,  1000,  3000, 10000]),\n",
        " array([   300,   1000,   3000,  10000, 100000]))"
       ]
      }
     ],
     "prompt_number": 86
    },
    {
     "cell_type": "markdown",
     "metadata": {},
     "source": [
      "We want to plot this source, so we need to compute the geometric mean of the energy"
     ]
    },
    {
     "cell_type": "code",
     "collapsed": false,
     "input": [
      "emiddle = np.sqrt(emin*emax)\n",
      "emiddle"
     ],
     "language": "python",
     "metadata": {},
     "outputs": [
      {
       "output_type": "pyout",
       "prompt_number": 87,
       "text": [
        "array([   173.20508076,    547.72255751,   1732.05080757,   5477.22557505,\n",
        "        31622.77660168])"
       ]
      }
     ],
     "prompt_number": 87
    },
    {
     "cell_type": "markdown",
     "metadata": {},
     "source": [
      "# NOTE, flux is not the same thing as prefactor. You need to convert form flux to prefactor usign that stupid integral formula"
     ]
    },
    {
     "cell_type": "code",
     "collapsed": false,
     "input": [
      "prefactor, prefactor_err = magic_function(flux, flux_err)"
     ],
     "language": "python",
     "metadata": {},
     "outputs": [
      {
       "ename": "NameError",
       "evalue": "name 'magic_function' is not defined",
       "output_type": "pyerr",
       "traceback": [
        "\u001b[1;31m---------------------------------------------------------------------------\u001b[0m\n\u001b[1;31mNameError\u001b[0m                                 Traceback (most recent call last)",
        "\u001b[1;32m<ipython-input-92-6cc1a65ee89d>\u001b[0m in \u001b[0;36m<module>\u001b[1;34m()\u001b[0m\n\u001b[1;32m----> 1\u001b[1;33m \u001b[0mprefactor\u001b[0m\u001b[1;33m,\u001b[0m \u001b[0mprefactor_err\u001b[0m \u001b[1;33m=\u001b[0m \u001b[0mmagic_function\u001b[0m\u001b[1;33m(\u001b[0m\u001b[0mflux\u001b[0m\u001b[1;33m,\u001b[0m \u001b[0mflux_err\u001b[0m\u001b[1;33m)\u001b[0m\u001b[1;33m\u001b[0m\u001b[0m\n\u001b[0m",
        "\u001b[1;31mNameError\u001b[0m: name 'magic_function' is not defined"
       ]
      }
     ],
     "prompt_number": 92
    },
    {
     "cell_type": "code",
     "collapsed": false,
     "input": [
      "errorbar(emiddle, emiddle**2*prefactor, yerr=emiddle**2*prefactor_err, marker='*', linestyle='none')\n",
      "xscale('log')\n",
      "yscale('log')"
     ],
     "language": "python",
     "metadata": {},
     "outputs": [
      {
       "ename": "NameError",
       "evalue": "name 'prefactor' is not defined",
       "output_type": "pyerr",
       "traceback": [
        "\u001b[1;31m---------------------------------------------------------------------------\u001b[0m\n\u001b[1;31mNameError\u001b[0m                                 Traceback (most recent call last)",
        "\u001b[1;32m<ipython-input-93-7b1204b91315>\u001b[0m in \u001b[0;36m<module>\u001b[1;34m()\u001b[0m\n\u001b[1;32m----> 1\u001b[1;33m \u001b[0merrorbar\u001b[0m\u001b[1;33m(\u001b[0m\u001b[0memiddle\u001b[0m\u001b[1;33m,\u001b[0m \u001b[0memiddle\u001b[0m\u001b[1;33m**\u001b[0m\u001b[1;36m2\u001b[0m\u001b[1;33m*\u001b[0m\u001b[0mprefactor\u001b[0m\u001b[1;33m,\u001b[0m \u001b[0myerr\u001b[0m\u001b[1;33m=\u001b[0m\u001b[0memiddle\u001b[0m\u001b[1;33m**\u001b[0m\u001b[1;36m2\u001b[0m\u001b[1;33m*\u001b[0m\u001b[0mprefactor_err\u001b[0m\u001b[1;33m,\u001b[0m \u001b[0mmarker\u001b[0m\u001b[1;33m=\u001b[0m\u001b[1;34m'*'\u001b[0m\u001b[1;33m,\u001b[0m \u001b[0mlinestyle\u001b[0m\u001b[1;33m=\u001b[0m\u001b[1;34m'none'\u001b[0m\u001b[1;33m)\u001b[0m\u001b[1;33m\u001b[0m\u001b[0m\n\u001b[0m\u001b[0;32m      2\u001b[0m \u001b[0mxscale\u001b[0m\u001b[1;33m(\u001b[0m\u001b[1;34m'log'\u001b[0m\u001b[1;33m)\u001b[0m\u001b[1;33m\u001b[0m\u001b[0m\n\u001b[0;32m      3\u001b[0m \u001b[0myscale\u001b[0m\u001b[1;33m(\u001b[0m\u001b[1;34m'log'\u001b[0m\u001b[1;33m)\u001b[0m\u001b[1;33m\u001b[0m\u001b[0m\n",
        "\u001b[1;31mNameError\u001b[0m: name 'prefactor' is not defined"
       ]
      }
     ],
     "prompt_number": 93
    },
    {
     "cell_type": "code",
     "collapsed": false,
     "input": [],
     "language": "python",
     "metadata": {},
     "outputs": []
    }
   ],
   "metadata": {}
  }
 ]
}